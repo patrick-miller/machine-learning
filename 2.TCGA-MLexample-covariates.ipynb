{
 "cells": [
  {
   "cell_type": "markdown",
   "metadata": {},
   "source": [
    "# Create a logistic regression model to predict TP53 mutation from gene expression data in TCGA"
   ]
  },
  {
   "cell_type": "code",
   "execution_count": 1,
   "metadata": {
    "collapsed": true
   },
   "outputs": [],
   "source": [
    "import os\n",
    "import urllib\n",
    "import random\n",
    "import warnings\n",
    "\n",
    "import pandas as pd\n",
    "import numpy as np\n",
    "import matplotlib.pyplot as plt\n",
    "import seaborn as sns\n",
    "import vega\n",
    "import json\n",
    "from sklearn import preprocessing\n",
    "from sklearn.linear_model import SGDClassifier\n",
    "from sklearn.model_selection import train_test_split, GridSearchCV, ShuffleSplit\n",
    "from sklearn.metrics import roc_auc_score, roc_curve\n",
    "from sklearn.pipeline import Pipeline\n",
    "from sklearn.preprocessing import StandardScaler\n",
    "from sklearn.feature_selection import SelectKBest\n",
    "from sklearn.decomposition import PCA"
   ]
  },
  {
   "cell_type": "code",
   "execution_count": 2,
   "metadata": {
    "collapsed": true
   },
   "outputs": [],
   "source": [
    "%matplotlib inline\n",
    "plt.style.use('seaborn-notebook')"
   ]
  },
  {
   "cell_type": "markdown",
   "metadata": {},
   "source": [
    "## Specify model configuration"
   ]
  },
  {
   "cell_type": "code",
   "execution_count": 3,
   "metadata": {
    "collapsed": true
   },
   "outputs": [],
   "source": [
    "# We're going to be building a 'TP53' classifier \n",
    "GENE = '7157' # TP53"
   ]
  },
  {
   "cell_type": "markdown",
   "metadata": {},
   "source": [
    "*Here is some [documentation](http://scikit-learn.org/stable/modules/generated/sklearn.linear_model.SGDClassifier.html) regarding the classifier and hyperparameters*\n",
    "\n",
    "*Here is some [information](https://ghr.nlm.nih.gov/gene/TP53) about TP53*"
   ]
  },
  {
   "cell_type": "markdown",
   "metadata": {},
   "source": [
    "## Load Data"
   ]
  },
  {
   "cell_type": "code",
   "execution_count": 4,
   "metadata": {},
   "outputs": [
    {
     "name": "stdout",
     "output_type": "stream",
     "text": [
      "CPU times: user 1min 19s, sys: 6.25 s, total: 1min 26s\n",
      "Wall time: 1min 28s\n"
     ]
    }
   ],
   "source": [
    "%%time\n",
    "path = os.path.join('download', 'expression-matrix.tsv.bz2')\n",
    "expression = pd.read_table(path, index_col=0)"
   ]
  },
  {
   "cell_type": "code",
   "execution_count": 5,
   "metadata": {},
   "outputs": [
    {
     "name": "stdout",
     "output_type": "stream",
     "text": [
      "CPU times: user 51.8 s, sys: 1.08 s, total: 52.9 s\n",
      "Wall time: 53 s\n"
     ]
    }
   ],
   "source": [
    "%%time\n",
    "path = os.path.join('download', 'mutation-matrix.tsv.bz2')\n",
    "Y = pd.read_table(path, index_col=0)"
   ]
  },
  {
   "cell_type": "code",
   "execution_count": 6,
   "metadata": {},
   "outputs": [
    {
     "name": "stdout",
     "output_type": "stream",
     "text": [
      "CPU times: user 40 ms, sys: 0 ns, total: 40 ms\n",
      "Wall time: 44.1 ms\n"
     ]
    }
   ],
   "source": [
    "%%time\n",
    "path = os.path.join('download', 'covariates.tsv')\n",
    "covariates = pd.read_table(path, index_col=0)\n",
    "\n",
    "# Select acronym_x and n_mutations_log1p covariates only\n",
    "selected_cols = [col for col in covariates.columns if 'acronym_' in col]\n",
    "selected_cols.append('n_mutations_log1p')\n",
    "covariates = covariates[selected_cols]"
   ]
  },
  {
   "cell_type": "code",
   "execution_count": 7,
   "metadata": {
    "collapsed": true
   },
   "outputs": [],
   "source": [
    "y = Y[GENE]"
   ]
  },
  {
   "cell_type": "code",
   "execution_count": 8,
   "metadata": {},
   "outputs": [
    {
     "data": {
      "text/plain": [
       "sample_id\n",
       "TCGA-02-0047-01    0\n",
       "TCGA-02-0055-01    1\n",
       "TCGA-02-2483-01    1\n",
       "TCGA-02-2485-01    1\n",
       "TCGA-02-2486-01    0\n",
       "TCGA-04-1348-01    1\n",
       "Name: 7157, dtype: int64"
      ]
     },
     "execution_count": 8,
     "metadata": {},
     "output_type": "execute_result"
    }
   ],
   "source": [
    "# The Series now holds TP53 Mutation Status for each Sample\n",
    "y.head(6)"
   ]
  },
  {
   "cell_type": "code",
   "execution_count": 9,
   "metadata": {},
   "outputs": [
    {
     "data": {
      "text/plain": [
       "0    0.645907\n",
       "1    0.354093\n",
       "Name: 7157, dtype: float64"
      ]
     },
     "execution_count": 9,
     "metadata": {},
     "output_type": "execute_result"
    }
   ],
   "source": [
    "# Here are the percentage of tumors with NF1\n",
    "y.value_counts(True)"
   ]
  },
  {
   "cell_type": "markdown",
   "metadata": {},
   "source": [
    "## Pre-process data set\n",
    "TODO: currently running PCA on both train and test partitions"
   ]
  },
  {
   "cell_type": "code",
   "execution_count": 10,
   "metadata": {
    "collapsed": true
   },
   "outputs": [],
   "source": [
    "# Pre-process expression data for use later\n",
    "n_components = 100\n",
    "scaled_expression = StandardScaler().fit_transform(expression)\n",
    "pca = PCA(n_components).fit(scaled_expression)\n",
    "explained_variance = pca.explained_variance_\n",
    "expression_pca = pca.transform(scaled_expression)\n",
    "expression_pca = pd.DataFrame(expression_pca)\n",
    "expression_pca = expression_pca.set_index(expression.index.values)"
   ]
  },
  {
   "cell_type": "code",
   "execution_count": 11,
   "metadata": {},
   "outputs": [
    {
     "name": "stdout",
     "output_type": "stream",
     "text": [
      "fraction of variance explained: 0.704812987245\n"
     ]
    }
   ],
   "source": [
    "print('fraction of variance explained: ' + str(pca.explained_variance_ratio_.sum()))"
   ]
  },
  {
   "cell_type": "code",
   "execution_count": 12,
   "metadata": {},
   "outputs": [
    {
     "name": "stdout",
     "output_type": "stream",
     "text": [
      "Gene expression matrix shape: 7306, 20468\n",
      "Full feature matrix shape: 7306, 133\n"
     ]
    }
   ],
   "source": [
    "# Create full feature matrix (expression + covariates)\n",
    "X = pd.concat([covariates,expression_pca],axis=1)\n",
    "print('Gene expression matrix shape: {0[0]}, {0[1]}'.format(expression.shape))\n",
    "print('Full feature matrix shape: {0[0]}, {0[1]}'.format(X.shape))"
   ]
  },
  {
   "cell_type": "markdown",
   "metadata": {},
   "source": [
    "## Set aside 10% of the data for testing"
   ]
  },
  {
   "cell_type": "code",
   "execution_count": 13,
   "metadata": {},
   "outputs": [
    {
     "data": {
      "text/plain": [
       "'Size: 133 features, 6,575 training samples, 731 testing samples'"
      ]
     },
     "execution_count": 13,
     "metadata": {},
     "output_type": "execute_result"
    }
   ],
   "source": [
    "# Typically, this can only be done where the number of mutations is large enough\n",
    "train_index, test_index = next(ShuffleSplit(n_splits=2, test_size=0.1, random_state=0).split(y))\n",
    "\n",
    "X_partitions = {\n",
    "    'full': {\n",
    "        'train': X.ix[train_index], \n",
    "        'test': X.ix[test_index]\n",
    "        },\n",
    "    'expressions': {\n",
    "        'train': expression_pca.ix[train_index], \n",
    "        'test': expression_pca.ix[test_index]\n",
    "        },\n",
    "    'covariates': {\n",
    "        'train': covariates.ix[train_index], \n",
    "        'test': covariates.ix[test_index]\n",
    "        }    \n",
    "    } \n",
    "\n",
    "y_train = y[train_index]\n",
    "y_test = y[test_index]\n",
    "\n",
    "'Size: {:,} features, {:,} training samples, {:,} testing samples'.format(\n",
    "    len(X_partitions['full']['train'].columns), \n",
    "    len(X_partitions['full']['train']), \n",
    "    len(X_partitions['full']['test']))"
   ]
  },
  {
   "cell_type": "markdown",
   "metadata": {},
   "source": [
    "## Define pipeline and Cross validation model fitting"
   ]
  },
  {
   "cell_type": "code",
   "execution_count": 14,
   "metadata": {
    "collapsed": true
   },
   "outputs": [],
   "source": [
    "# Parameter Sweep for Hyperparameters\n",
    "param_grid = {\n",
    "    'classify__loss': ['log'],\n",
    "    'classify__penalty': ['elasticnet'],\n",
    "    'classify__alpha': [10 ** x for x in range(-3, 1)],\n",
    "    'classify__l1_ratio': [0, 0.2, 0.8, 1],\n",
    "}\n",
    "\n",
    "pipeline = Pipeline(steps=[\n",
    "    ('standardize', StandardScaler()),\n",
    "    ('classify', SGDClassifier(random_state=0, class_weight='balanced'))\n",
    "])\n",
    "\n",
    "models = ['full', 'expressions', 'covariates']\n",
    "\n",
    "cv_pipelines = {mod: GridSearchCV(estimator=pipeline, \n",
    "                             param_grid=param_grid, \n",
    "                             n_jobs=1, \n",
    "                             scoring='roc_auc') for mod in models}"
   ]
  },
  {
   "cell_type": "code",
   "execution_count": 15,
   "metadata": {},
   "outputs": [
    {
     "name": "stdout",
     "output_type": "stream",
     "text": [
      "Fitting CV for model: full\n",
      "Fitting CV for model: covariates\n",
      "Fitting CV for model: expressions\n",
      "CPU times: user 6.72 s, sys: 14.8 s, total: 21.5 s\n",
      "Wall time: 5.43 s\n"
     ]
    }
   ],
   "source": [
    "%%time\n",
    "for model, pipeline in cv_pipelines.items():\n",
    "    print('Fitting CV for model: {0}'.format(model))\n",
    "    pipeline.fit(X=X_partitions.get(model).get('train'), y=y_train)\n",
    "# cv_pipeline_full.fit(X=X_train_full, y=y_train)"
   ]
  },
  {
   "cell_type": "code",
   "execution_count": 16,
   "metadata": {},
   "outputs": [
    {
     "name": "stdout",
     "output_type": "stream",
     "text": [
      "full: 92.537%\n",
      "{'classify__alpha': 0.1, 'classify__penalty': 'elasticnet', 'classify__l1_ratio': 0, 'classify__loss': 'log'}\n",
      "covariates: 84.259%\n",
      "{'classify__alpha': 0.1, 'classify__penalty': 'elasticnet', 'classify__l1_ratio': 0, 'classify__loss': 'log'}\n",
      "expressions: 91.959%\n",
      "{'classify__alpha': 0.1, 'classify__penalty': 'elasticnet', 'classify__l1_ratio': 0, 'classify__loss': 'log'}\n"
     ]
    }
   ],
   "source": [
    "# Best Params\n",
    "for model, pipeline in cv_pipelines.items():\n",
    "    print('{0}: {1:.3%}'.format(model, pipeline.best_score_))\n",
    "\n",
    "    # Best Params\n",
    "    print(pipeline.best_params_)"
   ]
  },
  {
   "cell_type": "markdown",
   "metadata": {},
   "source": [
    "## Visualize hyperparameters performance"
   ]
  },
  {
   "cell_type": "code",
   "execution_count": 17,
   "metadata": {},
   "outputs": [
    {
     "data": {
      "text/html": [
       "<div>\n",
       "<table border=\"1\" class=\"dataframe\">\n",
       "  <thead>\n",
       "    <tr style=\"text-align: right;\">\n",
       "      <th></th>\n",
       "      <th>mean_fit_time</th>\n",
       "      <th>mean_score_time</th>\n",
       "      <th>mean_test_score</th>\n",
       "      <th>mean_train_score</th>\n",
       "      <th>param_classify__alpha</th>\n",
       "      <th>param_classify__l1_ratio</th>\n",
       "      <th>param_classify__loss</th>\n",
       "      <th>param_classify__penalty</th>\n",
       "      <th>params</th>\n",
       "      <th>rank_test_score</th>\n",
       "      <th>...</th>\n",
       "      <th>split2_test_score</th>\n",
       "      <th>split2_train_score</th>\n",
       "      <th>std_fit_time</th>\n",
       "      <th>std_score_time</th>\n",
       "      <th>std_test_score</th>\n",
       "      <th>std_train_score</th>\n",
       "      <th>classify__alpha</th>\n",
       "      <th>classify__l1_ratio</th>\n",
       "      <th>classify__loss</th>\n",
       "      <th>classify__penalty</th>\n",
       "    </tr>\n",
       "  </thead>\n",
       "  <tbody>\n",
       "    <tr>\n",
       "      <th>0</th>\n",
       "      <td>0.032062</td>\n",
       "      <td>0.003444</td>\n",
       "      <td>0.886926</td>\n",
       "      <td>0.903579</td>\n",
       "      <td>0.001</td>\n",
       "      <td>0</td>\n",
       "      <td>log</td>\n",
       "      <td>elasticnet</td>\n",
       "      <td>{'classify__alpha': 0.001, 'classify__penalty'...</td>\n",
       "      <td>11</td>\n",
       "      <td>...</td>\n",
       "      <td>0.889509</td>\n",
       "      <td>0.905814</td>\n",
       "      <td>0.000558</td>\n",
       "      <td>0.000247</td>\n",
       "      <td>0.006383</td>\n",
       "      <td>0.009607</td>\n",
       "      <td>0.001</td>\n",
       "      <td>0.0</td>\n",
       "      <td>log</td>\n",
       "      <td>elasticnet</td>\n",
       "    </tr>\n",
       "    <tr>\n",
       "      <th>1</th>\n",
       "      <td>0.043467</td>\n",
       "      <td>0.003128</td>\n",
       "      <td>0.901912</td>\n",
       "      <td>0.916187</td>\n",
       "      <td>0.001</td>\n",
       "      <td>0.2</td>\n",
       "      <td>log</td>\n",
       "      <td>elasticnet</td>\n",
       "      <td>{'classify__alpha': 0.001, 'classify__penalty'...</td>\n",
       "      <td>9</td>\n",
       "      <td>...</td>\n",
       "      <td>0.904836</td>\n",
       "      <td>0.920198</td>\n",
       "      <td>0.004416</td>\n",
       "      <td>0.000031</td>\n",
       "      <td>0.002592</td>\n",
       "      <td>0.005190</td>\n",
       "      <td>0.001</td>\n",
       "      <td>0.2</td>\n",
       "      <td>log</td>\n",
       "      <td>elasticnet</td>\n",
       "    </tr>\n",
       "  </tbody>\n",
       "</table>\n",
       "<p>2 rows × 24 columns</p>\n",
       "</div>"
      ],
      "text/plain": [
       "   mean_fit_time  mean_score_time  mean_test_score  mean_train_score  \\\n",
       "0       0.032062         0.003444         0.886926          0.903579   \n",
       "1       0.043467         0.003128         0.901912          0.916187   \n",
       "\n",
       "  param_classify__alpha param_classify__l1_ratio param_classify__loss  \\\n",
       "0                 0.001                        0                  log   \n",
       "1                 0.001                      0.2                  log   \n",
       "\n",
       "  param_classify__penalty                                             params  \\\n",
       "0              elasticnet  {'classify__alpha': 0.001, 'classify__penalty'...   \n",
       "1              elasticnet  {'classify__alpha': 0.001, 'classify__penalty'...   \n",
       "\n",
       "   rank_test_score        ...          split2_test_score  split2_train_score  \\\n",
       "0               11        ...                   0.889509            0.905814   \n",
       "1                9        ...                   0.904836            0.920198   \n",
       "\n",
       "   std_fit_time  std_score_time  std_test_score  std_train_score  \\\n",
       "0      0.000558        0.000247        0.006383         0.009607   \n",
       "1      0.004416        0.000031        0.002592         0.005190   \n",
       "\n",
       "   classify__alpha  classify__l1_ratio  classify__loss  classify__penalty  \n",
       "0            0.001                 0.0             log         elasticnet  \n",
       "1            0.001                 0.2             log         elasticnet  \n",
       "\n",
       "[2 rows x 24 columns]"
      ]
     },
     "execution_count": 17,
     "metadata": {},
     "output_type": "execute_result"
    }
   ],
   "source": [
    "cv_results_df_dict = {model: \n",
    "    pd.concat([\n",
    "        pd.DataFrame(pipeline.cv_results_),\n",
    "        pd.DataFrame.from_records(pipeline.cv_results_['params']),\n",
    "    ], axis='columns') for model, pipeline in cv_pipelines.items()}\n",
    "\n",
    "model = 'full'\n",
    "\n",
    "cv_results_df_dict[model].head(2)"
   ]
  },
  {
   "cell_type": "code",
   "execution_count": 18,
   "metadata": {},
   "outputs": [
    {
     "data": {
      "image/png": "[encoded data removed]",
      "text/plain": [
       "<matplotlib.figure.Figure at 0x7f63aa4b0390>"
      ]
     },
     "metadata": {},
     "output_type": "display_data"
    }
   ],
   "source": [
    "# Cross-validated performance heatmap\n",
    "model = 'full'\n",
    "\n",
    "cv_score_mat = pd.pivot_table(cv_results_df_dict[model],\n",
    "                              values='mean_test_score', \n",
    "                              index='classify__l1_ratio',\n",
    "                              columns='classify__alpha')\n",
    "ax = sns.heatmap(cv_score_mat, annot=True, fmt='.1%')\n",
    "ax.set_xlabel('Regularization strength multiplier (alpha)')\n",
    "ax.set_ylabel('Elastic net mixing parameter (l1_ratio)');"
   ]
  },
  {
   "cell_type": "markdown",
   "metadata": {},
   "source": [
    "## Use Optimal Hyperparameters to Output ROC Curve"
   ]
  },
  {
   "cell_type": "code",
   "execution_count": 19,
   "metadata": {
    "collapsed": true
   },
   "outputs": [],
   "source": [
    "y_pred_dict = {\n",
    "    model: {\n",
    "        'train': pipeline.decision_function(X_partitions[model]['train']),\n",
    "        'test':  pipeline.decision_function(X_partitions[model]['test'])\n",
    "    } for model, pipeline in cv_pipelines.items()\n",
    "}\n",
    "\n",
    "def get_threshold_metrics(y_true, y_pred):\n",
    "    roc_columns = ['fpr', 'tpr', 'threshold']\n",
    "    roc_items = zip(roc_columns, roc_curve(y_true, y_pred))\n",
    "    roc_df = pd.DataFrame.from_items(roc_items)\n",
    "    auroc = roc_auc_score(y_true, y_pred)\n",
    "    return {'auroc': auroc, 'roc_df': roc_df}\n",
    "\n",
    "metrics_dict = {    \n",
    "    model: {\n",
    "        'train': get_threshold_metrics(y_train, y_pred_dict[model]['train']),\n",
    "        'test':  get_threshold_metrics(y_test, y_pred_dict[model]['test'])\n",
    "    } for model in y_pred_dict.keys()\n",
    "}"
   ]
  },
  {
   "cell_type": "code",
   "execution_count": 20,
   "metadata": {},
   "outputs": [
    {
     "data": {
      "text/html": [
       "<div class=\"vega-embed\" id=\"3f00e7a1-5d6c-4c92-9ae6-e57da7073f18\"></div>\n",
       "\n",
       "<style>\n",
       ".vega-embed svg, .vega-embed canvas {\n",
       "  border: 1px dotted gray;\n",
       "}\n",
       "\n",
       ".vega-embed .vega-actions a {\n",
       "  margin-right: 6px;\n",
       "}\n",
       "</style>\n"
      ]
     },
     "metadata": {
      "jupyter-vega": "#3f00e7a1-5d6c-4c92-9ae6-e57da7073f18"
     },
     "output_type": "display_data"
    },
    {
     "data": {
      "application/javascript": [
       "var spec = {\"marks\": [{\"properties\": {\"update\": {\"y\": {\"value\": 0}, \"stroke\": {\"value\": \"red\"}, \"y2\": {\"field\": {\"group\": \"height\"}}, \"x\": {\"signal\": \"index_fpr\", \"scale\": \"xscale\"}}}, \"type\": \"rule\"}, {\"marks\": [{\"properties\": {\"update\": {\"strokeOpacity\": {\"value\": 0.6}, \"stroke\": {\"field\": \"feature_set\", \"scale\": \"colorscale\"}, \"strokeDash\": {\"field\": \"partition\", \"scale\": \"dashscale\"}, \"strokeWidth\": {\"value\": 4}, \"y\": {\"field\": \"true_positive_rate\", \"scale\": \"yscale\"}, \"x\": {\"field\": \"false_positive_rate\", \"scale\": \"xscale\"}}}, \"type\": \"line\"}], \"type\": \"group\", \"from\": {\"data\": \"roc\", \"transform\": [{\"groupby\": \"legend\", \"type\": \"facet\"}]}}, {\"marks\": [{\"marks\": [{\"properties\": {\"update\": {\"fontSize\": {\"value\": 11}, \"y\": {\"value\": 5}, \"x\": {\"value\": 0}, \"fontWeight\": {\"value\": \"bold\"}, \"fill\": {\"value\": \"black\"}, \"text\": {\"template\": \"{{parent.legend}}\"}}}, \"type\": \"text\"}, {\"properties\": {\"update\": {\"y\": {\"value\": 15}, \"fill\": {\"value\": \"black\"}, \"fontSize\": {\"value\": 11}, \"x\": {\"value\": 0}, \"text\": {\"template\": \"TPR: {{parent.agg_true_positive_rate|number: '.3p'}}, FPR: {{index_fpr|number: '.3p'}}, AUC {{parent.lookup.auc|number: '.3p'}}\"}}}, \"type\": \"text\"}], \"properties\": {\"update\": {\"y\": {\"offset\": 5, \"field\": \"lookup.legend_index\", \"scale\": \"legendrow\"}, \"x\": {\"value\": 4}}}, \"type\": \"group\"}], \"properties\": {\"update\": {\"width\": {\"value\": 200}, \"height\": {\"value\": 140}, \"strokeWidth\": {\"value\": 0.5}, \"y\": {\"value\": 100}, \"x\": {\"signal\": \"index_fpr\", \"offset\": 10, \"scale\": \"xscale\"}, \"stroke\": {\"value\": \"black\"}}}, \"type\": \"group\", \"from\": {\"data\": \"roc_index\", \"transform\": [{\"type\": \"lookup\", \"onKey\": \"legend\", \"on\": \"legend_auc\", \"default\": -1, \"keys\": [\"legend\"], \"as\": [\"lookup\"]}, {\"groupby\": \"legend\", \"type\": \"facet\"}]}}], \"scales\": [{\"round\": \"true\", \"type\": \"linear\", \"name\": \"xscale\", \"range\": \"width\", \"domain\": {\"field\": \"false_positive_rate\", \"data\": \"roc\"}, \"zero\": \"true\"}, {\"round\": \"true\", \"type\": \"linear\", \"nice\": \"true\", \"name\": \"yscale\", \"range\": \"height\", \"domain\": {\"field\": \"true_positive_rate\", \"data\": \"roc\"}, \"zero\": \"true\"}, {\"type\": \"ordinal\", \"range\": [\"#FF0000\", \"#5254a3\", \"#fd8d3c\"], \"domain\": {\"field\": \"feature_set\", \"data\": \"roc\"}, \"name\": \"colorscale\"}, {\"type\": \"ordinal\", \"range\": {\"field\": \"strokeDash\", \"data\": \"dash_data\"}, \"domain\": {\"field\": \"partition\", \"data\": \"roc\"}, \"name\": \"dashscale\"}, {\"type\": \"ordinal\", \"range\": {\"field\": \"strokeDash\", \"data\": \"dash_legend\"}, \"domain\": {\"field\": \"partition\", \"data\": \"roc\"}, \"name\": \"dashlegendscale\"}, {\"type\": \"linear\", \"rangeMax\": 110, \"domain\": {\"field\": \"legend_index\", \"data\": \"legend_auc\"}, \"name\": \"legendrow\", \"rangeMin\": 0}], \"data\": [{\"url\": \"jupyter_data/roc_output.csv\", \"name\": \"roc\", \"transform\": [{\"groupby\": [\"partition\", \"feature_set\", \"false_positive_rate\"], \"summarize\": [{\"ops\": [\"min\"], \"field\": \"true_positive_rate\", \"as\": [\"true_positive_rate\"]}], \"type\": \"aggregate\"}, {\"field\": \"legend\", \"expr\": \"datum.partition + ' (' + datum.feature_set + ')'\", \"type\": \"formula\"}], \"format\": {\"type\": \"csv\"}}, {\"source\": \"roc\", \"name\": \"roc_index_lookup\", \"transform\": [{\"test\": \"datum.false_positive_rate >= index_fpr\", \"type\": \"filter\"}, {\"groupby\": [\"legend\"], \"summarize\": [{\"ops\": [\"min\"], \"field\": \"false_positive_rate\", \"as\": [\"min_false_positive_rate\"]}], \"type\": \"aggregate\"}]}, {\"source\": \"roc\", \"name\": \"roc_index\", \"transform\": [{\"type\": \"lookup\", \"onKey\": \"legend\", \"on\": \"roc_index_lookup\", \"default\": -1, \"keys\": [\"legend\"], \"as\": [\"lookup\"]}, {\"test\": \"datum.false_positive_rate == datum.lookup.min_false_positive_rate\", \"type\": \"filter\"}, {\"groupby\": [\"legend\", \"partition\", \"feature_set\"], \"summarize\": [{\"ops\": [\"min\"], \"field\": \"true_positive_rate\", \"as\": [\"agg_true_positive_rate\"]}], \"type\": \"aggregate\"}]}, {\"name\": \"dash_data\", \"values\": [{\"strokeDash\": [0, 0]}, {\"strokeDash\": [5, 7]}]}, {\"name\": \"dash_legend\", \"values\": [{\"strokeDash\": [0, 0]}, {\"strokeDash\": [3, 3]}]}, {\"url\": \"jupyter_data/auc.csv\", \"name\": \"legend_auc\", \"transform\": [{\"field\": \"legend\", \"expr\": \"datum.partition + ' (' + datum.feature_set + ')'\", \"type\": \"formula\"}], \"format\": {\"type\": \"csv\"}}], \"padding\": {\"left\": 70, \"right\": 190, \"top\": 10, \"bottom\": 60}, \"width\": 600, \"legends\": [{\"title\": \"feature set\", \"properties\": {\"legend\": {\"y\": {\"value\": 250}, \"x\": {\"value\": 440}}, \"title\": {\"fontSize\": {\"value\": 16}}, \"symbols\": {\"stroke\": {\"field\": \"data\", \"scale\": \"colorscale\"}, \"shape\": {\"value\": \"M-0.5,-0.0L0.5,0\"}, \"strokeWidth\": {\"value\": 3}, \"size\": {\"value\": 250}}, \"labels\": {\"fontSize\": {\"value\": 15}}}, \"fill\": \"colorscale\"}, {\"stroke\": \"dashlegendscale\", \"title\": \"partition\", \"properties\": {\"legend\": {\"y\": {\"value\": 320}, \"x\": {\"value\": 440}}, \"title\": {\"fontSize\": {\"value\": 16}}, \"symbols\": {\"stroke\": {\"value\": \"black\"}, \"strokeDash\": {\"field\": \"data\", \"scale\": \"dashlegendscale\"}, \"shape\": {\"value\": \"M-0.5,-0.0L0.5,0\"}, \"strokeWidth\": {\"value\": 3}, \"size\": {\"value\": 250}}, \"labels\": {\"fontSize\": {\"value\": 15}, \"text\": {\"field\": \"data\"}}}}], \"signals\": [{\"name\": \"index_fpr\", \"streams\": [{\"expr\": \"clamp(eventX(), 0, eventGroup('root').width)\", \"type\": \"mousemove\", \"scale\": {\"invert\": true, \"name\": \"xscale\"}}], \"init\": 0.4}], \"height\": 400, \"axes\": [{\"title\": \"False positive rate\", \"type\": \"x\", \"scale\": \"xscale\", \"format\": \"%\"}, {\"title\": \"True positive rate\", \"type\": \"y\", \"scale\": \"yscale\", \"format\": \"%\"}]};\n",
       "var selector = \"#3f00e7a1-5d6c-4c92-9ae6-e57da7073f18\";\n",
       "var type = \"vega\";\n",
       "\n",
       "var output_area = this;\n",
       "require(['nbextensions/jupyter-vega/index'], function(vega) {\n",
       "  vega.render(selector, spec, type, output_area);\n",
       "}, function (err) {\n",
       "  if (err.requireType !== 'scripterror') {\n",
       "    throw(err);\n",
       "  }\n",
       "});\n"
      ]
     },
     "metadata": {
      "jupyter-vega": "#3f00e7a1-5d6c-4c92-9ae6-e57da7073f18"
     },
     "output_type": "display_data"
    },
    {
     "data": {
      "image/png": "[encoded data removed]"
     },
     "metadata": {
      "jupyter-vega": "#3f00e7a1-5d6c-4c92-9ae6-e57da7073f18"
     },
     "output_type": "display_data"
    }
   ],
   "source": [
    "# TODO: do not save intermediate files?\n",
    "# Assemble the data for ROC curves\n",
    "model_order = ['full', 'expressions', 'covariates']\n",
    "\n",
    "auc_output = pd.DataFrame()\n",
    "roc_output = pd.DataFrame()\n",
    "\n",
    "for model in model_order:\n",
    "    metrics_partition = metrics_dict[model]\n",
    "    for partition, metrics in metrics_partition.items():\n",
    "        auc_output = auc_output.append(pd.DataFrame({\n",
    "            'partition': [partition],\n",
    "            'feature_set': [model],\n",
    "            'auc': metrics['auroc']\n",
    "        }))\n",
    "        roc_df = metrics['roc_df']\n",
    "        roc_output = roc_output.append(pd.DataFrame({\n",
    "            'false_positive_rate': roc_df.fpr,\n",
    "            'true_positive_rate': roc_df.tpr,\n",
    "            'partition': partition,\n",
    "            'feature_set': model\n",
    "        }))\n",
    "auc_output['legend_index'] = range(len(auc_output.index))\n",
    "\n",
    "roc_output.to_csv('jupyter_data/roc_output.csv', index = False)\n",
    "auc_output.to_csv('jupyter_data/auc.csv', index = False)\n",
    "\n",
    "with open('jupyter_data/roc_vega_spec.json', 'r') as fp:\n",
    "    vega_spec = json.load(fp)\n",
    "    \n",
    "vega.Vega(vega_spec)"
   ]
  },
  {
   "cell_type": "markdown",
   "metadata": {},
   "source": [
    "## What are the classifier coefficients?"
   ]
  },
  {
   "cell_type": "code",
   "execution_count": 21,
   "metadata": {
    "collapsed": true
   },
   "outputs": [],
   "source": [
    "final_pipelines = {\n",
    "    model: pipeline.best_estimator_\n",
    "    for model, pipeline in cv_pipelines.items()\n",
    "}\n",
    "final_classifiers = {\n",
    "    model: pipeline.named_steps['classify']\n",
    "    for model, pipeline in final_pipelines.items()\n",
    "}"
   ]
  },
  {
   "cell_type": "code",
   "execution_count": 22,
   "metadata": {
    "collapsed": true
   },
   "outputs": [],
   "source": [
    "def get_coefficients(classifier, X_mat):\n",
    "    coef_df = pd.DataFrame.from_items([\n",
    "        ('feature', X_mat.columns),\n",
    "        ('weight', classifier.coef_[0]),\n",
    "    ])\n",
    "\n",
    "    coef_df['abs'] = coef_df['weight'].abs()\n",
    "    coef_df = coef_df.sort_values('abs', ascending=False)\n",
    "    \n",
    "    return coef_df\n",
    "\n",
    "coef_df_dict = {\n",
    "    model: get_coefficients(classifier, X_partitions[model]['train'])\n",
    "    for model, classifier in final_classifiers.items()\n",
    "}"
   ]
  },
  {
   "cell_type": "code",
   "execution_count": 23,
   "metadata": {},
   "outputs": [
    {
     "name": "stdout",
     "output_type": "stream",
     "text": [
      "0.0% zero coefficients; 63 negative and 70 positive coefficients\n"
     ]
    },
    {
     "data": {
      "text/html": [
       "<div>\n",
       "<table border=\"1\" class=\"dataframe\">\n",
       "  <thead>\n",
       "    <tr style=\"text-align: right;\">\n",
       "      <th></th>\n",
       "      <th>feature</th>\n",
       "      <th>weight</th>\n",
       "      <th>abs</th>\n",
       "    </tr>\n",
       "  </thead>\n",
       "  <tbody>\n",
       "    <tr>\n",
       "      <th>35</th>\n",
       "      <td>2</td>\n",
       "      <td>-0.339458</td>\n",
       "      <td>0.339458</td>\n",
       "    </tr>\n",
       "    <tr>\n",
       "      <th>32</th>\n",
       "      <td>n_mutations_log1p</td>\n",
       "      <td>0.324050</td>\n",
       "      <td>0.324050</td>\n",
       "    </tr>\n",
       "    <tr>\n",
       "      <th>44</th>\n",
       "      <td>11</td>\n",
       "      <td>-0.277003</td>\n",
       "      <td>0.277003</td>\n",
       "    </tr>\n",
       "    <tr>\n",
       "      <th>57</th>\n",
       "      <td>24</td>\n",
       "      <td>0.257535</td>\n",
       "      <td>0.257535</td>\n",
       "    </tr>\n",
       "    <tr>\n",
       "      <th>71</th>\n",
       "      <td>38</td>\n",
       "      <td>0.246583</td>\n",
       "      <td>0.246583</td>\n",
       "    </tr>\n",
       "    <tr>\n",
       "      <th>62</th>\n",
       "      <td>29</td>\n",
       "      <td>0.235441</td>\n",
       "      <td>0.235441</td>\n",
       "    </tr>\n",
       "    <tr>\n",
       "      <th>33</th>\n",
       "      <td>0</td>\n",
       "      <td>-0.206559</td>\n",
       "      <td>0.206559</td>\n",
       "    </tr>\n",
       "    <tr>\n",
       "      <th>67</th>\n",
       "      <td>34</td>\n",
       "      <td>-0.206115</td>\n",
       "      <td>0.206115</td>\n",
       "    </tr>\n",
       "    <tr>\n",
       "      <th>64</th>\n",
       "      <td>31</td>\n",
       "      <td>-0.195329</td>\n",
       "      <td>0.195329</td>\n",
       "    </tr>\n",
       "    <tr>\n",
       "      <th>27</th>\n",
       "      <td>acronym_THCA</td>\n",
       "      <td>-0.193927</td>\n",
       "      <td>0.193927</td>\n",
       "    </tr>\n",
       "  </tbody>\n",
       "</table>\n",
       "</div>"
      ],
      "text/plain": [
       "              feature    weight       abs\n",
       "35                  2 -0.339458  0.339458\n",
       "32  n_mutations_log1p  0.324050  0.324050\n",
       "44                 11 -0.277003  0.277003\n",
       "57                 24  0.257535  0.257535\n",
       "71                 38  0.246583  0.246583\n",
       "62                 29  0.235441  0.235441\n",
       "33                  0 -0.206559  0.206559\n",
       "67                 34 -0.206115  0.206115\n",
       "64                 31 -0.195329  0.195329\n",
       "27       acronym_THCA -0.193927  0.193927"
      ]
     },
     "execution_count": 23,
     "metadata": {},
     "output_type": "execute_result"
    }
   ],
   "source": [
    "model = 'full'\n",
    "\n",
    "print('{:.1%} zero coefficients; {:,} negative and {:,} positive coefficients'.format(\n",
    "    (coef_df_dict[model].weight == 0).mean(),\n",
    "    (coef_df_dict[model].weight < 0).sum(),\n",
    "    (coef_df_dict[model].weight > 0).sum()\n",
    "))\n",
    "coef_df_dict[model].head(10)"
   ]
  },
  {
   "cell_type": "markdown",
   "metadata": {},
   "source": [
    "## Investigate the predictions"
   ]
  },
  {
   "cell_type": "code",
   "execution_count": 24,
   "metadata": {
    "collapsed": true,
    "scrolled": false
   },
   "outputs": [],
   "source": [
    "model = 'full'\n",
    "\n",
    "X_all = X_partitions[model]['train'].append(X_partitions[model]['test'])\n",
    "X_test_index = X_partitions[model]['test'].index\n",
    "y_all = y_train.append(y_test)\n",
    "\n",
    "predict_df = pd.DataFrame.from_items([\n",
    "    ('sample_id', X_all.index),\n",
    "    ('testing', X_all.index.isin(X_test_index).astype(int)),\n",
    "    ('status', y_all),\n",
    "    ('decision_function', final_pipelines[model].decision_function(X_all)),\n",
    "    ('probability', final_pipelines[model].predict_proba(X_all)[:, 1])\n",
    "])\n",
    "\n",
    "predict_df['probability_str'] = predict_df['probability'].apply('{:.1%}'.format)"
   ]
  },
  {
   "cell_type": "code",
   "execution_count": 25,
   "metadata": {},
   "outputs": [
    {
     "data": {
      "text/html": [
       "<div>\n",
       "<table border=\"1\" class=\"dataframe\">\n",
       "  <thead>\n",
       "    <tr style=\"text-align: right;\">\n",
       "      <th></th>\n",
       "      <th>sample_id</th>\n",
       "      <th>testing</th>\n",
       "      <th>status</th>\n",
       "      <th>decision_function</th>\n",
       "      <th>probability</th>\n",
       "      <th>probability_str</th>\n",
       "    </tr>\n",
       "    <tr>\n",
       "      <th>sample_id</th>\n",
       "      <th></th>\n",
       "      <th></th>\n",
       "      <th></th>\n",
       "      <th></th>\n",
       "      <th></th>\n",
       "      <th></th>\n",
       "    </tr>\n",
       "  </thead>\n",
       "  <tbody>\n",
       "    <tr>\n",
       "      <th>TCGA-L5-A4OH-01</th>\n",
       "      <td>TCGA-L5-A4OH-01</td>\n",
       "      <td>0</td>\n",
       "      <td>0</td>\n",
       "      <td>3.761191</td>\n",
       "      <td>0.977273</td>\n",
       "      <td>97.7%</td>\n",
       "    </tr>\n",
       "    <tr>\n",
       "      <th>TCGA-EI-6513-01</th>\n",
       "      <td>TCGA-EI-6513-01</td>\n",
       "      <td>1</td>\n",
       "      <td>0</td>\n",
       "      <td>3.537008</td>\n",
       "      <td>0.971723</td>\n",
       "      <td>97.2%</td>\n",
       "    </tr>\n",
       "    <tr>\n",
       "      <th>TCGA-22-4591-01</th>\n",
       "      <td>TCGA-22-4591-01</td>\n",
       "      <td>0</td>\n",
       "      <td>0</td>\n",
       "      <td>3.196160</td>\n",
       "      <td>0.960690</td>\n",
       "      <td>96.1%</td>\n",
       "    </tr>\n",
       "    <tr>\n",
       "      <th>TCGA-L5-A8NR-01</th>\n",
       "      <td>TCGA-L5-A8NR-01</td>\n",
       "      <td>0</td>\n",
       "      <td>0</td>\n",
       "      <td>2.962345</td>\n",
       "      <td>0.950844</td>\n",
       "      <td>95.1%</td>\n",
       "    </tr>\n",
       "    <tr>\n",
       "      <th>TCGA-RE-A7BO-01</th>\n",
       "      <td>TCGA-RE-A7BO-01</td>\n",
       "      <td>0</td>\n",
       "      <td>0</td>\n",
       "      <td>2.664928</td>\n",
       "      <td>0.934925</td>\n",
       "      <td>93.5%</td>\n",
       "    </tr>\n",
       "    <tr>\n",
       "      <th>TCGA-46-3765-01</th>\n",
       "      <td>TCGA-46-3765-01</td>\n",
       "      <td>0</td>\n",
       "      <td>0</td>\n",
       "      <td>2.654768</td>\n",
       "      <td>0.934304</td>\n",
       "      <td>93.4%</td>\n",
       "    </tr>\n",
       "    <tr>\n",
       "      <th>TCGA-BA-5149-01</th>\n",
       "      <td>TCGA-BA-5149-01</td>\n",
       "      <td>0</td>\n",
       "      <td>0</td>\n",
       "      <td>2.602380</td>\n",
       "      <td>0.931015</td>\n",
       "      <td>93.1%</td>\n",
       "    </tr>\n",
       "    <tr>\n",
       "      <th>TCGA-24-2298-01</th>\n",
       "      <td>TCGA-24-2298-01</td>\n",
       "      <td>0</td>\n",
       "      <td>0</td>\n",
       "      <td>2.561030</td>\n",
       "      <td>0.928311</td>\n",
       "      <td>92.8%</td>\n",
       "    </tr>\n",
       "    <tr>\n",
       "      <th>TCGA-L5-A4OS-01</th>\n",
       "      <td>TCGA-L5-A4OS-01</td>\n",
       "      <td>0</td>\n",
       "      <td>0</td>\n",
       "      <td>2.534246</td>\n",
       "      <td>0.926508</td>\n",
       "      <td>92.7%</td>\n",
       "    </tr>\n",
       "    <tr>\n",
       "      <th>TCGA-21-1081-01</th>\n",
       "      <td>TCGA-21-1081-01</td>\n",
       "      <td>0</td>\n",
       "      <td>0</td>\n",
       "      <td>2.529144</td>\n",
       "      <td>0.926160</td>\n",
       "      <td>92.6%</td>\n",
       "    </tr>\n",
       "  </tbody>\n",
       "</table>\n",
       "</div>"
      ],
      "text/plain": [
       "                       sample_id  testing  status  decision_function  \\\n",
       "sample_id                                                              \n",
       "TCGA-L5-A4OH-01  TCGA-L5-A4OH-01        0       0           3.761191   \n",
       "TCGA-EI-6513-01  TCGA-EI-6513-01        1       0           3.537008   \n",
       "TCGA-22-4591-01  TCGA-22-4591-01        0       0           3.196160   \n",
       "TCGA-L5-A8NR-01  TCGA-L5-A8NR-01        0       0           2.962345   \n",
       "TCGA-RE-A7BO-01  TCGA-RE-A7BO-01        0       0           2.664928   \n",
       "TCGA-46-3765-01  TCGA-46-3765-01        0       0           2.654768   \n",
       "TCGA-BA-5149-01  TCGA-BA-5149-01        0       0           2.602380   \n",
       "TCGA-24-2298-01  TCGA-24-2298-01        0       0           2.561030   \n",
       "TCGA-L5-A4OS-01  TCGA-L5-A4OS-01        0       0           2.534246   \n",
       "TCGA-21-1081-01  TCGA-21-1081-01        0       0           2.529144   \n",
       "\n",
       "                 probability probability_str  \n",
       "sample_id                                     \n",
       "TCGA-L5-A4OH-01     0.977273           97.7%  \n",
       "TCGA-EI-6513-01     0.971723           97.2%  \n",
       "TCGA-22-4591-01     0.960690           96.1%  \n",
       "TCGA-L5-A8NR-01     0.950844           95.1%  \n",
       "TCGA-RE-A7BO-01     0.934925           93.5%  \n",
       "TCGA-46-3765-01     0.934304           93.4%  \n",
       "TCGA-BA-5149-01     0.931015           93.1%  \n",
       "TCGA-24-2298-01     0.928311           92.8%  \n",
       "TCGA-L5-A4OS-01     0.926508           92.7%  \n",
       "TCGA-21-1081-01     0.926160           92.6%  "
      ]
     },
     "execution_count": 25,
     "metadata": {},
     "output_type": "execute_result"
    }
   ],
   "source": [
    "# Top predictions amongst negatives (potential hidden responders)\n",
    "predict_df.sort_values('decision_function', ascending=False).query(\"status == 0\").head(10)"
   ]
  },
  {
   "cell_type": "code",
   "execution_count": 26,
   "metadata": {},
   "outputs": [
    {
     "data": {
      "image/png": "[encoded data removed]",
      "text/plain": [
       "<matplotlib.figure.Figure at 0x7f6352ca92b0>"
      ]
     },
     "metadata": {},
     "output_type": "display_data"
    }
   ],
   "source": [
    "# Ignore numpy warning caused by seaborn\n",
    "warnings.filterwarnings('ignore', 'using a non-integer number instead of an integer')\n",
    "\n",
    "ax = sns.distplot(predict_df.query(\"status == 0\").decision_function, hist=False, label='Negatives')\n",
    "ax = sns.distplot(predict_df.query(\"status == 1\").decision_function, hist=False, label='Positives')"
   ]
  },
  {
   "cell_type": "code",
   "execution_count": 27,
   "metadata": {},
   "outputs": [
    {
     "data": {
      "image/png": "[encoded data removed]",
      "text/plain": [
       "<matplotlib.figure.Figure at 0x7f62feeb5c18>"
      ]
     },
     "metadata": {},
     "output_type": "display_data"
    }
   ],
   "source": [
    "ax = sns.distplot(predict_df.query(\"status == 0\").probability, hist=False, label='Negatives')\n",
    "ax = sns.distplot(predict_df.query(\"status == 1\").probability, hist=False, label='Positives')"
   ]
  }
 ],
 "metadata": {
  "kernelspec": {
   "display_name": "Python 3",
   "language": "python",
   "name": "python3"
  },
  "language_info": {
   "codemirror_mode": {
    "name": "ipython",
    "version": 3
   },
   "file_extension": ".py",
   "mimetype": "text/x-python",
   "name": "python",
   "nbconvert_exporter": "python",
   "pygments_lexer": "ipython3",
   "version": "3.5.2"
  }
 },
 "nbformat": 4,
 "nbformat_minor": 1
}
