{
 "cells": [
  {
   "cell_type": "markdown",
   "metadata": {},
   "source": [
    "# Create a logistic regression model to predict TP53 mutation from gene expression data in TCGA"
   ]
  },
  {
   "cell_type": "code",
   "execution_count": 178,
   "metadata": {
    "collapsed": true
   },
   "outputs": [],
   "source": [
    "import os\n",
    "import urllib\n",
    "import random\n",
    "import warnings\n",
    "\n",
    "import pandas as pd\n",
    "import numpy as np\n",
    "import matplotlib.pyplot as plt\n",
    "import seaborn as sns\n",
    "from sklearn import preprocessing\n",
    "from sklearn.linear_model import SGDClassifier\n",
    "from sklearn.model_selection import train_test_split, GridSearchCV, ShuffleSplit\n",
    "from sklearn.metrics import roc_auc_score, roc_curve\n",
    "from sklearn.pipeline import Pipeline\n",
    "from sklearn.preprocessing import StandardScaler\n",
    "from sklearn.feature_selection import SelectKBest\n",
    "from sklearn.decomposition import PCA\n",
    "from statsmodels.robust.scale import mad"
   ]
  },
  {
   "cell_type": "code",
   "execution_count": 179,
   "metadata": {
    "collapsed": true
   },
   "outputs": [],
   "source": [
    "%matplotlib inline\n",
    "plt.style.use('seaborn-notebook')"
   ]
  },
  {
   "cell_type": "markdown",
   "metadata": {},
   "source": [
    "## Specify model configuration"
   ]
  },
  {
   "cell_type": "code",
   "execution_count": 180,
   "metadata": {
    "collapsed": true
   },
   "outputs": [],
   "source": [
    "# We're going to be building a 'TP53' classifier \n",
    "GENE = '7157' # TP53"
   ]
  },
  {
   "cell_type": "markdown",
   "metadata": {},
   "source": [
    "*Here is some [documentation](http://scikit-learn.org/stable/modules/generated/sklearn.linear_model.SGDClassifier.html) regarding the classifier and hyperparameters*\n",
    "\n",
    "*Here is some [information](https://ghr.nlm.nih.gov/gene/TP53) about TP53*"
   ]
  },
  {
   "cell_type": "markdown",
   "metadata": {},
   "source": [
    "## Load Data"
   ]
  },
  {
   "cell_type": "code",
   "execution_count": 181,
   "metadata": {},
   "outputs": [
    {
     "name": "stdout",
     "output_type": "stream",
     "text": [
      "CPU times: user 1min 20s, sys: 5.73 s, total: 1min 26s\n",
      "Wall time: 1min 27s\n"
     ]
    }
   ],
   "source": [
    "%%time\n",
    "path = os.path.join('download', 'expression-matrix.tsv.bz2')\n",
    "expression = pd.read_table(path, index_col=0)"
   ]
  },
  {
   "cell_type": "code",
   "execution_count": 182,
   "metadata": {},
   "outputs": [
    {
     "name": "stdout",
     "output_type": "stream",
     "text": [
      "CPU times: user 51.4 s, sys: 240 ms, total: 51.6 s\n",
      "Wall time: 51.7 s\n"
     ]
    }
   ],
   "source": [
    "%%time\n",
    "path = os.path.join('download', 'mutation-matrix.tsv.bz2')\n",
    "Y = pd.read_table(path, index_col=0)"
   ]
  },
  {
   "cell_type": "code",
   "execution_count": 183,
   "metadata": {},
   "outputs": [
    {
     "name": "stdout",
     "output_type": "stream",
     "text": [
      "CPU times: user 80 ms, sys: 0 ns, total: 80 ms\n",
      "Wall time: 191 ms\n"
     ]
    }
   ],
   "source": [
    "%%time\n",
    "path = os.path.join('download', 'covariates.tsv')\n",
    "covariates = pd.read_table(path, index_col=0)\n",
    "\n",
    "# Select acronym_x and n_mutations_log1p covariates only\n",
    "selected_cols = [col for col in covariates.columns if 'acronym_' in col]\n",
    "selected_cols.append('n_mutations_log1p')\n",
    "covariates = covariates[selected_cols]"
   ]
  },
  {
   "cell_type": "code",
   "execution_count": 184,
   "metadata": {
    "collapsed": true
   },
   "outputs": [],
   "source": [
    "y = Y[GENE]"
   ]
  },
  {
   "cell_type": "code",
   "execution_count": 185,
   "metadata": {},
   "outputs": [
    {
     "data": {
      "text/plain": [
       "sample_id\n",
       "TCGA-02-0047-01    0\n",
       "TCGA-02-0055-01    1\n",
       "TCGA-02-2483-01    1\n",
       "TCGA-02-2485-01    1\n",
       "TCGA-02-2486-01    0\n",
       "TCGA-04-1348-01    1\n",
       "Name: 7157, dtype: int64"
      ]
     },
     "execution_count": 185,
     "metadata": {},
     "output_type": "execute_result"
    }
   ],
   "source": [
    "# The Series now holds TP53 Mutation Status for each Sample\n",
    "y.head(6)"
   ]
  },
  {
   "cell_type": "code",
   "execution_count": 186,
   "metadata": {},
   "outputs": [
    {
     "data": {
      "text/plain": [
       "0    0.645907\n",
       "1    0.354093\n",
       "Name: 7157, dtype: float64"
      ]
     },
     "execution_count": 186,
     "metadata": {},
     "output_type": "execute_result"
    }
   ],
   "source": [
    "# Here are the percentage of tumors with NF1\n",
    "y.value_counts(True)"
   ]
  },
  {
   "cell_type": "markdown",
   "metadata": {},
   "source": [
    "## Pre-process data set\n",
    "TODO: currently running PCA on both train and test partitions"
   ]
  },
  {
   "cell_type": "code",
   "execution_count": 187,
   "metadata": {},
   "outputs": [],
   "source": [
    "# Pre-process expression data for use later\n",
    "n_components = 65\n",
    "scaled_expression = StandardScaler().fit_transform(expression)\n",
    "pca = PCA(n_components).fit(scaled_expression)\n",
    "explained_variance = pca.explained_variance_\n",
    "expression_pca = pca.transform(scaled_expression)\n",
    "expression_pca = pd.DataFrame(expression_pca)\n",
    "expression_pca = expression_pca.set_index(expression.index.values)"
   ]
  },
  {
   "cell_type": "code",
   "execution_count": 188,
   "metadata": {},
   "outputs": [
    {
     "name": "stdout",
     "output_type": "stream",
     "text": [
      "fraction of variance explained: 0.664679674572\n"
     ]
    }
   ],
   "source": [
    "print('fraction of variance explained: ' + str(pca.explained_variance_ratio_.sum()))"
   ]
  },
  {
   "cell_type": "code",
   "execution_count": 189,
   "metadata": {},
   "outputs": [
    {
     "name": "stdout",
     "output_type": "stream",
     "text": [
      "Gene expression matrix shape: 7306, 20468\n",
      "Full feature matrix shape: 7306, 98\n"
     ]
    }
   ],
   "source": [
    "# Create full feature matrix (expression + covariates)\n",
    "X = pd.concat([covariates,expression_pca],axis=1)\n",
    "print('Gene expression matrix shape: {0[0]}, {0[1]}'.format(expression.shape))\n",
    "print('Full feature matrix shape: {0[0]}, {0[1]}'.format(X.shape))"
   ]
  },
  {
   "cell_type": "markdown",
   "metadata": {},
   "source": [
    "## Set aside 10% of the data for testing"
   ]
  },
  {
   "cell_type": "code",
   "execution_count": 190,
   "metadata": {},
   "outputs": [
    {
     "data": {
      "text/plain": [
       "'Size: 98 features, 6,575 training samples, 731 testing samples'"
      ]
     },
     "execution_count": 190,
     "metadata": {},
     "output_type": "execute_result"
    }
   ],
   "source": [
    "# Typically, this can only be done where the number of mutations is large enough\n",
    "train_index, test_index = next(ShuffleSplit(n_splits=2, test_size=0.1, random_state=0).split(y))\n",
    "\n",
    "X_partitions = {\n",
    "    'full': {\n",
    "        'train': X.ix[train_index], \n",
    "        'test': X.ix[test_index]\n",
    "        },\n",
    "    'expressions': {\n",
    "        'train': expression_pca.ix[train_index], \n",
    "        'test': expression_pca.ix[test_index]\n",
    "        },\n",
    "    'covariates': {\n",
    "        'train': covariates.ix[train_index], \n",
    "        'test': covariates.ix[test_index]\n",
    "        }    \n",
    "    } \n",
    "\n",
    "y_train = y[train_index]\n",
    "y_test = y[test_index]\n",
    "\n",
    "'Size: {:,} features, {:,} training samples, {:,} testing samples'.format(\n",
    "    len(X_partitions['full']['train'].columns), \n",
    "    len(X_partitions['full']['train']), \n",
    "    len(X_partitions['full']['test']))"
   ]
  },
  {
   "cell_type": "markdown",
   "metadata": {},
   "source": [
    "## Median absolute deviation feature selection"
   ]
  },
  {
   "cell_type": "code",
   "execution_count": 191,
   "metadata": {
    "collapsed": true
   },
   "outputs": [],
   "source": [
    "def fs_mad(x, y):\n",
    "    \"\"\"    \n",
    "    Get the median absolute deviation (MAD) for each column of x\n",
    "    \"\"\"\n",
    "    scores = mad(x) \n",
    "    return scores, np.array([np.NaN]*len(scores))"
   ]
  },
  {
   "cell_type": "markdown",
   "metadata": {},
   "source": [
    "## Define pipeline and Cross validation model fitting"
   ]
  },
  {
   "cell_type": "code",
   "execution_count": 192,
   "metadata": {},
   "outputs": [],
   "source": [
    "# Parameter Sweep for Hyperparameters\n",
    "param_grid = {\n",
    "    'classify__loss': ['log'],\n",
    "    'classify__penalty': ['elasticnet'],\n",
    "    'classify__alpha': [10 ** x for x in range(-3, 1)],\n",
    "    'classify__l1_ratio': [0, 0.2, 0.8, 1],\n",
    "}\n",
    "\n",
    "pipeline = Pipeline(steps=[\n",
    "    ('standardize', StandardScaler()),\n",
    "    ('classify', SGDClassifier(random_state=0, class_weight='balanced'))\n",
    "])\n",
    "\n",
    "models = ['full', 'expressions', 'covariates']\n",
    "\n",
    "cv_pipelines = {mod: GridSearchCV(estimator=pipeline, \n",
    "                             param_grid=param_grid, \n",
    "                             n_jobs=1, \n",
    "                             scoring='roc_auc') for mod in models}"
   ]
  },
  {
   "cell_type": "code",
   "execution_count": 193,
   "metadata": {},
   "outputs": [
    {
     "name": "stdout",
     "output_type": "stream",
     "text": [
      "Fitting CV for model: full\n",
      "Fitting CV for model: covariates\n",
      "Fitting CV for model: expressions\n",
      "CPU times: user 5.61 s, sys: 12.6 s, total: 18.2 s\n",
      "Wall time: 4.59 s\n"
     ]
    }
   ],
   "source": [
    "%%time\n",
    "for model, pipeline in cv_pipelines.items():\n",
    "    print('Fitting CV for model: {0}'.format(model))\n",
    "    pipeline.fit(X=X_partitions.get(model).get('train'), y=y_train)\n",
    "# cv_pipeline_full.fit(X=X_train_full, y=y_train)"
   ]
  },
  {
   "cell_type": "code",
   "execution_count": 194,
   "metadata": {},
   "outputs": [
    {
     "name": "stdout",
     "output_type": "stream",
     "text": [
      "full: 92.017%\n",
      "{'classify__alpha': 0.1, 'classify__l1_ratio': 0, 'classify__loss': 'log', 'classify__penalty': 'elasticnet'}\n",
      "covariates: 84.259%\n",
      "{'classify__alpha': 0.1, 'classify__l1_ratio': 0, 'classify__loss': 'log', 'classify__penalty': 'elasticnet'}\n",
      "expressions: 91.204%\n",
      "{'classify__alpha': 0.1, 'classify__l1_ratio': 0, 'classify__loss': 'log', 'classify__penalty': 'elasticnet'}\n"
     ]
    }
   ],
   "source": [
    "# Best Params\n",
    "for model, pipeline in cv_pipelines.items():\n",
    "    print('{0}: {1:.3%}'.format(model, pipeline.best_score_))\n",
    "\n",
    "    # Best Params\n",
    "    print(pipeline.best_params_)"
   ]
  },
  {
   "cell_type": "markdown",
   "metadata": {},
   "source": [
    "## Visualize hyperparameters performance"
   ]
  },
  {
   "cell_type": "code",
   "execution_count": 195,
   "metadata": {},
   "outputs": [
    {
     "data": {
      "text/html": [
       "<div>\n",
       "<table border=\"1\" class=\"dataframe\">\n",
       "  <thead>\n",
       "    <tr style=\"text-align: right;\">\n",
       "      <th></th>\n",
       "      <th>mean_fit_time</th>\n",
       "      <th>mean_score_time</th>\n",
       "      <th>mean_test_score</th>\n",
       "      <th>mean_train_score</th>\n",
       "      <th>param_classify__alpha</th>\n",
       "      <th>param_classify__l1_ratio</th>\n",
       "      <th>param_classify__loss</th>\n",
       "      <th>param_classify__penalty</th>\n",
       "      <th>params</th>\n",
       "      <th>rank_test_score</th>\n",
       "      <th>...</th>\n",
       "      <th>split2_test_score</th>\n",
       "      <th>split2_train_score</th>\n",
       "      <th>std_fit_time</th>\n",
       "      <th>std_score_time</th>\n",
       "      <th>std_test_score</th>\n",
       "      <th>std_train_score</th>\n",
       "      <th>classify__alpha</th>\n",
       "      <th>classify__l1_ratio</th>\n",
       "      <th>classify__loss</th>\n",
       "      <th>classify__penalty</th>\n",
       "    </tr>\n",
       "  </thead>\n",
       "  <tbody>\n",
       "    <tr>\n",
       "      <th>0</th>\n",
       "      <td>0.027262</td>\n",
       "      <td>0.003139</td>\n",
       "      <td>0.889132</td>\n",
       "      <td>0.901686</td>\n",
       "      <td>0.001</td>\n",
       "      <td>0</td>\n",
       "      <td>log</td>\n",
       "      <td>elasticnet</td>\n",
       "      <td>{'classify__alpha': 0.001, 'classify__l1_ratio...</td>\n",
       "      <td>11</td>\n",
       "      <td>...</td>\n",
       "      <td>0.888066</td>\n",
       "      <td>0.906694</td>\n",
       "      <td>0.002303</td>\n",
       "      <td>0.000391</td>\n",
       "      <td>0.003742</td>\n",
       "      <td>0.006324</td>\n",
       "      <td>0.001</td>\n",
       "      <td>0.0</td>\n",
       "      <td>log</td>\n",
       "      <td>elasticnet</td>\n",
       "    </tr>\n",
       "    <tr>\n",
       "      <th>1</th>\n",
       "      <td>0.030871</td>\n",
       "      <td>0.002890</td>\n",
       "      <td>0.896813</td>\n",
       "      <td>0.910136</td>\n",
       "      <td>0.001</td>\n",
       "      <td>0.2</td>\n",
       "      <td>log</td>\n",
       "      <td>elasticnet</td>\n",
       "      <td>{'classify__alpha': 0.001, 'classify__l1_ratio...</td>\n",
       "      <td>8</td>\n",
       "      <td>...</td>\n",
       "      <td>0.899308</td>\n",
       "      <td>0.916547</td>\n",
       "      <td>0.002631</td>\n",
       "      <td>0.000052</td>\n",
       "      <td>0.008685</td>\n",
       "      <td>0.004886</td>\n",
       "      <td>0.001</td>\n",
       "      <td>0.2</td>\n",
       "      <td>log</td>\n",
       "      <td>elasticnet</td>\n",
       "    </tr>\n",
       "  </tbody>\n",
       "</table>\n",
       "<p>2 rows × 24 columns</p>\n",
       "</div>"
      ],
      "text/plain": [
       "   mean_fit_time  mean_score_time  mean_test_score  mean_train_score  \\\n",
       "0       0.027262         0.003139         0.889132          0.901686   \n",
       "1       0.030871         0.002890         0.896813          0.910136   \n",
       "\n",
       "  param_classify__alpha param_classify__l1_ratio param_classify__loss  \\\n",
       "0                 0.001                        0                  log   \n",
       "1                 0.001                      0.2                  log   \n",
       "\n",
       "  param_classify__penalty                                             params  \\\n",
       "0              elasticnet  {'classify__alpha': 0.001, 'classify__l1_ratio...   \n",
       "1              elasticnet  {'classify__alpha': 0.001, 'classify__l1_ratio...   \n",
       "\n",
       "   rank_test_score        ...          split2_test_score  split2_train_score  \\\n",
       "0               11        ...                   0.888066            0.906694   \n",
       "1                8        ...                   0.899308            0.916547   \n",
       "\n",
       "   std_fit_time  std_score_time  std_test_score  std_train_score  \\\n",
       "0      0.002303        0.000391        0.003742         0.006324   \n",
       "1      0.002631        0.000052        0.008685         0.004886   \n",
       "\n",
       "   classify__alpha  classify__l1_ratio  classify__loss  classify__penalty  \n",
       "0            0.001                 0.0             log         elasticnet  \n",
       "1            0.001                 0.2             log         elasticnet  \n",
       "\n",
       "[2 rows x 24 columns]"
      ]
     },
     "execution_count": 195,
     "metadata": {},
     "output_type": "execute_result"
    }
   ],
   "source": [
    "cv_results_df_dict = {model: \n",
    "    pd.concat([\n",
    "        pd.DataFrame(pipeline.cv_results_),\n",
    "        pd.DataFrame.from_records(pipeline.cv_results_['params']),\n",
    "    ], axis='columns') for model, pipeline in cv_pipelines.items()}\n",
    "\n",
    "model = 'full'\n",
    "\n",
    "cv_results_df_dict[model].head(2)"
   ]
  },
  {
   "cell_type": "code",
   "execution_count": 196,
   "metadata": {},
   "outputs": [
    {
     "data": {
      "image/png": "[encoded data removed]",
      "text/plain": [
       "<matplotlib.figure.Figure at 0x7f34c4c81ac8>"
      ]
     },
     "metadata": {},
     "output_type": "display_data"
    }
   ],
   "source": [
    "# Cross-validated performance heatmap\n",
    "model = 'full'\n",
    "\n",
    "cv_score_mat = pd.pivot_table(cv_results_df_dict[model],\n",
    "                              values='mean_test_score', \n",
    "                              index='classify__l1_ratio',\n",
    "                              columns='classify__alpha')\n",
    "ax = sns.heatmap(cv_score_mat, annot=True, fmt='.1%')\n",
    "ax.set_xlabel('Regularization strength multiplier (alpha)')\n",
    "ax.set_ylabel('Elastic net mixing parameter (l1_ratio)');"
   ]
  },
  {
   "cell_type": "markdown",
   "metadata": {},
   "source": [
    "## Use Optimal Hyperparameters to Output ROC Curve"
   ]
  },
  {
   "cell_type": "code",
   "execution_count": 197,
   "metadata": {},
   "outputs": [],
   "source": [
    "y_pred_dict = {\n",
    "    model: {\n",
    "        'train': pipeline.decision_function(X_partitions[model]['train']),\n",
    "        'test':  pipeline.decision_function(X_partitions[model]['test'])\n",
    "    } for model, pipeline in cv_pipelines.items()\n",
    "}\n",
    "\n",
    "def get_threshold_metrics(y_true, y_pred):\n",
    "    roc_columns = ['fpr', 'tpr', 'threshold']\n",
    "    roc_items = zip(roc_columns, roc_curve(y_true, y_pred))\n",
    "    roc_df = pd.DataFrame.from_items(roc_items)\n",
    "    auroc = roc_auc_score(y_true, y_pred)\n",
    "    return {'auroc': auroc, 'roc_df': roc_df}\n",
    "\n",
    "metrics_dict = {    \n",
    "    model: {\n",
    "        'train': get_threshold_metrics(y_train, y_pred_dict[model]['train']),\n",
    "        'test':  get_threshold_metrics(y_test, y_pred_dict[model]['test'])\n",
    "    } for model in y_pred_dict.keys()\n",
    "}"
   ]
  },
  {
   "cell_type": "code",
   "execution_count": 198,
   "metadata": {},
   "outputs": [
    {
     "data": {
      "image/png": "[encoded data removed]",
      "text/plain": [
       "<matplotlib.figure.Figure at 0x7f34bcb5d9e8>"
      ]
     },
     "metadata": {},
     "output_type": "display_data"
    }
   ],
   "source": [
    "# Plot ROC\n",
    "plt.figure()\n",
    "for model, metrics_partition in metrics_dict.items():\n",
    "    for partition, metrics in metrics_partition.items():\n",
    "        model_name = '{0} {1}'.format(model, partition)\n",
    "        roc_df = metrics['roc_df']\n",
    "        plt.plot(roc_df.fpr, roc_df.tpr,\n",
    "            label='{} (AUROC = {:.1%})'.format(model_name, metrics['auroc']))\n",
    "        \n",
    "plt.xlim([0.0, 1.0])\n",
    "plt.ylim([0.0, 1.05])\n",
    "plt.xlabel('False Positive Rate')\n",
    "plt.ylabel('True Positive Rate')\n",
    "plt.title('Predicting TP53 mutation from gene expression (ROC curves)')\n",
    "plt.legend(loc='lower right');"
   ]
  },
  {
   "cell_type": "markdown",
   "metadata": {},
   "source": [
    "## What are the classifier coefficients?"
   ]
  },
  {
   "cell_type": "code",
   "execution_count": 199,
   "metadata": {
    "collapsed": true
   },
   "outputs": [],
   "source": [
    "final_pipelines = {\n",
    "    model: pipeline.best_estimator_\n",
    "    for model, pipeline in cv_pipelines.items()\n",
    "}\n",
    "final_classifiers = {\n",
    "    model: pipeline.named_steps['classify']\n",
    "    for model, pipeline in final_pipelines.items()\n",
    "}"
   ]
  },
  {
   "cell_type": "code",
   "execution_count": 200,
   "metadata": {},
   "outputs": [],
   "source": [
    "def get_coefficients(classifier, X_mat):\n",
    "    coef_df = pd.DataFrame.from_items([\n",
    "        ('feature', X_mat.columns),\n",
    "        ('weight', classifier.coef_[0]),\n",
    "    ])\n",
    "\n",
    "    coef_df['abs'] = coef_df['weight'].abs()\n",
    "    coef_df = coef_df.sort_values('abs', ascending=False)\n",
    "    \n",
    "    return coef_df\n",
    "\n",
    "coef_df_dict = {\n",
    "    model: get_coefficients(classifier, X_partitions[model]['train'])\n",
    "    for model, classifier in final_classifiers.items()\n",
    "}"
   ]
  },
  {
   "cell_type": "code",
   "execution_count": 201,
   "metadata": {},
   "outputs": [
    {
     "name": "stdout",
     "output_type": "stream",
     "text": [
      "0.0% zero coefficients; 47 negative and 51 positive coefficients\n"
     ]
    },
    {
     "data": {
      "text/html": [
       "<div>\n",
       "<table border=\"1\" class=\"dataframe\">\n",
       "  <thead>\n",
       "    <tr style=\"text-align: right;\">\n",
       "      <th></th>\n",
       "      <th>feature</th>\n",
       "      <th>weight</th>\n",
       "      <th>abs</th>\n",
       "    </tr>\n",
       "  </thead>\n",
       "  <tbody>\n",
       "    <tr>\n",
       "      <th>35</th>\n",
       "      <td>2</td>\n",
       "      <td>-0.675792</td>\n",
       "      <td>0.675792</td>\n",
       "    </tr>\n",
       "    <tr>\n",
       "      <th>32</th>\n",
       "      <td>n_mutations_log1p</td>\n",
       "      <td>0.520181</td>\n",
       "      <td>0.520181</td>\n",
       "    </tr>\n",
       "    <tr>\n",
       "      <th>57</th>\n",
       "      <td>24</td>\n",
       "      <td>0.519065</td>\n",
       "      <td>0.519065</td>\n",
       "    </tr>\n",
       "    <tr>\n",
       "      <th>44</th>\n",
       "      <td>11</td>\n",
       "      <td>-0.492528</td>\n",
       "      <td>0.492528</td>\n",
       "    </tr>\n",
       "    <tr>\n",
       "      <th>62</th>\n",
       "      <td>29</td>\n",
       "      <td>0.374885</td>\n",
       "      <td>0.374885</td>\n",
       "    </tr>\n",
       "    <tr>\n",
       "      <th>71</th>\n",
       "      <td>38</td>\n",
       "      <td>0.373671</td>\n",
       "      <td>0.373671</td>\n",
       "    </tr>\n",
       "    <tr>\n",
       "      <th>3</th>\n",
       "      <td>acronym_CESC</td>\n",
       "      <td>-0.372253</td>\n",
       "      <td>0.372253</td>\n",
       "    </tr>\n",
       "    <tr>\n",
       "      <th>27</th>\n",
       "      <td>acronym_THCA</td>\n",
       "      <td>-0.358924</td>\n",
       "      <td>0.358924</td>\n",
       "    </tr>\n",
       "    <tr>\n",
       "      <th>34</th>\n",
       "      <td>1</td>\n",
       "      <td>-0.328740</td>\n",
       "      <td>0.328740</td>\n",
       "    </tr>\n",
       "    <tr>\n",
       "      <th>33</th>\n",
       "      <td>0</td>\n",
       "      <td>-0.318235</td>\n",
       "      <td>0.318235</td>\n",
       "    </tr>\n",
       "  </tbody>\n",
       "</table>\n",
       "</div>"
      ],
      "text/plain": [
       "              feature    weight       abs\n",
       "35                  2 -0.675792  0.675792\n",
       "32  n_mutations_log1p  0.520181  0.520181\n",
       "57                 24  0.519065  0.519065\n",
       "44                 11 -0.492528  0.492528\n",
       "62                 29  0.374885  0.374885\n",
       "71                 38  0.373671  0.373671\n",
       "3        acronym_CESC -0.372253  0.372253\n",
       "27       acronym_THCA -0.358924  0.358924\n",
       "34                  1 -0.328740  0.328740\n",
       "33                  0 -0.318235  0.318235"
      ]
     },
     "execution_count": 201,
     "metadata": {},
     "output_type": "execute_result"
    }
   ],
   "source": [
    "model = 'full'\n",
    "\n",
    "print('{:.1%} zero coefficients; {:,} negative and {:,} positive coefficients'.format(\n",
    "    (coef_df_dict[model].weight == 0).mean(),\n",
    "    (coef_df_dict[model].weight < 0).sum(),\n",
    "    (coef_df_dict[model].weight > 0).sum()\n",
    "))\n",
    "coef_df.head(10)"
   ]
  },
  {
   "cell_type": "markdown",
   "metadata": {},
   "source": [
    "## Investigate the predictions"
   ]
  },
  {
   "cell_type": "code",
   "execution_count": 202,
   "metadata": {
    "scrolled": false
   },
   "outputs": [],
   "source": [
    "model = 'full'\n",
    "\n",
    "X_all = X_partitions[model]['train'].append(X_partitions[model]['test'])\n",
    "X_test_index = X_partitions[model]['test'].index\n",
    "y_all = y_train.append(y_test)\n",
    "\n",
    "predict_df = pd.DataFrame.from_items([\n",
    "    ('sample_id', X_all.index),\n",
    "    ('testing', X_all.index.isin(X_test_index).astype(int)),\n",
    "    ('status', y_all),\n",
    "    ('decision_function', final_pipelines[model].decision_function(X_all)),\n",
    "    ('probability', final_pipelines[model].predict_proba(X_all)[:, 1])\n",
    "])\n",
    "\n",
    "predict_df['probability_str'] = predict_df['probability'].apply('{:.1%}'.format)"
   ]
  },
  {
   "cell_type": "code",
   "execution_count": 203,
   "metadata": {},
   "outputs": [
    {
     "data": {
      "text/html": [
       "<div>\n",
       "<table border=\"1\" class=\"dataframe\">\n",
       "  <thead>\n",
       "    <tr style=\"text-align: right;\">\n",
       "      <th></th>\n",
       "      <th>sample_id</th>\n",
       "      <th>testing</th>\n",
       "      <th>status</th>\n",
       "      <th>decision_function</th>\n",
       "      <th>probability</th>\n",
       "      <th>probability_str</th>\n",
       "    </tr>\n",
       "    <tr>\n",
       "      <th>sample_id</th>\n",
       "      <th></th>\n",
       "      <th></th>\n",
       "      <th></th>\n",
       "      <th></th>\n",
       "      <th></th>\n",
       "      <th></th>\n",
       "    </tr>\n",
       "  </thead>\n",
       "  <tbody>\n",
       "    <tr>\n",
       "      <th>TCGA-EI-6513-01</th>\n",
       "      <td>TCGA-EI-6513-01</td>\n",
       "      <td>1</td>\n",
       "      <td>0</td>\n",
       "      <td>3.513448</td>\n",
       "      <td>0.971068</td>\n",
       "      <td>97.1%</td>\n",
       "    </tr>\n",
       "    <tr>\n",
       "      <th>TCGA-L5-A4OH-01</th>\n",
       "      <td>TCGA-L5-A4OH-01</td>\n",
       "      <td>0</td>\n",
       "      <td>0</td>\n",
       "      <td>3.382228</td>\n",
       "      <td>0.967144</td>\n",
       "      <td>96.7%</td>\n",
       "    </tr>\n",
       "    <tr>\n",
       "      <th>TCGA-22-4591-01</th>\n",
       "      <td>TCGA-22-4591-01</td>\n",
       "      <td>0</td>\n",
       "      <td>0</td>\n",
       "      <td>3.167980</td>\n",
       "      <td>0.959611</td>\n",
       "      <td>96.0%</td>\n",
       "    </tr>\n",
       "    <tr>\n",
       "      <th>TCGA-L5-A8NR-01</th>\n",
       "      <td>TCGA-L5-A8NR-01</td>\n",
       "      <td>0</td>\n",
       "      <td>0</td>\n",
       "      <td>3.036211</td>\n",
       "      <td>0.954183</td>\n",
       "      <td>95.4%</td>\n",
       "    </tr>\n",
       "    <tr>\n",
       "      <th>TCGA-RE-A7BO-01</th>\n",
       "      <td>TCGA-RE-A7BO-01</td>\n",
       "      <td>0</td>\n",
       "      <td>0</td>\n",
       "      <td>2.841612</td>\n",
       "      <td>0.944883</td>\n",
       "      <td>94.5%</td>\n",
       "    </tr>\n",
       "    <tr>\n",
       "      <th>TCGA-21-1081-01</th>\n",
       "      <td>TCGA-21-1081-01</td>\n",
       "      <td>0</td>\n",
       "      <td>0</td>\n",
       "      <td>2.800278</td>\n",
       "      <td>0.942691</td>\n",
       "      <td>94.3%</td>\n",
       "    </tr>\n",
       "    <tr>\n",
       "      <th>TCGA-43-2578-01</th>\n",
       "      <td>TCGA-43-2578-01</td>\n",
       "      <td>0</td>\n",
       "      <td>0</td>\n",
       "      <td>2.788043</td>\n",
       "      <td>0.942026</td>\n",
       "      <td>94.2%</td>\n",
       "    </tr>\n",
       "    <tr>\n",
       "      <th>TCGA-24-2298-01</th>\n",
       "      <td>TCGA-24-2298-01</td>\n",
       "      <td>0</td>\n",
       "      <td>0</td>\n",
       "      <td>2.490874</td>\n",
       "      <td>0.923500</td>\n",
       "      <td>92.3%</td>\n",
       "    </tr>\n",
       "    <tr>\n",
       "      <th>TCGA-46-3765-01</th>\n",
       "      <td>TCGA-46-3765-01</td>\n",
       "      <td>0</td>\n",
       "      <td>0</td>\n",
       "      <td>2.489177</td>\n",
       "      <td>0.923380</td>\n",
       "      <td>92.3%</td>\n",
       "    </tr>\n",
       "    <tr>\n",
       "      <th>TCGA-BA-5149-01</th>\n",
       "      <td>TCGA-BA-5149-01</td>\n",
       "      <td>0</td>\n",
       "      <td>0</td>\n",
       "      <td>2.414279</td>\n",
       "      <td>0.917910</td>\n",
       "      <td>91.8%</td>\n",
       "    </tr>\n",
       "  </tbody>\n",
       "</table>\n",
       "</div>"
      ],
      "text/plain": [
       "                       sample_id  testing  status  decision_function  \\\n",
       "sample_id                                                              \n",
       "TCGA-EI-6513-01  TCGA-EI-6513-01        1       0           3.513448   \n",
       "TCGA-L5-A4OH-01  TCGA-L5-A4OH-01        0       0           3.382228   \n",
       "TCGA-22-4591-01  TCGA-22-4591-01        0       0           3.167980   \n",
       "TCGA-L5-A8NR-01  TCGA-L5-A8NR-01        0       0           3.036211   \n",
       "TCGA-RE-A7BO-01  TCGA-RE-A7BO-01        0       0           2.841612   \n",
       "TCGA-21-1081-01  TCGA-21-1081-01        0       0           2.800278   \n",
       "TCGA-43-2578-01  TCGA-43-2578-01        0       0           2.788043   \n",
       "TCGA-24-2298-01  TCGA-24-2298-01        0       0           2.490874   \n",
       "TCGA-46-3765-01  TCGA-46-3765-01        0       0           2.489177   \n",
       "TCGA-BA-5149-01  TCGA-BA-5149-01        0       0           2.414279   \n",
       "\n",
       "                 probability probability_str  \n",
       "sample_id                                     \n",
       "TCGA-EI-6513-01     0.971068           97.1%  \n",
       "TCGA-L5-A4OH-01     0.967144           96.7%  \n",
       "TCGA-22-4591-01     0.959611           96.0%  \n",
       "TCGA-L5-A8NR-01     0.954183           95.4%  \n",
       "TCGA-RE-A7BO-01     0.944883           94.5%  \n",
       "TCGA-21-1081-01     0.942691           94.3%  \n",
       "TCGA-43-2578-01     0.942026           94.2%  \n",
       "TCGA-24-2298-01     0.923500           92.3%  \n",
       "TCGA-46-3765-01     0.923380           92.3%  \n",
       "TCGA-BA-5149-01     0.917910           91.8%  "
      ]
     },
     "execution_count": 203,
     "metadata": {},
     "output_type": "execute_result"
    }
   ],
   "source": [
    "# Top predictions amongst negatives (potential hidden responders)\n",
    "predict_df.sort_values('decision_function', ascending=False).query(\"status == 0\").head(10)"
   ]
  },
  {
   "cell_type": "code",
   "execution_count": 204,
   "metadata": {},
   "outputs": [
    {
     "data": {
      "image/png": "[encoded data removed]",
      "text/plain": [
       "<matplotlib.figure.Figure at 0x7f34d1bc6e48>"
      ]
     },
     "metadata": {},
     "output_type": "display_data"
    }
   ],
   "source": [
    "# Ignore numpy warning caused by seaborn\n",
    "warnings.filterwarnings('ignore', 'using a non-integer number instead of an integer')\n",
    "\n",
    "ax = sns.distplot(predict_df.query(\"status == 0\").decision_function, hist=False, label='Negatives')\n",
    "ax = sns.distplot(predict_df.query(\"status == 1\").decision_function, hist=False, label='Positives')"
   ]
  },
  {
   "cell_type": "code",
   "execution_count": 205,
   "metadata": {},
   "outputs": [
    {
     "data": {
      "image/png": "[encoded data removed]",
      "text/plain": [
       "<matplotlib.figure.Figure at 0x7f34d1bca2b0>"
      ]
     },
     "metadata": {},
     "output_type": "display_data"
    }
   ],
   "source": [
    "ax = sns.distplot(predict_df.query(\"status == 0\").probability, hist=False, label='Negatives')\n",
    "ax = sns.distplot(predict_df.query(\"status == 1\").probability, hist=False, label='Positives')"
   ]
  }
 ],
 "metadata": {
  "kernelspec": {
   "display_name": "Python 3",
   "language": "python",
   "name": "python3"
  },
  "language_info": {
   "codemirror_mode": {
    "name": "ipython",
    "version": 3
   },
   "file_extension": ".py",
   "mimetype": "text/x-python",
   "name": "python",
   "nbconvert_exporter": "python",
   "pygments_lexer": "ipython3",
   "version": "3.5.2"
  }
 },
 "nbformat": 4,
 "nbformat_minor": 1
}
