{
 "cells": [
  {
   "cell_type": "markdown",
   "metadata": {},
   "source": [
    "# Create a logistic regression model to predict TP53 mutation from gene expression data in TCGA"
   ]
  },
  {
   "cell_type": "code",
   "execution_count": 1,
   "metadata": {
    "collapsed": true
   },
   "outputs": [],
   "source": [
    "import os\n",
    "import urllib\n",
    "import random\n",
    "import warnings\n",
    "\n",
    "import pandas as pd\n",
    "import numpy as np\n",
    "import matplotlib.pyplot as plt\n",
    "import seaborn as sns\n",
    "import vega\n",
    "import json\n",
    "from sklearn import preprocessing\n",
    "from sklearn.linear_model import SGDClassifier\n",
    "from sklearn.model_selection import train_test_split, GridSearchCV, ShuffleSplit\n",
    "from sklearn.metrics import roc_auc_score, roc_curve\n",
    "from sklearn.pipeline import Pipeline, FeatureUnion\n",
    "from sklearn.preprocessing import StandardScaler, FunctionTransformer\n",
    "from sklearn.decomposition import PCA"
   ]
  },
  {
   "cell_type": "code",
   "execution_count": 2,
   "metadata": {
    "collapsed": true
   },
   "outputs": [],
   "source": [
    "%matplotlib inline\n",
    "plt.style.use('seaborn-notebook')"
   ]
  },
  {
   "cell_type": "markdown",
   "metadata": {},
   "source": [
    "## Specify model configuration"
   ]
  },
  {
   "cell_type": "code",
   "execution_count": 3,
   "metadata": {
    "collapsed": true
   },
   "outputs": [],
   "source": [
    "# We're going to be building a 'TP53' classifier \n",
    "GENE = '7157' # TP53"
   ]
  },
  {
   "cell_type": "markdown",
   "metadata": {},
   "source": [
    "*Here is some [documentation](http://scikit-learn.org/stable/modules/generated/sklearn.linear_model.SGDClassifier.html) regarding the classifier and hyperparameters*\n",
    "\n",
    "*Here is some [information](https://ghr.nlm.nih.gov/gene/TP53) about TP53*"
   ]
  },
  {
   "cell_type": "markdown",
   "metadata": {},
   "source": [
    "## Load Data"
   ]
  },
  {
   "cell_type": "code",
   "execution_count": 4,
   "metadata": {},
   "outputs": [
    {
     "name": "stdout",
     "output_type": "stream",
     "text": [
      "CPU times: user 1min 21s, sys: 6.46 s, total: 1min 28s\n",
      "Wall time: 1min 30s\n"
     ]
    }
   ],
   "source": [
    "%%time\n",
    "path = os.path.join('download', 'expression-matrix.tsv.bz2')\n",
    "expression = pd.read_table(path, index_col=0)"
   ]
  },
  {
   "cell_type": "code",
   "execution_count": 5,
   "metadata": {},
   "outputs": [
    {
     "name": "stdout",
     "output_type": "stream",
     "text": [
      "CPU times: user 51.5 s, sys: 990 ms, total: 52.5 s\n",
      "Wall time: 52.6 s\n"
     ]
    }
   ],
   "source": [
    "%%time\n",
    "path = os.path.join('download', 'mutation-matrix.tsv.bz2')\n",
    "Y = pd.read_table(path, index_col=0)"
   ]
  },
  {
   "cell_type": "code",
   "execution_count": 6,
   "metadata": {},
   "outputs": [
    {
     "name": "stdout",
     "output_type": "stream",
     "text": [
      "CPU times: user 40 ms, sys: 0 ns, total: 40 ms\n",
      "Wall time: 47.1 ms\n"
     ]
    }
   ],
   "source": [
    "%%time\n",
    "path = os.path.join('download', 'covariates.tsv')\n",
    "covariates = pd.read_table(path, index_col=0)\n",
    "\n",
    "# Select acronym_x and n_mutations_log1p covariates only\n",
    "selected_cols = [col for col in covariates.columns if 'acronym_' in col]\n",
    "selected_cols.append('n_mutations_log1p')\n",
    "covariates = covariates[selected_cols]"
   ]
  },
  {
   "cell_type": "code",
   "execution_count": 7,
   "metadata": {
    "collapsed": true
   },
   "outputs": [],
   "source": [
    "y = Y[GENE]"
   ]
  },
  {
   "cell_type": "code",
   "execution_count": 8,
   "metadata": {},
   "outputs": [
    {
     "data": {
      "text/plain": [
       "sample_id\n",
       "TCGA-02-0047-01    0\n",
       "TCGA-02-0055-01    1\n",
       "TCGA-02-2483-01    1\n",
       "TCGA-02-2485-01    1\n",
       "TCGA-02-2486-01    0\n",
       "TCGA-04-1348-01    1\n",
       "Name: 7157, dtype: int64"
      ]
     },
     "execution_count": 8,
     "metadata": {},
     "output_type": "execute_result"
    }
   ],
   "source": [
    "# The Series now holds TP53 Mutation Status for each Sample\n",
    "y.head(6)"
   ]
  },
  {
   "cell_type": "code",
   "execution_count": 9,
   "metadata": {},
   "outputs": [
    {
     "data": {
      "text/plain": [
       "0    0.645907\n",
       "1    0.354093\n",
       "Name: 7157, dtype: float64"
      ]
     },
     "execution_count": 9,
     "metadata": {},
     "output_type": "execute_result"
    }
   ],
   "source": [
    "# Here are the percentage of tumors with NF1\n",
    "y.value_counts(True)"
   ]
  },
  {
   "cell_type": "markdown",
   "metadata": {},
   "source": [
    "## Set aside 10% of the data for testing"
   ]
  },
  {
   "cell_type": "code",
   "execution_count": 10,
   "metadata": {},
   "outputs": [
    {
     "name": "stdout",
     "output_type": "stream",
     "text": [
      "Gene expression matrix shape: 7306, 20468\n",
      "Covariates matrix shape: 7306, 33\n"
     ]
    }
   ],
   "source": [
    "X = pd.concat([covariates, expression], axis=1)\n",
    "print('Gene expression matrix shape: {0[0]}, {0[1]}'.format(expression.shape))\n",
    "print('Covariates matrix shape: {0[0]}, {0[1]}'.format(covariates.shape))\n",
    "\n",
    "# Typically, this can only be done where the number of mutations is large enough\n",
    "X_train, X_test, y_train, y_test = train_test_split(X, y, test_size=0.1, random_state=0)\n",
    "\n",
    "# Select the feature set for the different models\n",
    "N_COVARIATES = covariates.shape[1]\n",
    "def select_feature_set_columns(X, feature_set):\n",
    "    if feature_set=='expressions': return X[:, N_COVARIATES:]\n",
    "    return  X[:, :N_COVARIATES]"
   ]
  },
  {
   "cell_type": "markdown",
   "metadata": {},
   "source": [
    "## Define pipeline and Cross validation model fitting"
   ]
  },
  {
   "cell_type": "code",
   "execution_count": 11,
   "metadata": {
    "collapsed": true
   },
   "outputs": [],
   "source": [
    "# Parameter Sweep for Hyperparameters\n",
    "n_components = 100\n",
    "\n",
    "param_grid = {\n",
    "    'classify__loss': ['log'],\n",
    "    'classify__penalty': ['elasticnet'],\n",
    "    'classify__alpha': [10 ** x for x in range(-3, 1)],\n",
    "    'classify__l1_ratio': [0, 0.2, 0.8, 1],\n",
    "}\n",
    "\n",
    "# Feature selection\n",
    "expression_features = Pipeline([\n",
    "    ('select_features', FunctionTransformer(select_feature_set_columns,\n",
    "        kw_args={'feature_set': 'expressions'})),\n",
    "    ('standardize', StandardScaler()),\n",
    "    ('pca', PCA(n_components))\n",
    "])\n",
    "covariate_feautes = Pipeline([\n",
    "    ('select_features', FunctionTransformer(select_feature_set_columns,\n",
    "        kw_args={'feature_set': 'covariates'})),\n",
    "    ('standardize', StandardScaler())\n",
    "])\n",
    "\n",
    "# Full model pipelines\n",
    "pipeline_definitions = {\n",
    "    'full': Pipeline([\n",
    "        ('features', FeatureUnion([\n",
    "            ('expressions', expression_features),\n",
    "            ('covariates', covariate_feautes)\n",
    "        ])),\n",
    "        ('classify', SGDClassifier(random_state=0, class_weight='balanced'))\n",
    "    ]),\n",
    "    'expressions': Pipeline([\n",
    "        ('features', FeatureUnion([('expressions', expression_features)])),\n",
    "        ('classify', SGDClassifier(random_state=0, class_weight='balanced'))\n",
    "    ]),\n",
    "    'covariates': Pipeline([\n",
    "        ('features', FeatureUnion([('covariates', covariate_feautes)])),\n",
    "        ('classify', SGDClassifier(random_state=0, class_weight='balanced'))\n",
    "    ])\n",
    "}\n",
    "\n",
    "models = ['full', 'expressions', 'covariates']\n",
    "\n",
    "cv_pipelines = {mod: GridSearchCV(estimator=pipeline, \n",
    "                             param_grid=param_grid, \n",
    "                             n_jobs=1, \n",
    "                             scoring='roc_auc') \n",
    "                for mod, pipeline in pipeline_definitions.items()}"
   ]
  },
  {
   "cell_type": "code",
   "execution_count": 12,
   "metadata": {},
   "outputs": [
    {
     "name": "stdout",
     "output_type": "stream",
     "text": [
      "Fitting CV for model: expressions\n",
      "Fitting CV for model: full\n",
      "Fitting CV for model: covariates\n",
      "CPU times: user 41min 6s, sys: 8min 8s, total: 49min 14s\n",
      "Wall time: 17min 13s\n"
     ]
    }
   ],
   "source": [
    "%%time\n",
    "for model, pipeline in cv_pipelines.items():\n",
    "    print('Fitting CV for model: {0}'.format(model))\n",
    "    pipeline.fit(X=X_train, y=y_train)"
   ]
  },
  {
   "cell_type": "code",
   "execution_count": 13,
   "metadata": {},
   "outputs": [
    {
     "name": "stdout",
     "output_type": "stream",
     "text": [
      "expressions: 91.285%\n",
      "{'classify__l1_ratio': 0, 'classify__alpha': 1, 'classify__penalty': 'elasticnet', 'classify__loss': 'log'}\n",
      "full: 91.375%\n",
      "{'classify__l1_ratio': 0, 'classify__alpha': 1, 'classify__penalty': 'elasticnet', 'classify__loss': 'log'}\n",
      "covariates: 84.259%\n",
      "{'classify__l1_ratio': 0, 'classify__alpha': 0.1, 'classify__penalty': 'elasticnet', 'classify__loss': 'log'}\n"
     ]
    }
   ],
   "source": [
    "# Best Parameters\n",
    "for model, pipeline in cv_pipelines.items():\n",
    "    print('{0}: {1:.3%}'.format(model, pipeline.best_score_))\n",
    "\n",
    "    print(pipeline.best_params_)"
   ]
  },
  {
   "cell_type": "markdown",
   "metadata": {},
   "source": [
    "## Visualize hyperparameters performance"
   ]
  },
  {
   "cell_type": "code",
   "execution_count": 14,
   "metadata": {},
   "outputs": [
    {
     "data": {
      "text/html": [
       "<div>\n",
       "<table border=\"1\" class=\"dataframe\">\n",
       "  <thead>\n",
       "    <tr style=\"text-align: right;\">\n",
       "      <th></th>\n",
       "      <th>mean_fit_time</th>\n",
       "      <th>mean_score_time</th>\n",
       "      <th>mean_test_score</th>\n",
       "      <th>mean_train_score</th>\n",
       "      <th>param_classify__alpha</th>\n",
       "      <th>param_classify__l1_ratio</th>\n",
       "      <th>param_classify__loss</th>\n",
       "      <th>param_classify__penalty</th>\n",
       "      <th>params</th>\n",
       "      <th>rank_test_score</th>\n",
       "      <th>...</th>\n",
       "      <th>split2_test_score</th>\n",
       "      <th>split2_train_score</th>\n",
       "      <th>std_fit_time</th>\n",
       "      <th>std_score_time</th>\n",
       "      <th>std_test_score</th>\n",
       "      <th>std_train_score</th>\n",
       "      <th>classify__alpha</th>\n",
       "      <th>classify__l1_ratio</th>\n",
       "      <th>classify__loss</th>\n",
       "      <th>classify__penalty</th>\n",
       "    </tr>\n",
       "  </thead>\n",
       "  <tbody>\n",
       "    <tr>\n",
       "      <th>0</th>\n",
       "      <td>8.357199</td>\n",
       "      <td>0.668986</td>\n",
       "      <td>0.858922</td>\n",
       "      <td>0.872357</td>\n",
       "      <td>0.001</td>\n",
       "      <td>0</td>\n",
       "      <td>log</td>\n",
       "      <td>elasticnet</td>\n",
       "      <td>{'classify__l1_ratio': 0, 'classify__alpha': 0...</td>\n",
       "      <td>13</td>\n",
       "      <td>...</td>\n",
       "      <td>0.848474</td>\n",
       "      <td>0.865465</td>\n",
       "      <td>0.112898</td>\n",
       "      <td>0.034004</td>\n",
       "      <td>0.007508</td>\n",
       "      <td>0.006791</td>\n",
       "      <td>0.001</td>\n",
       "      <td>0.0</td>\n",
       "      <td>log</td>\n",
       "      <td>elasticnet</td>\n",
       "    </tr>\n",
       "    <tr>\n",
       "      <th>1</th>\n",
       "      <td>8.331392</td>\n",
       "      <td>0.635444</td>\n",
       "      <td>0.875953</td>\n",
       "      <td>0.886531</td>\n",
       "      <td>0.001</td>\n",
       "      <td>0.2</td>\n",
       "      <td>log</td>\n",
       "      <td>elasticnet</td>\n",
       "      <td>{'classify__l1_ratio': 0.2, 'classify__alpha':...</td>\n",
       "      <td>6</td>\n",
       "      <td>...</td>\n",
       "      <td>0.878287</td>\n",
       "      <td>0.895146</td>\n",
       "      <td>0.098700</td>\n",
       "      <td>0.015223</td>\n",
       "      <td>0.007216</td>\n",
       "      <td>0.007134</td>\n",
       "      <td>0.001</td>\n",
       "      <td>0.2</td>\n",
       "      <td>log</td>\n",
       "      <td>elasticnet</td>\n",
       "    </tr>\n",
       "  </tbody>\n",
       "</table>\n",
       "<p>2 rows × 24 columns</p>\n",
       "</div>"
      ],
      "text/plain": [
       "   mean_fit_time  mean_score_time  mean_test_score  mean_train_score  \\\n",
       "0       8.357199         0.668986         0.858922          0.872357   \n",
       "1       8.331392         0.635444         0.875953          0.886531   \n",
       "\n",
       "  param_classify__alpha param_classify__l1_ratio param_classify__loss  \\\n",
       "0                 0.001                        0                  log   \n",
       "1                 0.001                      0.2                  log   \n",
       "\n",
       "  param_classify__penalty                                             params  \\\n",
       "0              elasticnet  {'classify__l1_ratio': 0, 'classify__alpha': 0...   \n",
       "1              elasticnet  {'classify__l1_ratio': 0.2, 'classify__alpha':...   \n",
       "\n",
       "   rank_test_score        ...          split2_test_score  split2_train_score  \\\n",
       "0               13        ...                   0.848474            0.865465   \n",
       "1                6        ...                   0.878287            0.895146   \n",
       "\n",
       "   std_fit_time  std_score_time  std_test_score  std_train_score  \\\n",
       "0      0.112898        0.034004        0.007508         0.006791   \n",
       "1      0.098700        0.015223        0.007216         0.007134   \n",
       "\n",
       "   classify__alpha  classify__l1_ratio  classify__loss  classify__penalty  \n",
       "0            0.001                 0.0             log         elasticnet  \n",
       "1            0.001                 0.2             log         elasticnet  \n",
       "\n",
       "[2 rows x 24 columns]"
      ]
     },
     "execution_count": 14,
     "metadata": {},
     "output_type": "execute_result"
    }
   ],
   "source": [
    "cv_results_df_dict = {model: \n",
    "    pd.concat([\n",
    "        pd.DataFrame(pipeline.cv_results_),\n",
    "        pd.DataFrame.from_records(pipeline.cv_results_['params']),\n",
    "    ], axis='columns') for model, pipeline in cv_pipelines.items()}\n",
    "\n",
    "model = 'full'\n",
    "\n",
    "cv_results_df_dict[model].head(2)"
   ]
  },
  {
   "cell_type": "code",
   "execution_count": 15,
   "metadata": {},
   "outputs": [
    {
     "data": {
      "image/png": "[encoded data removed]",
      "text/plain": [
       "<matplotlib.figure.Figure at 0x7fd46cf3cdd8>"
      ]
     },
     "metadata": {},
     "output_type": "display_data"
    }
   ],
   "source": [
    "# Cross-validated performance heatmap\n",
    "model = 'full'\n",
    "\n",
    "cv_score_mat = pd.pivot_table(cv_results_df_dict[model],\n",
    "                              values='mean_test_score', \n",
    "                              index='classify__l1_ratio',\n",
    "                              columns='classify__alpha')\n",
    "ax = sns.heatmap(cv_score_mat, annot=True, fmt='.1%')\n",
    "ax.set_xlabel('Regularization strength multiplier (alpha)')\n",
    "ax.set_ylabel('Elastic net mixing parameter (l1_ratio)');"
   ]
  },
  {
   "cell_type": "markdown",
   "metadata": {},
   "source": [
    "## Use Optimal Hyperparameters to Output ROC Curve"
   ]
  },
  {
   "cell_type": "code",
   "execution_count": 16,
   "metadata": {
    "collapsed": true
   },
   "outputs": [],
   "source": [
    "y_pred_dict = {\n",
    "    model: {\n",
    "        'train': pipeline.decision_function(X_train),\n",
    "        'test':  pipeline.decision_function(X_test)\n",
    "    } for model, pipeline in cv_pipelines.items()\n",
    "}\n",
    "\n",
    "def get_threshold_metrics(y_true, y_pred):\n",
    "    roc_columns = ['fpr', 'tpr', 'threshold']\n",
    "    roc_items = zip(roc_columns, roc_curve(y_true, y_pred))\n",
    "    roc_df = pd.DataFrame.from_items(roc_items)\n",
    "    auroc = roc_auc_score(y_true, y_pred)\n",
    "    return {'auroc': auroc, 'roc_df': roc_df}\n",
    "\n",
    "metrics_dict = {    \n",
    "    model: {\n",
    "        'train': get_threshold_metrics(y_train, y_pred_dict[model]['train']),\n",
    "        'test':  get_threshold_metrics(y_test, y_pred_dict[model]['test'])\n",
    "    } for model in y_pred_dict.keys()\n",
    "}"
   ]
  },
  {
   "cell_type": "code",
   "execution_count": 17,
   "metadata": {},
   "outputs": [
    {
     "data": {
      "text/html": [
       "<div class=\"vega-embed\" id=\"4f571920-b7ba-43ef-a69d-029c6cfbb1ff\"></div>\n",
       "\n",
       "<style>\n",
       ".vega-embed svg, .vega-embed canvas {\n",
       "  border: 1px dotted gray;\n",
       "}\n",
       "\n",
       ".vega-embed .vega-actions a {\n",
       "  margin-right: 6px;\n",
       "}\n",
       "</style>\n"
      ]
     },
     "metadata": {
      "jupyter-vega": "#4f571920-b7ba-43ef-a69d-029c6cfbb1ff"
     },
     "output_type": "display_data"
    },
    {
     "data": {
      "application/javascript": [
       "var spec = {\"padding\": {\"left\": 70, \"bottom\": 60, \"right\": 190, \"top\": 10}, \"scales\": [{\"round\": \"true\", \"name\": \"xscale\", \"domain\": {\"field\": \"false_positive_rate\", \"data\": \"roc\"}, \"zero\": \"true\", \"range\": \"width\", \"type\": \"linear\"}, {\"round\": \"true\", \"name\": \"yscale\", \"domain\": {\"field\": \"true_positive_rate\", \"data\": \"roc\"}, \"nice\": \"true\", \"zero\": \"true\", \"range\": \"height\", \"type\": \"linear\"}, {\"range\": [\"#FF0000\", \"#5254a3\", \"#fd8d3c\"], \"name\": \"colorscale\", \"domain\": {\"field\": \"feature_set\", \"data\": \"roc\"}, \"type\": \"ordinal\"}, {\"range\": {\"field\": \"strokeDash\", \"data\": \"dash_data\"}, \"name\": \"dashscale\", \"domain\": {\"field\": \"partition\", \"data\": \"roc\"}, \"type\": \"ordinal\"}, {\"range\": {\"field\": \"strokeDash\", \"data\": \"dash_legend\"}, \"name\": \"dashlegendscale\", \"domain\": {\"field\": \"partition\", \"data\": \"roc\"}, \"type\": \"ordinal\"}, {\"name\": \"legendrow\", \"rangeMin\": 0, \"domain\": {\"field\": \"legend_index\", \"data\": \"legend_auc\"}, \"type\": \"linear\", \"rangeMax\": 110}], \"width\": 600, \"data\": [{\"name\": \"roc\", \"transform\": [{\"summarize\": [{\"ops\": [\"min\"], \"field\": \"true_positive_rate\", \"as\": [\"true_positive_rate\"]}], \"groupby\": [\"partition\", \"feature_set\", \"false_positive_rate\"], \"type\": \"aggregate\"}, {\"expr\": \"datum.partition + ' (' + datum.feature_set + ')'\", \"field\": \"legend\", \"type\": \"formula\"}], \"url\": \"jupyter_data/roc_output.csv\", \"format\": {\"type\": \"csv\"}}, {\"name\": \"roc_index_lookup\", \"transform\": [{\"type\": \"filter\", \"test\": \"datum.false_positive_rate >= index_fpr\"}, {\"summarize\": [{\"ops\": [\"min\"], \"field\": \"false_positive_rate\", \"as\": [\"min_false_positive_rate\"]}], \"groupby\": [\"legend\"], \"type\": \"aggregate\"}], \"source\": \"roc\"}, {\"name\": \"roc_index\", \"transform\": [{\"as\": [\"lookup\"], \"keys\": [\"legend\"], \"default\": -1, \"onKey\": \"legend\", \"type\": \"lookup\", \"on\": \"roc_index_lookup\"}, {\"type\": \"filter\", \"test\": \"datum.false_positive_rate == datum.lookup.min_false_positive_rate\"}, {\"summarize\": [{\"ops\": [\"min\"], \"field\": \"true_positive_rate\", \"as\": [\"agg_true_positive_rate\"]}], \"groupby\": [\"legend\", \"partition\", \"feature_set\"], \"type\": \"aggregate\"}], \"source\": \"roc\"}, {\"name\": \"dash_data\", \"values\": [{\"strokeDash\": [0, 0]}, {\"strokeDash\": [5, 7]}]}, {\"name\": \"dash_legend\", \"values\": [{\"strokeDash\": [0, 0]}, {\"strokeDash\": [3, 3]}]}, {\"name\": \"legend_auc\", \"transform\": [{\"expr\": \"datum.partition + ' (' + datum.feature_set + ')'\", \"field\": \"legend\", \"type\": \"formula\"}], \"url\": \"jupyter_data/auc.csv\", \"format\": {\"type\": \"csv\"}}], \"legends\": [{\"title\": \"feature set\", \"properties\": {\"title\": {\"fontSize\": {\"value\": 16}}, \"labels\": {\"fontSize\": {\"value\": 15}}, \"symbols\": {\"stroke\": {\"field\": \"data\", \"scale\": \"colorscale\"}, \"size\": {\"value\": 250}, \"shape\": {\"value\": \"M-0.5,-0.0L0.5,0\"}, \"strokeWidth\": {\"value\": 3}}, \"legend\": {\"y\": {\"value\": 250}, \"x\": {\"value\": 440}}}, \"fill\": \"colorscale\"}, {\"title\": \"partition\", \"properties\": {\"title\": {\"fontSize\": {\"value\": 16}}, \"labels\": {\"fontSize\": {\"value\": 15}, \"text\": {\"field\": \"data\"}}, \"symbols\": {\"stroke\": {\"value\": \"black\"}, \"size\": {\"value\": 250}, \"shape\": {\"value\": \"M-0.5,-0.0L0.5,0\"}, \"strokeWidth\": {\"value\": 3}, \"strokeDash\": {\"field\": \"data\", \"scale\": \"dashlegendscale\"}}, \"legend\": {\"y\": {\"value\": 320}, \"x\": {\"value\": 440}}}, \"stroke\": \"dashlegendscale\"}], \"marks\": [{\"properties\": {\"update\": {\"stroke\": {\"value\": \"red\"}, \"y2\": {\"field\": {\"group\": \"height\"}}, \"y\": {\"value\": 0}, \"x\": {\"signal\": \"index_fpr\", \"scale\": \"xscale\"}}}, \"type\": \"rule\"}, {\"from\": {\"transform\": [{\"groupby\": \"legend\", \"type\": \"facet\"}], \"data\": \"roc\"}, \"marks\": [{\"properties\": {\"update\": {\"strokeWidth\": {\"value\": 4}, \"x\": {\"field\": \"false_positive_rate\", \"scale\": \"xscale\"}, \"y\": {\"field\": \"true_positive_rate\", \"scale\": \"yscale\"}, \"strokeDash\": {\"field\": \"partition\", \"scale\": \"dashscale\"}, \"stroke\": {\"field\": \"feature_set\", \"scale\": \"colorscale\"}, \"strokeOpacity\": {\"value\": 0.6}}}, \"type\": \"line\"}], \"type\": \"group\"}, {\"properties\": {\"update\": {\"strokeWidth\": {\"value\": 0.5}, \"width\": {\"value\": 200}, \"y\": {\"value\": 100}, \"x\": {\"offset\": 10, \"signal\": \"index_fpr\", \"scale\": \"xscale\"}, \"height\": {\"value\": 140}, \"stroke\": {\"value\": \"black\"}}}, \"from\": {\"transform\": [{\"as\": [\"lookup\"], \"keys\": [\"legend\"], \"default\": -1, \"onKey\": \"legend\", \"type\": \"lookup\", \"on\": \"legend_auc\"}, {\"groupby\": \"legend\", \"type\": \"facet\"}], \"data\": \"roc_index\"}, \"marks\": [{\"properties\": {\"update\": {\"y\": {\"offset\": 5, \"field\": \"lookup.legend_index\", \"scale\": \"legendrow\"}, \"x\": {\"value\": 4}}}, \"marks\": [{\"properties\": {\"update\": {\"fontWeight\": {\"value\": \"bold\"}, \"text\": {\"template\": \"{{parent.legend}}\"}, \"x\": {\"value\": 0}, \"y\": {\"value\": 5}, \"fontSize\": {\"value\": 11}, \"fill\": {\"value\": \"black\"}}}, \"type\": \"text\"}, {\"properties\": {\"update\": {\"text\": {\"template\": \"TPR: {{parent.agg_true_positive_rate|number: '.3p'}}, FPR: {{index_fpr|number: '.3p'}}, AUC {{parent.lookup.auc|number: '.3p'}}\"}, \"fontSize\": {\"value\": 11}, \"y\": {\"value\": 15}, \"x\": {\"value\": 0}, \"fill\": {\"value\": \"black\"}}}, \"type\": \"text\"}], \"type\": \"group\"}], \"type\": \"group\"}], \"height\": 400, \"axes\": [{\"title\": \"False positive rate\", \"format\": \"%\", \"type\": \"x\", \"scale\": \"xscale\"}, {\"title\": \"True positive rate\", \"format\": \"%\", \"type\": \"y\", \"scale\": \"yscale\"}], \"signals\": [{\"name\": \"index_fpr\", \"streams\": [{\"expr\": \"clamp(eventX(), 0, eventGroup('root').width)\", \"type\": \"mousemove\", \"scale\": {\"name\": \"xscale\", \"invert\": true}}], \"init\": 0.4}]};\n",
       "var selector = \"#4f571920-b7ba-43ef-a69d-029c6cfbb1ff\";\n",
       "var type = \"vega\";\n",
       "\n",
       "var output_area = this;\n",
       "require(['nbextensions/jupyter-vega/index'], function(vega) {\n",
       "  vega.render(selector, spec, type, output_area);\n",
       "}, function (err) {\n",
       "  if (err.requireType !== 'scripterror') {\n",
       "    throw(err);\n",
       "  }\n",
       "});\n"
      ]
     },
     "metadata": {
      "jupyter-vega": "#4f571920-b7ba-43ef-a69d-029c6cfbb1ff"
     },
     "output_type": "display_data"
    },
    {
     "data": {
      "image/png": "[encoded data removed]"
     },
     "metadata": {
      "jupyter-vega": "#4f571920-b7ba-43ef-a69d-029c6cfbb1ff"
     },
     "output_type": "display_data"
    }
   ],
   "source": [
    "# TODO: do not save intermediate files?\n",
    "# Assemble the data for ROC curves\n",
    "model_order = ['full', 'expressions', 'covariates']\n",
    "\n",
    "auc_output = pd.DataFrame()\n",
    "roc_output = pd.DataFrame()\n",
    "\n",
    "for model in model_order:\n",
    "    metrics_partition = metrics_dict[model]\n",
    "    for partition, metrics in metrics_partition.items():\n",
    "        auc_output = auc_output.append(pd.DataFrame({\n",
    "            'partition': [partition],\n",
    "            'feature_set': [model],\n",
    "            'auc': metrics['auroc']\n",
    "        }))\n",
    "        roc_df = metrics['roc_df']\n",
    "        roc_output = roc_output.append(pd.DataFrame({\n",
    "            'false_positive_rate': roc_df.fpr,\n",
    "            'true_positive_rate': roc_df.tpr,\n",
    "            'partition': partition,\n",
    "            'feature_set': model\n",
    "        }))\n",
    "auc_output['legend_index'] = range(len(auc_output.index))\n",
    "\n",
    "roc_output.to_csv('jupyter_data/roc_output.csv', index = False)\n",
    "auc_output.to_csv('jupyter_data/auc.csv', index = False)\n",
    "\n",
    "with open('jupyter_data/roc_vega_spec.json', 'r') as fp:\n",
    "    vega_spec = json.load(fp)\n",
    "    \n",
    "vega.Vega(vega_spec)"
   ]
  },
  {
   "cell_type": "markdown",
   "metadata": {},
   "source": [
    "## What are the classifier coefficients?"
   ]
  },
  {
   "cell_type": "code",
   "execution_count": 18,
   "metadata": {
    "collapsed": true
   },
   "outputs": [],
   "source": [
    "final_pipelines = {\n",
    "    model: pipeline.best_estimator_\n",
    "    for model, pipeline in cv_pipelines.items()\n",
    "}\n",
    "final_classifiers = {\n",
    "    model: pipeline.named_steps['classify']\n",
    "    for model, pipeline in final_pipelines.items()\n",
    "}"
   ]
  },
  {
   "cell_type": "code",
   "execution_count": 53,
   "metadata": {
    "collapsed": true
   },
   "outputs": [],
   "source": [
    "def get_coefficients(classifier, feature_set):  \n",
    "    coefs = classifier.coef_[0]   \n",
    "    \n",
    "    if feature_set=='expressions':\n",
    "        features = ['PCA_%d' %cf for cf in range(len(coefs))]\n",
    "    elif feature_set=='covariates': \n",
    "        features = covariates.columns\n",
    "    else:        \n",
    "        features = ['PCA_%d' %cf for cf in range(len(coefs) - len(covariates.columns))]\n",
    "        features.extend(covariates.columns)\n",
    "     \n",
    "    coef_df = pd.DataFrame({'feature': features, 'weight': coefs})  \n",
    "        \n",
    "    coef_df['abs'] = coef_df['weight'].abs()\n",
    "    coef_df = coef_df.sort_values('abs', ascending=False)\n",
    "    \n",
    "    return coef_df\n",
    "            \n",
    "coef_df_dict = {\n",
    "    model: get_coefficients(classifier, model)\n",
    "    for model, classifier in final_classifiers.items()\n",
    "}"
   ]
  },
  {
   "cell_type": "code",
   "execution_count": 54,
   "metadata": {},
   "outputs": [
    {
     "name": "stdout",
     "output_type": "stream",
     "text": [
      "0.0% zero coefficients; 66 negative and 67 positive coefficients\n"
     ]
    },
    {
     "data": {
      "text/html": [
       "<div>\n",
       "<table border=\"1\" class=\"dataframe\">\n",
       "  <thead>\n",
       "    <tr style=\"text-align: right;\">\n",
       "      <th></th>\n",
       "      <th>feature</th>\n",
       "      <th>weight</th>\n",
       "      <th>abs</th>\n",
       "    </tr>\n",
       "  </thead>\n",
       "  <tbody>\n",
       "    <tr>\n",
       "      <th>8</th>\n",
       "      <td>PCA_8</td>\n",
       "      <td>-0.050649</td>\n",
       "      <td>0.050649</td>\n",
       "    </tr>\n",
       "    <tr>\n",
       "      <th>29</th>\n",
       "      <td>PCA_29</td>\n",
       "      <td>-0.050095</td>\n",
       "      <td>0.050095</td>\n",
       "    </tr>\n",
       "    <tr>\n",
       "      <th>22</th>\n",
       "      <td>PCA_22</td>\n",
       "      <td>-0.049127</td>\n",
       "      <td>0.049127</td>\n",
       "    </tr>\n",
       "    <tr>\n",
       "      <th>87</th>\n",
       "      <td>PCA_87</td>\n",
       "      <td>-0.045905</td>\n",
       "      <td>0.045905</td>\n",
       "    </tr>\n",
       "    <tr>\n",
       "      <th>37</th>\n",
       "      <td>PCA_37</td>\n",
       "      <td>0.045506</td>\n",
       "      <td>0.045506</td>\n",
       "    </tr>\n",
       "    <tr>\n",
       "      <th>39</th>\n",
       "      <td>PCA_39</td>\n",
       "      <td>-0.042943</td>\n",
       "      <td>0.042943</td>\n",
       "    </tr>\n",
       "    <tr>\n",
       "      <th>34</th>\n",
       "      <td>PCA_34</td>\n",
       "      <td>-0.042569</td>\n",
       "      <td>0.042569</td>\n",
       "    </tr>\n",
       "    <tr>\n",
       "      <th>61</th>\n",
       "      <td>PCA_61</td>\n",
       "      <td>-0.042054</td>\n",
       "      <td>0.042054</td>\n",
       "    </tr>\n",
       "    <tr>\n",
       "      <th>2</th>\n",
       "      <td>PCA_2</td>\n",
       "      <td>-0.041380</td>\n",
       "      <td>0.041380</td>\n",
       "    </tr>\n",
       "    <tr>\n",
       "      <th>89</th>\n",
       "      <td>PCA_89</td>\n",
       "      <td>-0.040088</td>\n",
       "      <td>0.040088</td>\n",
       "    </tr>\n",
       "  </tbody>\n",
       "</table>\n",
       "</div>"
      ],
      "text/plain": [
       "   feature    weight       abs\n",
       "8    PCA_8 -0.050649  0.050649\n",
       "29  PCA_29 -0.050095  0.050095\n",
       "22  PCA_22 -0.049127  0.049127\n",
       "87  PCA_87 -0.045905  0.045905\n",
       "37  PCA_37  0.045506  0.045506\n",
       "39  PCA_39 -0.042943  0.042943\n",
       "34  PCA_34 -0.042569  0.042569\n",
       "61  PCA_61 -0.042054  0.042054\n",
       "2    PCA_2 -0.041380  0.041380\n",
       "89  PCA_89 -0.040088  0.040088"
      ]
     },
     "execution_count": 54,
     "metadata": {},
     "output_type": "execute_result"
    }
   ],
   "source": [
    "model = 'full'\n",
    "\n",
    "print('{:.1%} zero coefficients; {:,} negative and {:,} positive coefficients'.format(\n",
    "    (coef_df_dict[model].weight == 0).mean(),\n",
    "    (coef_df_dict[model].weight < 0).sum(),\n",
    "    (coef_df_dict[model].weight > 0).sum()\n",
    "))\n",
    "coef_df_dict[model].head(10)"
   ]
  },
  {
   "cell_type": "markdown",
   "metadata": {},
   "source": [
    "## Investigate the predictions"
   ]
  },
  {
   "cell_type": "code",
   "execution_count": 35,
   "metadata": {
    "collapsed": true,
    "scrolled": false
   },
   "outputs": [],
   "source": [
    "model = 'full'\n",
    "\n",
    "predict_df = pd.DataFrame.from_items([\n",
    "    ('sample_id', X.index),\n",
    "    ('testing', X.index.isin(X_test.index).astype(int)),\n",
    "    ('status', y),\n",
    "    ('decision_function', final_pipelines[model].decision_function(X)),\n",
    "    ('probability', final_pipelines[model].predict_proba(X)[:, 1])\n",
    "])\n",
    "\n",
    "predict_df['probability_str'] = predict_df['probability'].apply('{:.1%}'.format)"
   ]
  },
  {
   "cell_type": "code",
   "execution_count": 36,
   "metadata": {},
   "outputs": [
    {
     "data": {
      "text/html": [
       "<div>\n",
       "<table border=\"1\" class=\"dataframe\">\n",
       "  <thead>\n",
       "    <tr style=\"text-align: right;\">\n",
       "      <th></th>\n",
       "      <th>sample_id</th>\n",
       "      <th>testing</th>\n",
       "      <th>status</th>\n",
       "      <th>decision_function</th>\n",
       "      <th>probability</th>\n",
       "      <th>probability_str</th>\n",
       "    </tr>\n",
       "    <tr>\n",
       "      <th>sample_id</th>\n",
       "      <th></th>\n",
       "      <th></th>\n",
       "      <th></th>\n",
       "      <th></th>\n",
       "      <th></th>\n",
       "      <th></th>\n",
       "    </tr>\n",
       "  </thead>\n",
       "  <tbody>\n",
       "    <tr>\n",
       "      <th>TCGA-L5-A4OH-01</th>\n",
       "      <td>TCGA-L5-A4OH-01</td>\n",
       "      <td>0</td>\n",
       "      <td>0</td>\n",
       "      <td>6.515521</td>\n",
       "      <td>0.998522</td>\n",
       "      <td>99.9%</td>\n",
       "    </tr>\n",
       "    <tr>\n",
       "      <th>TCGA-22-4591-01</th>\n",
       "      <td>TCGA-22-4591-01</td>\n",
       "      <td>0</td>\n",
       "      <td>0</td>\n",
       "      <td>5.606951</td>\n",
       "      <td>0.996341</td>\n",
       "      <td>99.6%</td>\n",
       "    </tr>\n",
       "    <tr>\n",
       "      <th>TCGA-EI-6513-01</th>\n",
       "      <td>TCGA-EI-6513-01</td>\n",
       "      <td>1</td>\n",
       "      <td>0</td>\n",
       "      <td>5.309530</td>\n",
       "      <td>0.995080</td>\n",
       "      <td>99.5%</td>\n",
       "    </tr>\n",
       "    <tr>\n",
       "      <th>TCGA-L5-A8NR-01</th>\n",
       "      <td>TCGA-L5-A8NR-01</td>\n",
       "      <td>0</td>\n",
       "      <td>0</td>\n",
       "      <td>5.265401</td>\n",
       "      <td>0.994859</td>\n",
       "      <td>99.5%</td>\n",
       "    </tr>\n",
       "    <tr>\n",
       "      <th>TCGA-46-3765-01</th>\n",
       "      <td>TCGA-46-3765-01</td>\n",
       "      <td>0</td>\n",
       "      <td>0</td>\n",
       "      <td>4.761931</td>\n",
       "      <td>0.991523</td>\n",
       "      <td>99.2%</td>\n",
       "    </tr>\n",
       "    <tr>\n",
       "      <th>TCGA-21-1081-01</th>\n",
       "      <td>TCGA-21-1081-01</td>\n",
       "      <td>0</td>\n",
       "      <td>0</td>\n",
       "      <td>4.744203</td>\n",
       "      <td>0.991373</td>\n",
       "      <td>99.1%</td>\n",
       "    </tr>\n",
       "    <tr>\n",
       "      <th>TCGA-BR-4369-01</th>\n",
       "      <td>TCGA-BR-4369-01</td>\n",
       "      <td>0</td>\n",
       "      <td>0</td>\n",
       "      <td>4.325405</td>\n",
       "      <td>0.986945</td>\n",
       "      <td>98.7%</td>\n",
       "    </tr>\n",
       "    <tr>\n",
       "      <th>TCGA-B6-A0I6-01</th>\n",
       "      <td>TCGA-B6-A0I6-01</td>\n",
       "      <td>1</td>\n",
       "      <td>0</td>\n",
       "      <td>4.122181</td>\n",
       "      <td>0.984049</td>\n",
       "      <td>98.4%</td>\n",
       "    </tr>\n",
       "    <tr>\n",
       "      <th>TCGA-09-2051-01</th>\n",
       "      <td>TCGA-09-2051-01</td>\n",
       "      <td>0</td>\n",
       "      <td>0</td>\n",
       "      <td>4.104163</td>\n",
       "      <td>0.983764</td>\n",
       "      <td>98.4%</td>\n",
       "    </tr>\n",
       "    <tr>\n",
       "      <th>TCGA-L5-A4OS-01</th>\n",
       "      <td>TCGA-L5-A4OS-01</td>\n",
       "      <td>0</td>\n",
       "      <td>0</td>\n",
       "      <td>4.049256</td>\n",
       "      <td>0.982863</td>\n",
       "      <td>98.3%</td>\n",
       "    </tr>\n",
       "  </tbody>\n",
       "</table>\n",
       "</div>"
      ],
      "text/plain": [
       "                       sample_id  testing  status  decision_function  \\\n",
       "sample_id                                                              \n",
       "TCGA-L5-A4OH-01  TCGA-L5-A4OH-01        0       0           6.515521   \n",
       "TCGA-22-4591-01  TCGA-22-4591-01        0       0           5.606951   \n",
       "TCGA-EI-6513-01  TCGA-EI-6513-01        1       0           5.309530   \n",
       "TCGA-L5-A8NR-01  TCGA-L5-A8NR-01        0       0           5.265401   \n",
       "TCGA-46-3765-01  TCGA-46-3765-01        0       0           4.761931   \n",
       "TCGA-21-1081-01  TCGA-21-1081-01        0       0           4.744203   \n",
       "TCGA-BR-4369-01  TCGA-BR-4369-01        0       0           4.325405   \n",
       "TCGA-B6-A0I6-01  TCGA-B6-A0I6-01        1       0           4.122181   \n",
       "TCGA-09-2051-01  TCGA-09-2051-01        0       0           4.104163   \n",
       "TCGA-L5-A4OS-01  TCGA-L5-A4OS-01        0       0           4.049256   \n",
       "\n",
       "                 probability probability_str  \n",
       "sample_id                                     \n",
       "TCGA-L5-A4OH-01     0.998522           99.9%  \n",
       "TCGA-22-4591-01     0.996341           99.6%  \n",
       "TCGA-EI-6513-01     0.995080           99.5%  \n",
       "TCGA-L5-A8NR-01     0.994859           99.5%  \n",
       "TCGA-46-3765-01     0.991523           99.2%  \n",
       "TCGA-21-1081-01     0.991373           99.1%  \n",
       "TCGA-BR-4369-01     0.986945           98.7%  \n",
       "TCGA-B6-A0I6-01     0.984049           98.4%  \n",
       "TCGA-09-2051-01     0.983764           98.4%  \n",
       "TCGA-L5-A4OS-01     0.982863           98.3%  "
      ]
     },
     "execution_count": 36,
     "metadata": {},
     "output_type": "execute_result"
    }
   ],
   "source": [
    "# Top predictions amongst negatives (potential hidden responders)\n",
    "predict_df.sort_values('decision_function', ascending=False).query(\"status == 0\").head(10)"
   ]
  },
  {
   "cell_type": "code",
   "execution_count": 37,
   "metadata": {},
   "outputs": [
    {
     "data": {
      "image/png": "[encoded data removed]",
      "text/plain": [
       "<matplotlib.figure.Figure at 0x7f134cb16da0>"
      ]
     },
     "metadata": {},
     "output_type": "display_data"
    }
   ],
   "source": [
    "# Ignore numpy warning caused by seaborn\n",
    "warnings.filterwarnings('ignore', 'using a non-integer number instead of an integer')\n",
    "\n",
    "ax = sns.distplot(predict_df.query(\"status == 0\").decision_function, hist=False, label='Negatives')\n",
    "ax = sns.distplot(predict_df.query(\"status == 1\").decision_function, hist=False, label='Positives')"
   ]
  },
  {
   "cell_type": "code",
   "execution_count": 38,
   "metadata": {},
   "outputs": [
    {
     "data": {
      "image/png": "[encoded data removed]",
      "text/plain": [
       "<matplotlib.figure.Figure at 0x7f1351d43c88>"
      ]
     },
     "metadata": {},
     "output_type": "display_data"
    }
   ],
   "source": [
    "ax = sns.distplot(predict_df.query(\"status == 0\").probability, hist=False, label='Negatives')\n",
    "ax = sns.distplot(predict_df.query(\"status == 1\").probability, hist=False, label='Positives')"
   ]
  }
 ],
 "metadata": {
  "kernelspec": {
   "display_name": "Python 3",
   "language": "python",
   "name": "python3"
  },
  "language_info": {
   "codemirror_mode": {
    "name": "ipython",
    "version": 3
   },
   "file_extension": ".py",
   "mimetype": "text/x-python",
   "name": "python",
   "nbconvert_exporter": "python",
   "pygments_lexer": "ipython3",
   "version": "3.5.2"
  }
 },
 "nbformat": 4,
 "nbformat_minor": 1
}
