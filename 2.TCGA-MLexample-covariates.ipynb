{
 "cells": [
  {
   "cell_type": "markdown",
   "metadata": {},
   "source": [
    "# Create a logistic regression model to predict TP53 mutation from gene expression data in TCGA"
   ]
  },
  {
   "cell_type": "code",
   "execution_count": 1,
   "metadata": {
    "collapsed": true
   },
   "outputs": [],
   "source": [
    "import os\n",
    "import urllib\n",
    "import random\n",
    "import warnings\n",
    "\n",
    "import pandas as pd\n",
    "import numpy as np\n",
    "import matplotlib.pyplot as plt\n",
    "import seaborn as sns\n",
    "import vega\n",
    "import json\n",
    "from sklearn import preprocessing\n",
    "from sklearn.linear_model import SGDClassifier\n",
    "from sklearn.model_selection import train_test_split, GridSearchCV, ShuffleSplit\n",
    "from sklearn.metrics import roc_auc_score, roc_curve\n",
    "from sklearn.pipeline import Pipeline, FeatureUnion\n",
    "from sklearn.preprocessing import StandardScaler, FunctionTransformer\n",
    "from sklearn.decomposition import PCA"
   ]
  },
  {
   "cell_type": "code",
   "execution_count": 2,
   "metadata": {
    "collapsed": true
   },
   "outputs": [],
   "source": [
    "%matplotlib inline\n",
    "plt.style.use('seaborn-notebook')"
   ]
  },
  {
   "cell_type": "markdown",
   "metadata": {},
   "source": [
    "## Specify model configuration"
   ]
  },
  {
   "cell_type": "code",
   "execution_count": 3,
   "metadata": {
    "collapsed": true
   },
   "outputs": [],
   "source": [
    "# We're going to be building a 'TP53' classifier \n",
    "GENE = '7157' # TP53"
   ]
  },
  {
   "cell_type": "markdown",
   "metadata": {},
   "source": [
    "*Here is some [documentation](http://scikit-learn.org/stable/modules/generated/sklearn.linear_model.SGDClassifier.html) regarding the classifier and hyperparameters*\n",
    "\n",
    "*Here is some [information](https://ghr.nlm.nih.gov/gene/TP53) about TP53*"
   ]
  },
  {
   "cell_type": "markdown",
   "metadata": {},
   "source": [
    "## Load Data"
   ]
  },
  {
   "cell_type": "code",
   "execution_count": 4,
   "metadata": {},
   "outputs": [
    {
     "name": "stdout",
     "output_type": "stream",
     "text": [
      "CPU times: user 1min 24s, sys: 6.28 s, total: 1min 30s\n",
      "Wall time: 1min 31s\n"
     ]
    }
   ],
   "source": [
    "%%time\n",
    "path = os.path.join('download', 'expression-matrix.tsv.bz2')\n",
    "expression = pd.read_table(path, index_col=0)"
   ]
  },
  {
   "cell_type": "code",
   "execution_count": 5,
   "metadata": {},
   "outputs": [
    {
     "name": "stdout",
     "output_type": "stream",
     "text": [
      "CPU times: user 56.8 s, sys: 430 ms, total: 57.3 s\n",
      "Wall time: 57.3 s\n"
     ]
    }
   ],
   "source": [
    "%%time\n",
    "path = os.path.join('download', 'mutation-matrix.tsv.bz2')\n",
    "Y = pd.read_table(path, index_col=0)"
   ]
  },
  {
   "cell_type": "code",
   "execution_count": 6,
   "metadata": {},
   "outputs": [
    {
     "name": "stdout",
     "output_type": "stream",
     "text": [
      "CPU times: user 30 ms, sys: 0 ns, total: 30 ms\n",
      "Wall time: 38.3 ms\n"
     ]
    }
   ],
   "source": [
    "%%time\n",
    "path = os.path.join('download', 'covariates.tsv')\n",
    "covariates = pd.read_table(path, index_col=0)\n",
    "\n",
    "# Select acronym_x and n_mutations_log1p covariates only\n",
    "selected_cols = [col for col in covariates.columns if 'acronym_' in col]\n",
    "selected_cols.append('n_mutations_log1p')\n",
    "covariates = covariates[selected_cols]"
   ]
  },
  {
   "cell_type": "code",
   "execution_count": 7,
   "metadata": {
    "collapsed": true
   },
   "outputs": [],
   "source": [
    "y = Y[GENE]"
   ]
  },
  {
   "cell_type": "code",
   "execution_count": 8,
   "metadata": {},
   "outputs": [
    {
     "data": {
      "text/plain": [
       "sample_id\n",
       "TCGA-02-0047-01    0\n",
       "TCGA-02-0055-01    1\n",
       "TCGA-02-2483-01    1\n",
       "TCGA-02-2485-01    1\n",
       "TCGA-02-2486-01    0\n",
       "TCGA-04-1348-01    1\n",
       "Name: 7157, dtype: int64"
      ]
     },
     "execution_count": 8,
     "metadata": {},
     "output_type": "execute_result"
    }
   ],
   "source": [
    "# The Series now holds TP53 Mutation Status for each Sample\n",
    "y.head(6)"
   ]
  },
  {
   "cell_type": "code",
   "execution_count": 9,
   "metadata": {},
   "outputs": [
    {
     "data": {
      "text/plain": [
       "0    0.645907\n",
       "1    0.354093\n",
       "Name: 7157, dtype: float64"
      ]
     },
     "execution_count": 9,
     "metadata": {},
     "output_type": "execute_result"
    }
   ],
   "source": [
    "# Here are the percentage of tumors with NF1\n",
    "y.value_counts(True)"
   ]
  },
  {
   "cell_type": "markdown",
   "metadata": {},
   "source": [
    "## Set aside 10% of the data for testing"
   ]
  },
  {
   "cell_type": "code",
   "execution_count": 10,
   "metadata": {},
   "outputs": [
    {
     "name": "stdout",
     "output_type": "stream",
     "text": [
      "Gene expression matrix shape: 7306, 20468\n",
      "Covariates matrix shape: 7306, 33\n"
     ]
    }
   ],
   "source": [
    "X = pd.concat([covariates, expression], axis=1)\n",
    "print('Gene expression matrix shape: {0[0]}, {0[1]}'.format(expression.shape))\n",
    "print('Covariates matrix shape: {0[0]}, {0[1]}'.format(covariates.shape))\n",
    "\n",
    "# Typically, this can only be done where the number of mutations is large enough\n",
    "X_train, X_test, y_train, y_test = train_test_split(X, y, test_size=0.1, random_state=0)\n",
    "\n",
    "# Select the feature set for the different models\n",
    "N_COVARIATES = covariates.shape[1]\n",
    "def select_feature_set_columns(X, feature_set):\n",
    "    if feature_set=='expressions': return X[:, N_COVARIATES:]\n",
    "    return  X[:, :N_COVARIATES]"
   ]
  },
  {
   "cell_type": "markdown",
   "metadata": {},
   "source": [
    "## Define pipeline and Cross validation model fitting"
   ]
  },
  {
   "cell_type": "code",
   "execution_count": 11,
   "metadata": {},
   "outputs": [],
   "source": [
    "# Parameter Sweep for Hyperparameters\n",
    "n_components_list = [50, 100]\n",
    "\n",
    "param_grids = {\n",
    "    'full': {\n",
    "        'features__expressions__pca__n_components' : n_components_list,\n",
    "        'classify__loss': ['log'],\n",
    "        'classify__penalty': ['elasticnet'],\n",
    "        'classify__alpha': [10 ** x for x in range(-3, 1)],\n",
    "        'classify__l1_ratio': [0, 0.2, 0.8, 1],\n",
    "    },\n",
    "    'expressions': {\n",
    "        'features__expressions__pca__n_components' : n_components_list,\n",
    "        'classify__loss': ['log'],\n",
    "        'classify__penalty': ['elasticnet'],\n",
    "        'classify__alpha': [10 ** x for x in range(-3, 1)],\n",
    "        'classify__l1_ratio': [0, 0.2, 0.8, 1],\n",
    "    },\n",
    "    'covariates': {\n",
    "        'classify__loss': ['log'],\n",
    "        'classify__penalty': ['elasticnet'],\n",
    "        'classify__alpha': [10 ** x for x in range(-3, 1)],\n",
    "        'classify__l1_ratio': [0, 0.2, 0.8, 1],\n",
    "    }\n",
    "}\n",
    "\n",
    "# Feature selection\n",
    "expression_features = Pipeline([\n",
    "    ('select_features', FunctionTransformer(select_feature_set_columns,\n",
    "        kw_args={'feature_set': 'expressions'})),\n",
    "    ('standardize', StandardScaler()),\n",
    "    ('pca', PCA())\n",
    "])\n",
    "covariate_features = Pipeline([\n",
    "    ('select_features', FunctionTransformer(select_feature_set_columns,\n",
    "        kw_args={'feature_set': 'covariates'})),\n",
    "    ('standardize', StandardScaler())\n",
    "])\n",
    "\n",
    "# Full model pipelines\n",
    "pipeline_definitions = {\n",
    "    'full': Pipeline([\n",
    "        ('features', FeatureUnion([\n",
    "            ('expressions', expression_features),\n",
    "            ('covariates', covariate_features)\n",
    "        ])),\n",
    "        ('classify', SGDClassifier(random_state=0, class_weight='balanced'))\n",
    "    ]),\n",
    "    'expressions': Pipeline([\n",
    "        ('features', FeatureUnion([('expressions', expression_features)])),\n",
    "        ('classify', SGDClassifier(random_state=0, class_weight='balanced'))\n",
    "    ]),\n",
    "    'covariates': Pipeline([\n",
    "        ('features', FeatureUnion([('covariates', covariate_features)])),\n",
    "        ('classify', SGDClassifier(random_state=0, class_weight='balanced'))\n",
    "    ])\n",
    "}\n",
    "\n",
    "models = ['full', 'expressions', 'covariates']\n",
    "\n",
    "cv_pipelines = {mod: GridSearchCV(estimator=pipeline, \n",
    "                             param_grid=param_grids[mod], \n",
    "                             n_jobs=1, \n",
    "                             scoring='roc_auc') \n",
    "                for mod, pipeline in pipeline_definitions.items()}"
   ]
  },
  {
   "cell_type": "code",
   "execution_count": 12,
   "metadata": {},
   "outputs": [
    {
     "name": "stdout",
     "output_type": "stream",
     "text": [
      "Fitting CV for model: expressions\n",
      "Fitting CV for model: covariates\n",
      "Fitting CV for model: full\n",
      "CPU times: user 1h 18min 41s, sys: 14min 8s, total: 1h 32min 49s\n",
      "Wall time: 32min 37s\n"
     ]
    }
   ],
   "source": [
    "%%time\n",
    "for model, pipeline in cv_pipelines.items():\n",
    "    print('Fitting CV for model: {0}'.format(model))\n",
    "    pipeline.fit(X=X_train, y=y_train)"
   ]
  },
  {
   "cell_type": "code",
   "execution_count": 13,
   "metadata": {},
   "outputs": [
    {
     "name": "stdout",
     "output_type": "stream",
     "text": [
      "expressions: 91.271%\n",
      "{'classify__alpha': 1, 'features__expressions__pca__n_components': 100, 'classify__loss': 'log', 'classify__l1_ratio': 0, 'classify__penalty': 'elasticnet'}\n",
      "covariates: 84.259%\n",
      "{'classify__alpha': 0.1, 'classify__loss': 'log', 'classify__l1_ratio': 0, 'classify__penalty': 'elasticnet'}\n",
      "full: 91.459%\n",
      "{'classify__alpha': 1, 'features__expressions__pca__n_components': 100, 'classify__loss': 'log', 'classify__l1_ratio': 0, 'classify__penalty': 'elasticnet'}\n"
     ]
    }
   ],
   "source": [
    "# Best Parameters\n",
    "for model, pipeline in cv_pipelines.items():\n",
    "    print('{0}: {1:.3%}'.format(model, pipeline.best_score_))\n",
    "\n",
    "    print(pipeline.best_params_)"
   ]
  },
  {
   "cell_type": "markdown",
   "metadata": {},
   "source": [
    "## Visualize hyperparameters performance"
   ]
  },
  {
   "cell_type": "code",
   "execution_count": 14,
   "metadata": {},
   "outputs": [
    {
     "data": {
      "text/html": [
       "<div>\n",
       "<table border=\"1\" class=\"dataframe\">\n",
       "  <thead>\n",
       "    <tr style=\"text-align: right;\">\n",
       "      <th></th>\n",
       "      <th>mean_fit_time</th>\n",
       "      <th>mean_score_time</th>\n",
       "      <th>mean_test_score</th>\n",
       "      <th>mean_train_score</th>\n",
       "      <th>param_classify__alpha</th>\n",
       "      <th>param_classify__l1_ratio</th>\n",
       "      <th>param_classify__loss</th>\n",
       "      <th>param_classify__penalty</th>\n",
       "      <th>param_features__expressions__pca__n_components</th>\n",
       "      <th>params</th>\n",
       "      <th>...</th>\n",
       "      <th>split2_train_score</th>\n",
       "      <th>std_fit_time</th>\n",
       "      <th>std_score_time</th>\n",
       "      <th>std_test_score</th>\n",
       "      <th>std_train_score</th>\n",
       "      <th>classify__alpha</th>\n",
       "      <th>classify__l1_ratio</th>\n",
       "      <th>classify__loss</th>\n",
       "      <th>classify__penalty</th>\n",
       "      <th>features__expressions__pca__n_components</th>\n",
       "    </tr>\n",
       "  </thead>\n",
       "  <tbody>\n",
       "    <tr>\n",
       "      <th>0</th>\n",
       "      <td>7.425376</td>\n",
       "      <td>0.613881</td>\n",
       "      <td>0.836513</td>\n",
       "      <td>0.848331</td>\n",
       "      <td>0.001</td>\n",
       "      <td>0</td>\n",
       "      <td>log</td>\n",
       "      <td>elasticnet</td>\n",
       "      <td>50</td>\n",
       "      <td>{'classify__alpha': 0.001, 'features__expressi...</td>\n",
       "      <td>...</td>\n",
       "      <td>0.832913</td>\n",
       "      <td>0.067932</td>\n",
       "      <td>0.008591</td>\n",
       "      <td>0.017846</td>\n",
       "      <td>0.011674</td>\n",
       "      <td>0.001</td>\n",
       "      <td>0.0</td>\n",
       "      <td>log</td>\n",
       "      <td>elasticnet</td>\n",
       "      <td>50</td>\n",
       "    </tr>\n",
       "    <tr>\n",
       "      <th>1</th>\n",
       "      <td>8.549195</td>\n",
       "      <td>0.660504</td>\n",
       "      <td>0.864346</td>\n",
       "      <td>0.874543</td>\n",
       "      <td>0.001</td>\n",
       "      <td>0</td>\n",
       "      <td>log</td>\n",
       "      <td>elasticnet</td>\n",
       "      <td>100</td>\n",
       "      <td>{'classify__alpha': 0.001, 'features__expressi...</td>\n",
       "      <td>...</td>\n",
       "      <td>0.872565</td>\n",
       "      <td>0.052919</td>\n",
       "      <td>0.029672</td>\n",
       "      <td>0.008518</td>\n",
       "      <td>0.003516</td>\n",
       "      <td>0.001</td>\n",
       "      <td>0.0</td>\n",
       "      <td>log</td>\n",
       "      <td>elasticnet</td>\n",
       "      <td>100</td>\n",
       "    </tr>\n",
       "  </tbody>\n",
       "</table>\n",
       "<p>2 rows × 26 columns</p>\n",
       "</div>"
      ],
      "text/plain": [
       "   mean_fit_time  mean_score_time  mean_test_score  mean_train_score  \\\n",
       "0       7.425376         0.613881         0.836513          0.848331   \n",
       "1       8.549195         0.660504         0.864346          0.874543   \n",
       "\n",
       "  param_classify__alpha param_classify__l1_ratio param_classify__loss  \\\n",
       "0                 0.001                        0                  log   \n",
       "1                 0.001                        0                  log   \n",
       "\n",
       "  param_classify__penalty param_features__expressions__pca__n_components  \\\n",
       "0              elasticnet                                             50   \n",
       "1              elasticnet                                            100   \n",
       "\n",
       "                                              params  \\\n",
       "0  {'classify__alpha': 0.001, 'features__expressi...   \n",
       "1  {'classify__alpha': 0.001, 'features__expressi...   \n",
       "\n",
       "                     ...                     split2_train_score  std_fit_time  \\\n",
       "0                    ...                               0.832913      0.067932   \n",
       "1                    ...                               0.872565      0.052919   \n",
       "\n",
       "   std_score_time  std_test_score  std_train_score  classify__alpha  \\\n",
       "0        0.008591        0.017846         0.011674            0.001   \n",
       "1        0.029672        0.008518         0.003516            0.001   \n",
       "\n",
       "   classify__l1_ratio  classify__loss  classify__penalty  \\\n",
       "0                 0.0             log         elasticnet   \n",
       "1                 0.0             log         elasticnet   \n",
       "\n",
       "   features__expressions__pca__n_components  \n",
       "0                                        50  \n",
       "1                                       100  \n",
       "\n",
       "[2 rows x 26 columns]"
      ]
     },
     "execution_count": 14,
     "metadata": {},
     "output_type": "execute_result"
    }
   ],
   "source": [
    "cv_results_df_dict = {model: \n",
    "    pd.concat([\n",
    "        pd.DataFrame(pipeline.cv_results_),\n",
    "        pd.DataFrame.from_records(pipeline.cv_results_['params']),\n",
    "    ], axis='columns') for model, pipeline in cv_pipelines.items()}\n",
    "\n",
    "model = 'full'\n",
    "\n",
    "cv_results_df_dict[model].head(2)"
   ]
  },
  {
   "cell_type": "code",
   "execution_count": 15,
   "metadata": {},
   "outputs": [
    {
     "data": {
      "image/png": "[encoded data removed]",
      "text/plain": [
       "<matplotlib.figure.Figure at 0x7f7d1a6ee278>"
      ]
     },
     "metadata": {},
     "output_type": "display_data"
    }
   ],
   "source": [
    "# Cross-validated performance heatmap\n",
    "model = 'full'\n",
    "\n",
    "cv_score_mat = pd.pivot_table(cv_results_df_dict[model],\n",
    "                              values='mean_test_score', \n",
    "                              index='classify__l1_ratio',\n",
    "                              columns='classify__alpha')\n",
    "ax = sns.heatmap(cv_score_mat, annot=True, fmt='.1%')\n",
    "ax.set_xlabel('Regularization strength multiplier (alpha)')\n",
    "ax.set_ylabel('Elastic net mixing parameter (l1_ratio)');"
   ]
  },
  {
   "cell_type": "markdown",
   "metadata": {},
   "source": [
    "## Use Optimal Hyperparameters to Output ROC Curve"
   ]
  },
  {
   "cell_type": "code",
   "execution_count": 16,
   "metadata": {
    "collapsed": true
   },
   "outputs": [],
   "source": [
    "y_pred_dict = {\n",
    "    model: {\n",
    "        'train': pipeline.decision_function(X_train),\n",
    "        'test':  pipeline.decision_function(X_test)\n",
    "    } for model, pipeline in cv_pipelines.items()\n",
    "}\n",
    "\n",
    "def get_threshold_metrics(y_true, y_pred):\n",
    "    roc_columns = ['fpr', 'tpr', 'threshold']\n",
    "    roc_items = zip(roc_columns, roc_curve(y_true, y_pred))\n",
    "    roc_df = pd.DataFrame.from_items(roc_items)\n",
    "    auroc = roc_auc_score(y_true, y_pred)\n",
    "    return {'auroc': auroc, 'roc_df': roc_df}\n",
    "\n",
    "metrics_dict = {    \n",
    "    model: {\n",
    "        'train': get_threshold_metrics(y_train, y_pred_dict[model]['train']),\n",
    "        'test':  get_threshold_metrics(y_test, y_pred_dict[model]['test'])\n",
    "    } for model in y_pred_dict.keys()\n",
    "}"
   ]
  },
  {
   "cell_type": "code",
   "execution_count": 17,
   "metadata": {},
   "outputs": [
    {
     "data": {
      "text/html": [
       "<div class=\"vega-embed\" id=\"32a19847-6849-468c-bce2-17c4b2a7d22e\"></div>\n",
       "\n",
       "<style>\n",
       ".vega-embed svg, .vega-embed canvas {\n",
       "  border: 1px dotted gray;\n",
       "}\n",
       "\n",
       ".vega-embed .vega-actions a {\n",
       "  margin-right: 6px;\n",
       "}\n",
       "</style>\n"
      ]
     },
     "metadata": {
      "jupyter-vega": "#32a19847-6849-468c-bce2-17c4b2a7d22e"
     },
     "output_type": "display_data"
    },
    {
     "data": {
      "application/javascript": [
       "var spec = {\"legends\": [{\"properties\": {\"labels\": {\"fontSize\": {\"value\": 15}}, \"legend\": {\"x\": {\"value\": 440}, \"y\": {\"value\": 250}}, \"title\": {\"fontSize\": {\"value\": 16}}, \"symbols\": {\"strokeWidth\": {\"value\": 3}, \"stroke\": {\"scale\": \"colorscale\", \"field\": \"data\"}, \"shape\": {\"value\": \"M-0.5,-0.0L0.5,0\"}, \"size\": {\"value\": 250}}}, \"fill\": \"colorscale\", \"title\": \"feature set\"}, {\"stroke\": \"dashlegendscale\", \"properties\": {\"labels\": {\"fontSize\": {\"value\": 15}, \"text\": {\"field\": \"data\"}}, \"legend\": {\"x\": {\"value\": 440}, \"y\": {\"value\": 320}}, \"symbols\": {\"stroke\": {\"value\": \"black\"}, \"strokeWidth\": {\"value\": 3}, \"strokeDash\": {\"scale\": \"dashlegendscale\", \"field\": \"data\"}, \"shape\": {\"value\": \"M-0.5,-0.0L0.5,0\"}, \"size\": {\"value\": 250}}, \"title\": {\"fontSize\": {\"value\": 16}}}, \"title\": \"partition\"}], \"height\": 400, \"axes\": [{\"scale\": \"xscale\", \"type\": \"x\", \"title\": \"False positive rate\", \"format\": \"%\"}, {\"scale\": \"yscale\", \"type\": \"y\", \"title\": \"True positive rate\", \"format\": \"%\"}], \"scales\": [{\"zero\": \"true\", \"type\": \"linear\", \"round\": \"true\", \"range\": \"width\", \"name\": \"xscale\", \"domain\": {\"data\": \"roc\", \"field\": \"false_positive_rate\"}}, {\"zero\": \"true\", \"type\": \"linear\", \"nice\": \"true\", \"round\": \"true\", \"range\": \"height\", \"name\": \"yscale\", \"domain\": {\"data\": \"roc\", \"field\": \"true_positive_rate\"}}, {\"range\": [\"#FF0000\", \"#5254a3\", \"#fd8d3c\"], \"type\": \"ordinal\", \"name\": \"colorscale\", \"domain\": {\"data\": \"roc\", \"field\": \"feature_set\"}}, {\"range\": {\"data\": \"dash_data\", \"field\": \"strokeDash\"}, \"type\": \"ordinal\", \"name\": \"dashscale\", \"domain\": {\"data\": \"roc\", \"field\": \"partition\"}}, {\"range\": {\"data\": \"dash_legend\", \"field\": \"strokeDash\"}, \"type\": \"ordinal\", \"name\": \"dashlegendscale\", \"domain\": {\"data\": \"roc\", \"field\": \"partition\"}}, {\"rangeMin\": 0, \"rangeMax\": 110, \"type\": \"linear\", \"name\": \"legendrow\", \"domain\": {\"data\": \"legend_auc\", \"field\": \"legend_index\"}}], \"signals\": [{\"init\": 0.4, \"name\": \"index_fpr\", \"streams\": [{\"scale\": {\"invert\": true, \"name\": \"xscale\"}, \"expr\": \"clamp(eventX(), 0, eventGroup('root').width)\", \"type\": \"mousemove\"}]}], \"width\": 600, \"padding\": {\"left\": 70, \"right\": 190, \"bottom\": 60, \"top\": 10}, \"marks\": [{\"properties\": {\"update\": {\"stroke\": {\"value\": \"red\"}, \"y2\": {\"field\": {\"group\": \"height\"}}, \"x\": {\"scale\": \"xscale\", \"signal\": \"index_fpr\"}, \"y\": {\"value\": 0}}}, \"type\": \"rule\"}, {\"from\": {\"transform\": [{\"groupby\": \"legend\", \"type\": \"facet\"}], \"data\": \"roc\"}, \"type\": \"group\", \"marks\": [{\"properties\": {\"update\": {\"stroke\": {\"scale\": \"colorscale\", \"field\": \"feature_set\"}, \"strokeWidth\": {\"value\": 4}, \"x\": {\"scale\": \"xscale\", \"field\": \"false_positive_rate\"}, \"strokeOpacity\": {\"value\": 0.6}, \"y\": {\"scale\": \"yscale\", \"field\": \"true_positive_rate\"}, \"strokeDash\": {\"scale\": \"dashscale\", \"field\": \"partition\"}}}, \"type\": \"line\"}]}, {\"from\": {\"transform\": [{\"on\": \"legend_auc\", \"default\": -1, \"keys\": [\"legend\"], \"type\": \"lookup\", \"onKey\": \"legend\", \"as\": [\"lookup\"]}, {\"groupby\": \"legend\", \"type\": \"facet\"}], \"data\": \"roc_index\"}, \"properties\": {\"update\": {\"strokeWidth\": {\"value\": 0.5}, \"stroke\": {\"value\": \"black\"}, \"height\": {\"value\": 140}, \"x\": {\"offset\": 10, \"scale\": \"xscale\", \"signal\": \"index_fpr\"}, \"width\": {\"value\": 200}, \"y\": {\"value\": 100}}}, \"type\": \"group\", \"marks\": [{\"properties\": {\"update\": {\"x\": {\"value\": 4}, \"y\": {\"offset\": 5, \"scale\": \"legendrow\", \"field\": \"lookup.legend_index\"}}}, \"type\": \"group\", \"marks\": [{\"properties\": {\"update\": {\"fontSize\": {\"value\": 11}, \"x\": {\"value\": 0}, \"fontWeight\": {\"value\": \"bold\"}, \"text\": {\"template\": \"{{parent.legend}}\"}, \"fill\": {\"value\": \"black\"}, \"y\": {\"value\": 5}}}, \"type\": \"text\"}, {\"properties\": {\"update\": {\"text\": {\"template\": \"TPR: {{parent.agg_true_positive_rate|number: '.3p'}}, FPR: {{index_fpr|number: '.3p'}}, AUC {{parent.lookup.auc|number: '.3p'}}\"}, \"fontSize\": {\"value\": 11}, \"fill\": {\"value\": \"black\"}, \"x\": {\"value\": 0}, \"y\": {\"value\": 15}}}, \"type\": \"text\"}]}]}], \"data\": [{\"transform\": [{\"groupby\": [\"partition\", \"feature_set\", \"false_positive_rate\"], \"type\": \"aggregate\", \"summarize\": [{\"ops\": [\"min\"], \"field\": \"true_positive_rate\", \"as\": [\"true_positive_rate\"]}]}, {\"expr\": \"datum.partition + ' (' + datum.feature_set + ')'\", \"type\": \"formula\", \"field\": \"legend\"}], \"format\": {\"type\": \"csv\"}, \"name\": \"roc\", \"url\": \"jupyter_data/roc_output.csv\"}, {\"transform\": [{\"test\": \"datum.false_positive_rate >= index_fpr\", \"type\": \"filter\"}, {\"groupby\": [\"legend\"], \"type\": \"aggregate\", \"summarize\": [{\"ops\": [\"min\"], \"field\": \"false_positive_rate\", \"as\": [\"min_false_positive_rate\"]}]}], \"source\": \"roc\", \"name\": \"roc_index_lookup\"}, {\"transform\": [{\"on\": \"roc_index_lookup\", \"default\": -1, \"keys\": [\"legend\"], \"type\": \"lookup\", \"onKey\": \"legend\", \"as\": [\"lookup\"]}, {\"test\": \"datum.false_positive_rate == datum.lookup.min_false_positive_rate\", \"type\": \"filter\"}, {\"groupby\": [\"legend\", \"partition\", \"feature_set\"], \"type\": \"aggregate\", \"summarize\": [{\"ops\": [\"min\"], \"field\": \"true_positive_rate\", \"as\": [\"agg_true_positive_rate\"]}]}], \"source\": \"roc\", \"name\": \"roc_index\"}, {\"values\": [{\"strokeDash\": [0, 0]}, {\"strokeDash\": [5, 7]}], \"name\": \"dash_data\"}, {\"values\": [{\"strokeDash\": [0, 0]}, {\"strokeDash\": [3, 3]}], \"name\": \"dash_legend\"}, {\"transform\": [{\"expr\": \"datum.partition + ' (' + datum.feature_set + ')'\", \"type\": \"formula\", \"field\": \"legend\"}], \"format\": {\"type\": \"csv\"}, \"name\": \"legend_auc\", \"url\": \"jupyter_data/auc.csv\"}]};\n",
       "var selector = \"#32a19847-6849-468c-bce2-17c4b2a7d22e\";\n",
       "var type = \"vega\";\n",
       "\n",
       "var output_area = this;\n",
       "require(['nbextensions/jupyter-vega/index'], function(vega) {\n",
       "  vega.render(selector, spec, type, output_area);\n",
       "}, function (err) {\n",
       "  if (err.requireType !== 'scripterror') {\n",
       "    throw(err);\n",
       "  }\n",
       "});\n"
      ]
     },
     "metadata": {
      "jupyter-vega": "#32a19847-6849-468c-bce2-17c4b2a7d22e"
     },
     "output_type": "display_data"
    },
    {
     "data": {
      "image/png": "[encoded data removed]"
     },
     "metadata": {
      "jupyter-vega": "#32a19847-6849-468c-bce2-17c4b2a7d22e"
     },
     "output_type": "display_data"
    }
   ],
   "source": [
    "# TODO: do not save intermediate files?\n",
    "# Assemble the data for ROC curves\n",
    "model_order = ['full', 'expressions', 'covariates']\n",
    "\n",
    "auc_output = pd.DataFrame()\n",
    "roc_output = pd.DataFrame()\n",
    "\n",
    "for model in model_order:\n",
    "    metrics_partition = metrics_dict[model]\n",
    "    for partition, metrics in metrics_partition.items():\n",
    "        auc_output = auc_output.append(pd.DataFrame({\n",
    "            'partition': [partition],\n",
    "            'feature_set': [model],\n",
    "            'auc': metrics['auroc']\n",
    "        }))\n",
    "        roc_df = metrics['roc_df']\n",
    "        roc_output = roc_output.append(pd.DataFrame({\n",
    "            'false_positive_rate': roc_df.fpr,\n",
    "            'true_positive_rate': roc_df.tpr,\n",
    "            'partition': partition,\n",
    "            'feature_set': model\n",
    "        }))\n",
    "auc_output['legend_index'] = range(len(auc_output.index))\n",
    "\n",
    "roc_output.to_csv('jupyter_data/roc_output.csv', index = False)\n",
    "auc_output.to_csv('jupyter_data/auc.csv', index = False)\n",
    "\n",
    "with open('jupyter_data/roc_vega_spec.json', 'r') as fp:\n",
    "    vega_spec = json.load(fp)\n",
    "    \n",
    "vega.Vega(vega_spec)"
   ]
  },
  {
   "cell_type": "markdown",
   "metadata": {},
   "source": [
    "## What are the classifier coefficients?"
   ]
  },
  {
   "cell_type": "code",
   "execution_count": 18,
   "metadata": {
    "collapsed": true
   },
   "outputs": [],
   "source": [
    "final_pipelines = {\n",
    "    model: pipeline.best_estimator_\n",
    "    for model, pipeline in cv_pipelines.items()\n",
    "}\n",
    "final_classifiers = {\n",
    "    model: pipeline.named_steps['classify']\n",
    "    for model, pipeline in final_pipelines.items()\n",
    "}"
   ]
  },
  {
   "cell_type": "code",
   "execution_count": 19,
   "metadata": {
    "collapsed": true
   },
   "outputs": [],
   "source": [
    "def get_coefficients(classifier, feature_set):  \n",
    "    coefs = classifier.coef_[0]   \n",
    "    \n",
    "    if feature_set=='expressions':\n",
    "        features = ['PCA_%d' %cf for cf in range(len(coefs))]\n",
    "    elif feature_set=='covariates': \n",
    "        features = covariates.columns\n",
    "    else:        \n",
    "        features = ['PCA_%d' %cf for cf in range(len(coefs) - len(covariates.columns))]\n",
    "        features.extend(covariates.columns)\n",
    "     \n",
    "    coef_df = pd.DataFrame({'feature': features, 'weight': coefs})  \n",
    "        \n",
    "    coef_df['abs'] = coef_df['weight'].abs()\n",
    "    coef_df = coef_df.sort_values('abs', ascending=False)\n",
    "    \n",
    "    return coef_df\n",
    "            \n",
    "coef_df_dict = {\n",
    "    model: get_coefficients(classifier, model)\n",
    "    for model, classifier in final_classifiers.items()\n",
    "}"
   ]
  },
  {
   "cell_type": "code",
   "execution_count": 20,
   "metadata": {},
   "outputs": [
    {
     "name": "stdout",
     "output_type": "stream",
     "text": [
      "0.0% zero coefficients; 65 negative and 68 positive coefficients\n"
     ]
    },
    {
     "data": {
      "text/html": [
       "<div>\n",
       "<table border=\"1\" class=\"dataframe\">\n",
       "  <thead>\n",
       "    <tr style=\"text-align: right;\">\n",
       "      <th></th>\n",
       "      <th>feature</th>\n",
       "      <th>weight</th>\n",
       "      <th>abs</th>\n",
       "    </tr>\n",
       "  </thead>\n",
       "  <tbody>\n",
       "    <tr>\n",
       "      <th>29</th>\n",
       "      <td>PCA_29</td>\n",
       "      <td>-0.050551</td>\n",
       "      <td>0.050551</td>\n",
       "    </tr>\n",
       "    <tr>\n",
       "      <th>8</th>\n",
       "      <td>PCA_8</td>\n",
       "      <td>-0.049175</td>\n",
       "      <td>0.049175</td>\n",
       "    </tr>\n",
       "    <tr>\n",
       "      <th>22</th>\n",
       "      <td>PCA_22</td>\n",
       "      <td>-0.047703</td>\n",
       "      <td>0.047703</td>\n",
       "    </tr>\n",
       "    <tr>\n",
       "      <th>87</th>\n",
       "      <td>PCA_87</td>\n",
       "      <td>-0.045892</td>\n",
       "      <td>0.045892</td>\n",
       "    </tr>\n",
       "    <tr>\n",
       "      <th>37</th>\n",
       "      <td>PCA_37</td>\n",
       "      <td>0.044731</td>\n",
       "      <td>0.044731</td>\n",
       "    </tr>\n",
       "    <tr>\n",
       "      <th>39</th>\n",
       "      <td>PCA_39</td>\n",
       "      <td>-0.043260</td>\n",
       "      <td>0.043260</td>\n",
       "    </tr>\n",
       "    <tr>\n",
       "      <th>34</th>\n",
       "      <td>PCA_34</td>\n",
       "      <td>-0.043080</td>\n",
       "      <td>0.043080</td>\n",
       "    </tr>\n",
       "    <tr>\n",
       "      <th>61</th>\n",
       "      <td>PCA_61</td>\n",
       "      <td>-0.042176</td>\n",
       "      <td>0.042176</td>\n",
       "    </tr>\n",
       "    <tr>\n",
       "      <th>2</th>\n",
       "      <td>PCA_2</td>\n",
       "      <td>-0.039789</td>\n",
       "      <td>0.039789</td>\n",
       "    </tr>\n",
       "    <tr>\n",
       "      <th>24</th>\n",
       "      <td>PCA_24</td>\n",
       "      <td>0.038629</td>\n",
       "      <td>0.038629</td>\n",
       "    </tr>\n",
       "  </tbody>\n",
       "</table>\n",
       "</div>"
      ],
      "text/plain": [
       "   feature    weight       abs\n",
       "29  PCA_29 -0.050551  0.050551\n",
       "8    PCA_8 -0.049175  0.049175\n",
       "22  PCA_22 -0.047703  0.047703\n",
       "87  PCA_87 -0.045892  0.045892\n",
       "37  PCA_37  0.044731  0.044731\n",
       "39  PCA_39 -0.043260  0.043260\n",
       "34  PCA_34 -0.043080  0.043080\n",
       "61  PCA_61 -0.042176  0.042176\n",
       "2    PCA_2 -0.039789  0.039789\n",
       "24  PCA_24  0.038629  0.038629"
      ]
     },
     "execution_count": 20,
     "metadata": {},
     "output_type": "execute_result"
    }
   ],
   "source": [
    "model = 'full'\n",
    "\n",
    "print('{:.1%} zero coefficients; {:,} negative and {:,} positive coefficients'.format(\n",
    "    (coef_df_dict[model].weight == 0).mean(),\n",
    "    (coef_df_dict[model].weight < 0).sum(),\n",
    "    (coef_df_dict[model].weight > 0).sum()\n",
    "))\n",
    "coef_df_dict[model].head(10)"
   ]
  },
  {
   "cell_type": "markdown",
   "metadata": {},
   "source": [
    "## Investigate the predictions"
   ]
  },
  {
   "cell_type": "code",
   "execution_count": 21,
   "metadata": {
    "collapsed": true,
    "scrolled": false
   },
   "outputs": [],
   "source": [
    "model = 'full'\n",
    "\n",
    "predict_df = pd.DataFrame.from_items([\n",
    "    ('sample_id', X.index),\n",
    "    ('testing', X.index.isin(X_test.index).astype(int)),\n",
    "    ('status', y),\n",
    "    ('decision_function', final_pipelines[model].decision_function(X)),\n",
    "    ('probability', final_pipelines[model].predict_proba(X)[:, 1])\n",
    "])\n",
    "\n",
    "predict_df['probability_str'] = predict_df['probability'].apply('{:.1%}'.format)"
   ]
  },
  {
   "cell_type": "code",
   "execution_count": 22,
   "metadata": {},
   "outputs": [
    {
     "data": {
      "text/html": [
       "<div>\n",
       "<table border=\"1\" class=\"dataframe\">\n",
       "  <thead>\n",
       "    <tr style=\"text-align: right;\">\n",
       "      <th></th>\n",
       "      <th>sample_id</th>\n",
       "      <th>testing</th>\n",
       "      <th>status</th>\n",
       "      <th>decision_function</th>\n",
       "      <th>probability</th>\n",
       "      <th>probability_str</th>\n",
       "    </tr>\n",
       "    <tr>\n",
       "      <th>sample_id</th>\n",
       "      <th></th>\n",
       "      <th></th>\n",
       "      <th></th>\n",
       "      <th></th>\n",
       "      <th></th>\n",
       "      <th></th>\n",
       "    </tr>\n",
       "  </thead>\n",
       "  <tbody>\n",
       "    <tr>\n",
       "      <th>TCGA-L5-A4OH-01</th>\n",
       "      <td>TCGA-L5-A4OH-01</td>\n",
       "      <td>0</td>\n",
       "      <td>0</td>\n",
       "      <td>6.375558</td>\n",
       "      <td>0.998300</td>\n",
       "      <td>99.8%</td>\n",
       "    </tr>\n",
       "    <tr>\n",
       "      <th>TCGA-22-4591-01</th>\n",
       "      <td>TCGA-22-4591-01</td>\n",
       "      <td>0</td>\n",
       "      <td>0</td>\n",
       "      <td>5.792483</td>\n",
       "      <td>0.996959</td>\n",
       "      <td>99.7%</td>\n",
       "    </tr>\n",
       "    <tr>\n",
       "      <th>TCGA-EI-6513-01</th>\n",
       "      <td>TCGA-EI-6513-01</td>\n",
       "      <td>1</td>\n",
       "      <td>0</td>\n",
       "      <td>5.344923</td>\n",
       "      <td>0.995250</td>\n",
       "      <td>99.5%</td>\n",
       "    </tr>\n",
       "    <tr>\n",
       "      <th>TCGA-L5-A8NR-01</th>\n",
       "      <td>TCGA-L5-A8NR-01</td>\n",
       "      <td>0</td>\n",
       "      <td>0</td>\n",
       "      <td>5.108783</td>\n",
       "      <td>0.993993</td>\n",
       "      <td>99.4%</td>\n",
       "    </tr>\n",
       "    <tr>\n",
       "      <th>TCGA-46-3765-01</th>\n",
       "      <td>TCGA-46-3765-01</td>\n",
       "      <td>0</td>\n",
       "      <td>0</td>\n",
       "      <td>4.804625</td>\n",
       "      <td>0.991875</td>\n",
       "      <td>99.2%</td>\n",
       "    </tr>\n",
       "    <tr>\n",
       "      <th>TCGA-21-1081-01</th>\n",
       "      <td>TCGA-21-1081-01</td>\n",
       "      <td>0</td>\n",
       "      <td>0</td>\n",
       "      <td>4.794525</td>\n",
       "      <td>0.991793</td>\n",
       "      <td>99.2%</td>\n",
       "    </tr>\n",
       "    <tr>\n",
       "      <th>TCGA-BR-4369-01</th>\n",
       "      <td>TCGA-BR-4369-01</td>\n",
       "      <td>0</td>\n",
       "      <td>0</td>\n",
       "      <td>4.461299</td>\n",
       "      <td>0.988584</td>\n",
       "      <td>98.9%</td>\n",
       "    </tr>\n",
       "    <tr>\n",
       "      <th>TCGA-HF-7136-01</th>\n",
       "      <td>TCGA-HF-7136-01</td>\n",
       "      <td>0</td>\n",
       "      <td>0</td>\n",
       "      <td>4.240960</td>\n",
       "      <td>0.985810</td>\n",
       "      <td>98.6%</td>\n",
       "    </tr>\n",
       "    <tr>\n",
       "      <th>TCGA-B6-A0I6-01</th>\n",
       "      <td>TCGA-B6-A0I6-01</td>\n",
       "      <td>1</td>\n",
       "      <td>0</td>\n",
       "      <td>4.052424</td>\n",
       "      <td>0.982917</td>\n",
       "      <td>98.3%</td>\n",
       "    </tr>\n",
       "    <tr>\n",
       "      <th>TCGA-09-2051-01</th>\n",
       "      <td>TCGA-09-2051-01</td>\n",
       "      <td>0</td>\n",
       "      <td>0</td>\n",
       "      <td>4.041850</td>\n",
       "      <td>0.982738</td>\n",
       "      <td>98.3%</td>\n",
       "    </tr>\n",
       "  </tbody>\n",
       "</table>\n",
       "</div>"
      ],
      "text/plain": [
       "                       sample_id  testing  status  decision_function  \\\n",
       "sample_id                                                              \n",
       "TCGA-L5-A4OH-01  TCGA-L5-A4OH-01        0       0           6.375558   \n",
       "TCGA-22-4591-01  TCGA-22-4591-01        0       0           5.792483   \n",
       "TCGA-EI-6513-01  TCGA-EI-6513-01        1       0           5.344923   \n",
       "TCGA-L5-A8NR-01  TCGA-L5-A8NR-01        0       0           5.108783   \n",
       "TCGA-46-3765-01  TCGA-46-3765-01        0       0           4.804625   \n",
       "TCGA-21-1081-01  TCGA-21-1081-01        0       0           4.794525   \n",
       "TCGA-BR-4369-01  TCGA-BR-4369-01        0       0           4.461299   \n",
       "TCGA-HF-7136-01  TCGA-HF-7136-01        0       0           4.240960   \n",
       "TCGA-B6-A0I6-01  TCGA-B6-A0I6-01        1       0           4.052424   \n",
       "TCGA-09-2051-01  TCGA-09-2051-01        0       0           4.041850   \n",
       "\n",
       "                 probability probability_str  \n",
       "sample_id                                     \n",
       "TCGA-L5-A4OH-01     0.998300           99.8%  \n",
       "TCGA-22-4591-01     0.996959           99.7%  \n",
       "TCGA-EI-6513-01     0.995250           99.5%  \n",
       "TCGA-L5-A8NR-01     0.993993           99.4%  \n",
       "TCGA-46-3765-01     0.991875           99.2%  \n",
       "TCGA-21-1081-01     0.991793           99.2%  \n",
       "TCGA-BR-4369-01     0.988584           98.9%  \n",
       "TCGA-HF-7136-01     0.985810           98.6%  \n",
       "TCGA-B6-A0I6-01     0.982917           98.3%  \n",
       "TCGA-09-2051-01     0.982738           98.3%  "
      ]
     },
     "execution_count": 22,
     "metadata": {},
     "output_type": "execute_result"
    }
   ],
   "source": [
    "# Top predictions amongst negatives (potential hidden responders)\n",
    "predict_df.sort_values('decision_function', ascending=False).query(\"status == 0\").head(10)"
   ]
  },
  {
   "cell_type": "code",
   "execution_count": 23,
   "metadata": {},
   "outputs": [
    {
     "data": {
      "image/png": "[encoded data removed]",
      "text/plain": [
       "<matplotlib.figure.Figure at 0x7f7d5f269c18>"
      ]
     },
     "metadata": {},
     "output_type": "display_data"
    }
   ],
   "source": [
    "# Ignore numpy warning caused by seaborn\n",
    "warnings.filterwarnings('ignore', 'using a non-integer number instead of an integer')\n",
    "\n",
    "ax = sns.distplot(predict_df.query(\"status == 0\").decision_function, hist=False, label='Negatives')\n",
    "ax = sns.distplot(predict_df.query(\"status == 1\").decision_function, hist=False, label='Positives')"
   ]
  },
  {
   "cell_type": "code",
   "execution_count": 24,
   "metadata": {},
   "outputs": [
    {
     "data": {
      "image/png": "[encoded data removed]",
      "text/plain": [
       "<matplotlib.figure.Figure at 0x7f7cfca74748>"
      ]
     },
     "metadata": {},
     "output_type": "display_data"
    }
   ],
   "source": [
    "ax = sns.distplot(predict_df.query(\"status == 0\").probability, hist=False, label='Negatives')\n",
    "ax = sns.distplot(predict_df.query(\"status == 1\").probability, hist=False, label='Positives')"
   ]
  }
 ],
 "metadata": {
  "kernelspec": {
   "display_name": "Python 3",
   "language": "python",
   "name": "python3"
  },
  "language_info": {
   "codemirror_mode": {
    "name": "ipython",
    "version": 3
   },
   "file_extension": ".py",
   "mimetype": "text/x-python",
   "name": "python",
   "nbconvert_exporter": "python",
   "pygments_lexer": "ipython3",
   "version": "3.5.2"
  }
 },
 "nbformat": 4,
 "nbformat_minor": 1
}
