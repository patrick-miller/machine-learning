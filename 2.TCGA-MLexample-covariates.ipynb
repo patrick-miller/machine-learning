{
 "cells": [
  {
   "cell_type": "markdown",
   "metadata": {},
   "source": [
    "# Create a logistic regression model to predict TP53 mutation from gene expression data in TCGA"
   ]
  },
  {
   "cell_type": "code",
   "execution_count": 1,
   "metadata": {
    "collapsed": true
   },
   "outputs": [],
   "source": [
    "import os\n",
    "import urllib\n",
    "import random\n",
    "import warnings\n",
    "\n",
    "import pandas as pd\n",
    "import numpy as np\n",
    "import matplotlib.pyplot as plt\n",
    "import seaborn as sns\n",
    "from sklearn import preprocessing\n",
    "from sklearn.linear_model import SGDClassifier\n",
    "from sklearn.model_selection import train_test_split, GridSearchCV, ShuffleSplit\n",
    "from sklearn.metrics import roc_auc_score, roc_curve\n",
    "from sklearn.pipeline import Pipeline\n",
    "from sklearn.preprocessing import StandardScaler\n",
    "from sklearn.feature_selection import SelectKBest\n",
    "from sklearn.decomposition import PCA\n",
    "from statsmodels.robust.scale import mad"
   ]
  },
  {
   "cell_type": "code",
   "execution_count": 2,
   "metadata": {
    "collapsed": true
   },
   "outputs": [],
   "source": [
    "%matplotlib inline\n",
    "plt.style.use('seaborn-notebook')"
   ]
  },
  {
   "cell_type": "markdown",
   "metadata": {},
   "source": [
    "## Specify model configuration"
   ]
  },
  {
   "cell_type": "code",
   "execution_count": 3,
   "metadata": {
    "collapsed": true
   },
   "outputs": [],
   "source": [
    "# We're going to be building a 'TP53' classifier \n",
    "GENE = '7157' # TP53"
   ]
  },
  {
   "cell_type": "markdown",
   "metadata": {},
   "source": [
    "*Here is some [documentation](http://scikit-learn.org/stable/modules/generated/sklearn.linear_model.SGDClassifier.html) regarding the classifier and hyperparameters*\n",
    "\n",
    "*Here is some [information](https://ghr.nlm.nih.gov/gene/TP53) about TP53*"
   ]
  },
  {
   "cell_type": "markdown",
   "metadata": {},
   "source": [
    "## Load Data"
   ]
  },
  {
   "cell_type": "code",
   "execution_count": 4,
   "metadata": {},
   "outputs": [
    {
     "name": "stdout",
     "output_type": "stream",
     "text": [
      "CPU times: user 1min 23s, sys: 6.09 s, total: 1min 30s\n",
      "Wall time: 1min 31s\n"
     ]
    }
   ],
   "source": [
    "%%time\n",
    "path = os.path.join('download', 'expression-matrix.tsv.bz2')\n",
    "expression = pd.read_table(path, index_col=0)"
   ]
  },
  {
   "cell_type": "code",
   "execution_count": 5,
   "metadata": {},
   "outputs": [
    {
     "name": "stdout",
     "output_type": "stream",
     "text": [
      "CPU times: user 53 s, sys: 370 ms, total: 53.3 s\n",
      "Wall time: 53.4 s\n"
     ]
    }
   ],
   "source": [
    "%%time\n",
    "path = os.path.join('download', 'mutation-matrix.tsv.bz2')\n",
    "Y = pd.read_table(path, index_col=0)"
   ]
  },
  {
   "cell_type": "code",
   "execution_count": 6,
   "metadata": {},
   "outputs": [
    {
     "name": "stdout",
     "output_type": "stream",
     "text": [
      "CPU times: user 20 ms, sys: 10 ms, total: 30 ms\n",
      "Wall time: 40.9 ms\n"
     ]
    }
   ],
   "source": [
    "%%time\n",
    "path = os.path.join('download', 'covariates.tsv')\n",
    "covariates = pd.read_table(path, index_col=0)\n",
    "\n",
    "# Select acronym_x and n_mutations_log1p covariates only\n",
    "selected_cols = [col for col in covariates.columns if 'acronym_' in col]\n",
    "selected_cols.append('n_mutations_log1p')\n",
    "covariates = covariates[selected_cols]"
   ]
  },
  {
   "cell_type": "code",
   "execution_count": 7,
   "metadata": {
    "collapsed": true
   },
   "outputs": [],
   "source": [
    "y = Y[GENE]"
   ]
  },
  {
   "cell_type": "code",
   "execution_count": 8,
   "metadata": {},
   "outputs": [
    {
     "data": {
      "text/plain": [
       "sample_id\n",
       "TCGA-02-0047-01    0\n",
       "TCGA-02-0055-01    1\n",
       "TCGA-02-2483-01    1\n",
       "TCGA-02-2485-01    1\n",
       "TCGA-02-2486-01    0\n",
       "TCGA-04-1348-01    1\n",
       "Name: 7157, dtype: int64"
      ]
     },
     "execution_count": 8,
     "metadata": {},
     "output_type": "execute_result"
    }
   ],
   "source": [
    "# The Series now holds TP53 Mutation Status for each Sample\n",
    "y.head(6)"
   ]
  },
  {
   "cell_type": "code",
   "execution_count": 9,
   "metadata": {},
   "outputs": [
    {
     "data": {
      "text/plain": [
       "0    0.645907\n",
       "1    0.354093\n",
       "Name: 7157, dtype: float64"
      ]
     },
     "execution_count": 9,
     "metadata": {},
     "output_type": "execute_result"
    }
   ],
   "source": [
    "# Here are the percentage of tumors with NF1\n",
    "y.value_counts(True)"
   ]
  },
  {
   "cell_type": "markdown",
   "metadata": {},
   "source": [
    "## Pre-process data set\n",
    "TODO: currently running PCA on both train and test partitions"
   ]
  },
  {
   "cell_type": "code",
   "execution_count": 10,
   "metadata": {
    "collapsed": true
   },
   "outputs": [],
   "source": [
    "# Pre-process expression data for use later\n",
    "n_components = 100\n",
    "scaled_expression = StandardScaler().fit_transform(expression)\n",
    "pca = PCA(n_components).fit(scaled_expression)\n",
    "explained_variance = pca.explained_variance_\n",
    "expression_pca = pca.transform(scaled_expression)\n",
    "expression_pca = pd.DataFrame(expression_pca)\n",
    "expression_pca = expression_pca.set_index(expression.index.values)"
   ]
  },
  {
   "cell_type": "code",
   "execution_count": 11,
   "metadata": {},
   "outputs": [
    {
     "name": "stdout",
     "output_type": "stream",
     "text": [
      "fraction of variance explained: 0.704833907755\n"
     ]
    }
   ],
   "source": [
    "print('fraction of variance explained: ' + str(pca.explained_variance_ratio_.sum()))"
   ]
  },
  {
   "cell_type": "code",
   "execution_count": 12,
   "metadata": {},
   "outputs": [
    {
     "name": "stdout",
     "output_type": "stream",
     "text": [
      "Gene expression matrix shape: 7306, 20468\n",
      "Full feature matrix shape: 7306, 133\n"
     ]
    }
   ],
   "source": [
    "# Create full feature matrix (expression + covariates)\n",
    "X = pd.concat([covariates,expression_pca],axis=1)\n",
    "print('Gene expression matrix shape: {0[0]}, {0[1]}'.format(expression.shape))\n",
    "print('Full feature matrix shape: {0[0]}, {0[1]}'.format(X.shape))"
   ]
  },
  {
   "cell_type": "markdown",
   "metadata": {},
   "source": [
    "## Set aside 10% of the data for testing"
   ]
  },
  {
   "cell_type": "code",
   "execution_count": 13,
   "metadata": {},
   "outputs": [
    {
     "data": {
      "text/plain": [
       "'Size: 133 features, 6,575 training samples, 731 testing samples'"
      ]
     },
     "execution_count": 13,
     "metadata": {},
     "output_type": "execute_result"
    }
   ],
   "source": [
    "# Typically, this can only be done where the number of mutations is large enough\n",
    "train_index, test_index = next(ShuffleSplit(n_splits=2, test_size=0.1, random_state=0).split(y))\n",
    "\n",
    "X_partitions = {\n",
    "    'full': {\n",
    "        'train': X.ix[train_index], \n",
    "        'test': X.ix[test_index]\n",
    "        },\n",
    "    'expressions': {\n",
    "        'train': expression_pca.ix[train_index], \n",
    "        'test': expression_pca.ix[test_index]\n",
    "        },\n",
    "    'covariates': {\n",
    "        'train': covariates.ix[train_index], \n",
    "        'test': covariates.ix[test_index]\n",
    "        }    \n",
    "    } \n",
    "\n",
    "y_train = y[train_index]\n",
    "y_test = y[test_index]\n",
    "\n",
    "'Size: {:,} features, {:,} training samples, {:,} testing samples'.format(\n",
    "    len(X_partitions['full']['train'].columns), \n",
    "    len(X_partitions['full']['train']), \n",
    "    len(X_partitions['full']['test']))"
   ]
  },
  {
   "cell_type": "markdown",
   "metadata": {},
   "source": [
    "## Define pipeline and Cross validation model fitting"
   ]
  },
  {
   "cell_type": "code",
   "execution_count": 14,
   "metadata": {
    "collapsed": true
   },
   "outputs": [],
   "source": [
    "# Parameter Sweep for Hyperparameters\n",
    "param_grid = {\n",
    "    'classify__loss': ['log'],\n",
    "    'classify__penalty': ['elasticnet'],\n",
    "    'classify__alpha': [10 ** x for x in range(-3, 1)],\n",
    "    'classify__l1_ratio': [0, 0.2, 0.8, 1],\n",
    "}\n",
    "\n",
    "pipeline = Pipeline(steps=[\n",
    "    ('standardize', StandardScaler()),\n",
    "    ('classify', SGDClassifier(random_state=0, class_weight='balanced'))\n",
    "])\n",
    "\n",
    "models = ['full', 'expressions', 'covariates']\n",
    "\n",
    "cv_pipelines = {mod: GridSearchCV(estimator=pipeline, \n",
    "                             param_grid=param_grid, \n",
    "                             n_jobs=1, \n",
    "                             scoring='roc_auc') for mod in models}"
   ]
  },
  {
   "cell_type": "code",
   "execution_count": 15,
   "metadata": {},
   "outputs": [
    {
     "name": "stdout",
     "output_type": "stream",
     "text": [
      "Fitting CV for model: full\n",
      "Fitting CV for model: expressions\n",
      "Fitting CV for model: covariates\n",
      "CPU times: user 7.15 s, sys: 15 s, total: 22.2 s\n",
      "Wall time: 5.59 s\n"
     ]
    }
   ],
   "source": [
    "%%time\n",
    "for model, pipeline in cv_pipelines.items():\n",
    "    print('Fitting CV for model: {0}'.format(model))\n",
    "    pipeline.fit(X=X_partitions.get(model).get('train'), y=y_train)\n",
    "# cv_pipeline_full.fit(X=X_train_full, y=y_train)"
   ]
  },
  {
   "cell_type": "code",
   "execution_count": 16,
   "metadata": {},
   "outputs": [
    {
     "name": "stdout",
     "output_type": "stream",
     "text": [
      "full: 92.517%\n",
      "{'classify__loss': 'log', 'classify__penalty': 'elasticnet', 'classify__l1_ratio': 0, 'classify__alpha': 0.1}\n",
      "expressions: 91.963%\n",
      "{'classify__loss': 'log', 'classify__penalty': 'elasticnet', 'classify__l1_ratio': 0, 'classify__alpha': 0.1}\n",
      "covariates: 84.259%\n",
      "{'classify__loss': 'log', 'classify__penalty': 'elasticnet', 'classify__l1_ratio': 0, 'classify__alpha': 0.1}\n"
     ]
    }
   ],
   "source": [
    "# Best Params\n",
    "for model, pipeline in cv_pipelines.items():\n",
    "    print('{0}: {1:.3%}'.format(model, pipeline.best_score_))\n",
    "\n",
    "    # Best Params\n",
    "    print(pipeline.best_params_)"
   ]
  },
  {
   "cell_type": "markdown",
   "metadata": {},
   "source": [
    "## Visualize hyperparameters performance"
   ]
  },
  {
   "cell_type": "code",
   "execution_count": 17,
   "metadata": {},
   "outputs": [
    {
     "data": {
      "text/html": [
       "<div>\n",
       "<table border=\"1\" class=\"dataframe\">\n",
       "  <thead>\n",
       "    <tr style=\"text-align: right;\">\n",
       "      <th></th>\n",
       "      <th>mean_fit_time</th>\n",
       "      <th>mean_score_time</th>\n",
       "      <th>mean_test_score</th>\n",
       "      <th>mean_train_score</th>\n",
       "      <th>param_classify__alpha</th>\n",
       "      <th>param_classify__l1_ratio</th>\n",
       "      <th>param_classify__loss</th>\n",
       "      <th>param_classify__penalty</th>\n",
       "      <th>params</th>\n",
       "      <th>rank_test_score</th>\n",
       "      <th>...</th>\n",
       "      <th>split2_test_score</th>\n",
       "      <th>split2_train_score</th>\n",
       "      <th>std_fit_time</th>\n",
       "      <th>std_score_time</th>\n",
       "      <th>std_test_score</th>\n",
       "      <th>std_train_score</th>\n",
       "      <th>classify__alpha</th>\n",
       "      <th>classify__l1_ratio</th>\n",
       "      <th>classify__loss</th>\n",
       "      <th>classify__penalty</th>\n",
       "    </tr>\n",
       "  </thead>\n",
       "  <tbody>\n",
       "    <tr>\n",
       "      <th>0</th>\n",
       "      <td>0.034567</td>\n",
       "      <td>0.005313</td>\n",
       "      <td>0.887582</td>\n",
       "      <td>0.904469</td>\n",
       "      <td>0.001</td>\n",
       "      <td>0</td>\n",
       "      <td>log</td>\n",
       "      <td>elasticnet</td>\n",
       "      <td>{'classify__loss': 'log', 'classify__penalty':...</td>\n",
       "      <td>11</td>\n",
       "      <td>...</td>\n",
       "      <td>0.888932</td>\n",
       "      <td>0.906338</td>\n",
       "      <td>0.003091</td>\n",
       "      <td>0.002820</td>\n",
       "      <td>0.003477</td>\n",
       "      <td>0.007088</td>\n",
       "      <td>0.001</td>\n",
       "      <td>0.0</td>\n",
       "      <td>log</td>\n",
       "      <td>elasticnet</td>\n",
       "    </tr>\n",
       "    <tr>\n",
       "      <th>1</th>\n",
       "      <td>0.041253</td>\n",
       "      <td>0.003162</td>\n",
       "      <td>0.904053</td>\n",
       "      <td>0.916799</td>\n",
       "      <td>0.001</td>\n",
       "      <td>0.2</td>\n",
       "      <td>log</td>\n",
       "      <td>elasticnet</td>\n",
       "      <td>{'classify__loss': 'log', 'classify__penalty':...</td>\n",
       "      <td>8</td>\n",
       "      <td>...</td>\n",
       "      <td>0.902732</td>\n",
       "      <td>0.919364</td>\n",
       "      <td>0.002877</td>\n",
       "      <td>0.000089</td>\n",
       "      <td>0.001925</td>\n",
       "      <td>0.003983</td>\n",
       "      <td>0.001</td>\n",
       "      <td>0.2</td>\n",
       "      <td>log</td>\n",
       "      <td>elasticnet</td>\n",
       "    </tr>\n",
       "  </tbody>\n",
       "</table>\n",
       "<p>2 rows × 24 columns</p>\n",
       "</div>"
      ],
      "text/plain": [
       "   mean_fit_time  mean_score_time  mean_test_score  mean_train_score  \\\n",
       "0       0.034567         0.005313         0.887582          0.904469   \n",
       "1       0.041253         0.003162         0.904053          0.916799   \n",
       "\n",
       "  param_classify__alpha param_classify__l1_ratio param_classify__loss  \\\n",
       "0                 0.001                        0                  log   \n",
       "1                 0.001                      0.2                  log   \n",
       "\n",
       "  param_classify__penalty                                             params  \\\n",
       "0              elasticnet  {'classify__loss': 'log', 'classify__penalty':...   \n",
       "1              elasticnet  {'classify__loss': 'log', 'classify__penalty':...   \n",
       "\n",
       "   rank_test_score        ...          split2_test_score  split2_train_score  \\\n",
       "0               11        ...                   0.888932            0.906338   \n",
       "1                8        ...                   0.902732            0.919364   \n",
       "\n",
       "   std_fit_time  std_score_time  std_test_score  std_train_score  \\\n",
       "0      0.003091        0.002820        0.003477         0.007088   \n",
       "1      0.002877        0.000089        0.001925         0.003983   \n",
       "\n",
       "   classify__alpha  classify__l1_ratio  classify__loss  classify__penalty  \n",
       "0            0.001                 0.0             log         elasticnet  \n",
       "1            0.001                 0.2             log         elasticnet  \n",
       "\n",
       "[2 rows x 24 columns]"
      ]
     },
     "execution_count": 17,
     "metadata": {},
     "output_type": "execute_result"
    }
   ],
   "source": [
    "cv_results_df_dict = {model: \n",
    "    pd.concat([\n",
    "        pd.DataFrame(pipeline.cv_results_),\n",
    "        pd.DataFrame.from_records(pipeline.cv_results_['params']),\n",
    "    ], axis='columns') for model, pipeline in cv_pipelines.items()}\n",
    "\n",
    "model = 'full'\n",
    "\n",
    "cv_results_df_dict[model].head(2)"
   ]
  },
  {
   "cell_type": "code",
   "execution_count": 18,
   "metadata": {},
   "outputs": [
    {
     "data": {
      "image/png": "[encoded data removed]",
      "text/plain": [
       "<matplotlib.figure.Figure at 0x7f23c2e96358>"
      ]
     },
     "metadata": {},
     "output_type": "display_data"
    }
   ],
   "source": [
    "# Cross-validated performance heatmap\n",
    "model = 'full'\n",
    "\n",
    "cv_score_mat = pd.pivot_table(cv_results_df_dict[model],\n",
    "                              values='mean_test_score', \n",
    "                              index='classify__l1_ratio',\n",
    "                              columns='classify__alpha')\n",
    "ax = sns.heatmap(cv_score_mat, annot=True, fmt='.1%')\n",
    "ax.set_xlabel('Regularization strength multiplier (alpha)')\n",
    "ax.set_ylabel('Elastic net mixing parameter (l1_ratio)');"
   ]
  },
  {
   "cell_type": "markdown",
   "metadata": {},
   "source": [
    "## Use Optimal Hyperparameters to Output ROC Curve"
   ]
  },
  {
   "cell_type": "code",
   "execution_count": 19,
   "metadata": {
    "collapsed": true
   },
   "outputs": [],
   "source": [
    "y_pred_dict = {\n",
    "    model: {\n",
    "        'train': pipeline.decision_function(X_partitions[model]['train']),\n",
    "        'test':  pipeline.decision_function(X_partitions[model]['test'])\n",
    "    } for model, pipeline in cv_pipelines.items()\n",
    "}\n",
    "\n",
    "def get_threshold_metrics(y_true, y_pred):\n",
    "    roc_columns = ['fpr', 'tpr', 'threshold']\n",
    "    roc_items = zip(roc_columns, roc_curve(y_true, y_pred))\n",
    "    roc_df = pd.DataFrame.from_items(roc_items)\n",
    "    auroc = roc_auc_score(y_true, y_pred)\n",
    "    return {'auroc': auroc, 'roc_df': roc_df}\n",
    "\n",
    "metrics_dict = {    \n",
    "    model: {\n",
    "        'train': get_threshold_metrics(y_train, y_pred_dict[model]['train']),\n",
    "        'test':  get_threshold_metrics(y_test, y_pred_dict[model]['test'])\n",
    "    } for model in y_pred_dict.keys()\n",
    "}"
   ]
  },
  {
   "cell_type": "code",
   "execution_count": 20,
   "metadata": {},
   "outputs": [
    {
     "data": {
      "image/png": "[encoded data removed]",
      "text/plain": [
       "<matplotlib.figure.Figure at 0x7f23b405d358>"
      ]
     },
     "metadata": {},
     "output_type": "display_data"
    }
   ],
   "source": [
    "# TODO: replace with Vega specification\n",
    "# use ipyvega?\n",
    "\n",
    "# Plot ROC\n",
    "plt.figure()\n",
    "for model, metrics_partition in metrics_dict.items():\n",
    "    for partition, metrics in metrics_partition.items():\n",
    "        model_name = '{0} {1}'.format(model, partition)\n",
    "        roc_df = metrics['roc_df']\n",
    "        plt.plot(roc_df.fpr, roc_df.tpr,\n",
    "            label='{} (AUROC = {:.1%})'.format(model_name, metrics['auroc']))\n",
    "        \n",
    "plt.xlim([0.0, 1.0])\n",
    "plt.ylim([0.0, 1.05])\n",
    "plt.xlabel('False Positive Rate')\n",
    "plt.ylabel('True Positive Rate')\n",
    "plt.title('Predicting TP53 mutation from gene expression (ROC curves)')\n",
    "plt.legend(loc='lower right');"
   ]
  },
  {
   "cell_type": "markdown",
   "metadata": {},
   "source": [
    "## What are the classifier coefficients?"
   ]
  },
  {
   "cell_type": "code",
   "execution_count": 21,
   "metadata": {
    "collapsed": true
   },
   "outputs": [],
   "source": [
    "final_pipelines = {\n",
    "    model: pipeline.best_estimator_\n",
    "    for model, pipeline in cv_pipelines.items()\n",
    "}\n",
    "final_classifiers = {\n",
    "    model: pipeline.named_steps['classify']\n",
    "    for model, pipeline in final_pipelines.items()\n",
    "}"
   ]
  },
  {
   "cell_type": "code",
   "execution_count": 22,
   "metadata": {
    "collapsed": true
   },
   "outputs": [],
   "source": [
    "def get_coefficients(classifier, X_mat):\n",
    "    coef_df = pd.DataFrame.from_items([\n",
    "        ('feature', X_mat.columns),\n",
    "        ('weight', classifier.coef_[0]),\n",
    "    ])\n",
    "\n",
    "    coef_df['abs'] = coef_df['weight'].abs()\n",
    "    coef_df = coef_df.sort_values('abs', ascending=False)\n",
    "    \n",
    "    return coef_df\n",
    "\n",
    "coef_df_dict = {\n",
    "    model: get_coefficients(classifier, X_partitions[model]['train'])\n",
    "    for model, classifier in final_classifiers.items()\n",
    "}"
   ]
  },
  {
   "cell_type": "code",
   "execution_count": 23,
   "metadata": {},
   "outputs": [
    {
     "name": "stdout",
     "output_type": "stream",
     "text": [
      "0.0% zero coefficients; 64 negative and 69 positive coefficients\n"
     ]
    },
    {
     "data": {
      "text/html": [
       "<div>\n",
       "<table border=\"1\" class=\"dataframe\">\n",
       "  <thead>\n",
       "    <tr style=\"text-align: right;\">\n",
       "      <th></th>\n",
       "      <th>feature</th>\n",
       "      <th>weight</th>\n",
       "      <th>abs</th>\n",
       "    </tr>\n",
       "  </thead>\n",
       "  <tbody>\n",
       "    <tr>\n",
       "      <th>35</th>\n",
       "      <td>2</td>\n",
       "      <td>-0.342498</td>\n",
       "      <td>0.342498</td>\n",
       "    </tr>\n",
       "    <tr>\n",
       "      <th>32</th>\n",
       "      <td>n_mutations_log1p</td>\n",
       "      <td>0.322485</td>\n",
       "      <td>0.322485</td>\n",
       "    </tr>\n",
       "    <tr>\n",
       "      <th>44</th>\n",
       "      <td>11</td>\n",
       "      <td>-0.276745</td>\n",
       "      <td>0.276745</td>\n",
       "    </tr>\n",
       "    <tr>\n",
       "      <th>57</th>\n",
       "      <td>24</td>\n",
       "      <td>0.256832</td>\n",
       "      <td>0.256832</td>\n",
       "    </tr>\n",
       "    <tr>\n",
       "      <th>71</th>\n",
       "      <td>38</td>\n",
       "      <td>0.248275</td>\n",
       "      <td>0.248275</td>\n",
       "    </tr>\n",
       "    <tr>\n",
       "      <th>62</th>\n",
       "      <td>29</td>\n",
       "      <td>0.236691</td>\n",
       "      <td>0.236691</td>\n",
       "    </tr>\n",
       "    <tr>\n",
       "      <th>33</th>\n",
       "      <td>0</td>\n",
       "      <td>-0.207901</td>\n",
       "      <td>0.207901</td>\n",
       "    </tr>\n",
       "    <tr>\n",
       "      <th>67</th>\n",
       "      <td>34</td>\n",
       "      <td>-0.207109</td>\n",
       "      <td>0.207109</td>\n",
       "    </tr>\n",
       "    <tr>\n",
       "      <th>64</th>\n",
       "      <td>31</td>\n",
       "      <td>-0.194507</td>\n",
       "      <td>0.194507</td>\n",
       "    </tr>\n",
       "    <tr>\n",
       "      <th>27</th>\n",
       "      <td>acronym_THCA</td>\n",
       "      <td>-0.193959</td>\n",
       "      <td>0.193959</td>\n",
       "    </tr>\n",
       "  </tbody>\n",
       "</table>\n",
       "</div>"
      ],
      "text/plain": [
       "              feature    weight       abs\n",
       "35                  2 -0.342498  0.342498\n",
       "32  n_mutations_log1p  0.322485  0.322485\n",
       "44                 11 -0.276745  0.276745\n",
       "57                 24  0.256832  0.256832\n",
       "71                 38  0.248275  0.248275\n",
       "62                 29  0.236691  0.236691\n",
       "33                  0 -0.207901  0.207901\n",
       "67                 34 -0.207109  0.207109\n",
       "64                 31 -0.194507  0.194507\n",
       "27       acronym_THCA -0.193959  0.193959"
      ]
     },
     "execution_count": 23,
     "metadata": {},
     "output_type": "execute_result"
    }
   ],
   "source": [
    "model = 'full'\n",
    "\n",
    "print('{:.1%} zero coefficients; {:,} negative and {:,} positive coefficients'.format(\n",
    "    (coef_df_dict[model].weight == 0).mean(),\n",
    "    (coef_df_dict[model].weight < 0).sum(),\n",
    "    (coef_df_dict[model].weight > 0).sum()\n",
    "))\n",
    "coef_df_dict[model].head(10)"
   ]
  },
  {
   "cell_type": "markdown",
   "metadata": {},
   "source": [
    "## Investigate the predictions"
   ]
  },
  {
   "cell_type": "code",
   "execution_count": 24,
   "metadata": {
    "collapsed": true,
    "scrolled": false
   },
   "outputs": [],
   "source": [
    "model = 'full'\n",
    "\n",
    "X_all = X_partitions[model]['train'].append(X_partitions[model]['test'])\n",
    "X_test_index = X_partitions[model]['test'].index\n",
    "y_all = y_train.append(y_test)\n",
    "\n",
    "predict_df = pd.DataFrame.from_items([\n",
    "    ('sample_id', X_all.index),\n",
    "    ('testing', X_all.index.isin(X_test_index).astype(int)),\n",
    "    ('status', y_all),\n",
    "    ('decision_function', final_pipelines[model].decision_function(X_all)),\n",
    "    ('probability', final_pipelines[model].predict_proba(X_all)[:, 1])\n",
    "])\n",
    "\n",
    "predict_df['probability_str'] = predict_df['probability'].apply('{:.1%}'.format)"
   ]
  },
  {
   "cell_type": "code",
   "execution_count": 25,
   "metadata": {},
   "outputs": [
    {
     "data": {
      "text/html": [
       "<div>\n",
       "<table border=\"1\" class=\"dataframe\">\n",
       "  <thead>\n",
       "    <tr style=\"text-align: right;\">\n",
       "      <th></th>\n",
       "      <th>sample_id</th>\n",
       "      <th>testing</th>\n",
       "      <th>status</th>\n",
       "      <th>decision_function</th>\n",
       "      <th>probability</th>\n",
       "      <th>probability_str</th>\n",
       "    </tr>\n",
       "    <tr>\n",
       "      <th>sample_id</th>\n",
       "      <th></th>\n",
       "      <th></th>\n",
       "      <th></th>\n",
       "      <th></th>\n",
       "      <th></th>\n",
       "      <th></th>\n",
       "    </tr>\n",
       "  </thead>\n",
       "  <tbody>\n",
       "    <tr>\n",
       "      <th>TCGA-L5-A4OH-01</th>\n",
       "      <td>TCGA-L5-A4OH-01</td>\n",
       "      <td>0</td>\n",
       "      <td>0</td>\n",
       "      <td>3.839451</td>\n",
       "      <td>0.978947</td>\n",
       "      <td>97.9%</td>\n",
       "    </tr>\n",
       "    <tr>\n",
       "      <th>TCGA-EI-6513-01</th>\n",
       "      <td>TCGA-EI-6513-01</td>\n",
       "      <td>1</td>\n",
       "      <td>0</td>\n",
       "      <td>3.523504</td>\n",
       "      <td>0.971349</td>\n",
       "      <td>97.1%</td>\n",
       "    </tr>\n",
       "    <tr>\n",
       "      <th>TCGA-22-4591-01</th>\n",
       "      <td>TCGA-22-4591-01</td>\n",
       "      <td>0</td>\n",
       "      <td>0</td>\n",
       "      <td>3.412372</td>\n",
       "      <td>0.968089</td>\n",
       "      <td>96.8%</td>\n",
       "    </tr>\n",
       "    <tr>\n",
       "      <th>TCGA-L5-A8NR-01</th>\n",
       "      <td>TCGA-L5-A8NR-01</td>\n",
       "      <td>0</td>\n",
       "      <td>0</td>\n",
       "      <td>3.088669</td>\n",
       "      <td>0.956423</td>\n",
       "      <td>95.6%</td>\n",
       "    </tr>\n",
       "    <tr>\n",
       "      <th>TCGA-RE-A7BO-01</th>\n",
       "      <td>TCGA-RE-A7BO-01</td>\n",
       "      <td>0</td>\n",
       "      <td>0</td>\n",
       "      <td>2.792967</td>\n",
       "      <td>0.942295</td>\n",
       "      <td>94.2%</td>\n",
       "    </tr>\n",
       "    <tr>\n",
       "      <th>TCGA-46-3765-01</th>\n",
       "      <td>TCGA-46-3765-01</td>\n",
       "      <td>0</td>\n",
       "      <td>0</td>\n",
       "      <td>2.603874</td>\n",
       "      <td>0.931110</td>\n",
       "      <td>93.1%</td>\n",
       "    </tr>\n",
       "    <tr>\n",
       "      <th>TCGA-BA-5149-01</th>\n",
       "      <td>TCGA-BA-5149-01</td>\n",
       "      <td>0</td>\n",
       "      <td>0</td>\n",
       "      <td>2.585751</td>\n",
       "      <td>0.929939</td>\n",
       "      <td>93.0%</td>\n",
       "    </tr>\n",
       "    <tr>\n",
       "      <th>TCGA-21-1081-01</th>\n",
       "      <td>TCGA-21-1081-01</td>\n",
       "      <td>0</td>\n",
       "      <td>0</td>\n",
       "      <td>2.539710</td>\n",
       "      <td>0.926879</td>\n",
       "      <td>92.7%</td>\n",
       "    </tr>\n",
       "    <tr>\n",
       "      <th>TCGA-24-2298-01</th>\n",
       "      <td>TCGA-24-2298-01</td>\n",
       "      <td>0</td>\n",
       "      <td>0</td>\n",
       "      <td>2.499669</td>\n",
       "      <td>0.924119</td>\n",
       "      <td>92.4%</td>\n",
       "    </tr>\n",
       "    <tr>\n",
       "      <th>TCGA-L5-A4OS-01</th>\n",
       "      <td>TCGA-L5-A4OS-01</td>\n",
       "      <td>0</td>\n",
       "      <td>0</td>\n",
       "      <td>2.355963</td>\n",
       "      <td>0.913407</td>\n",
       "      <td>91.3%</td>\n",
       "    </tr>\n",
       "  </tbody>\n",
       "</table>\n",
       "</div>"
      ],
      "text/plain": [
       "                       sample_id  testing  status  decision_function  \\\n",
       "sample_id                                                              \n",
       "TCGA-L5-A4OH-01  TCGA-L5-A4OH-01        0       0           3.839451   \n",
       "TCGA-EI-6513-01  TCGA-EI-6513-01        1       0           3.523504   \n",
       "TCGA-22-4591-01  TCGA-22-4591-01        0       0           3.412372   \n",
       "TCGA-L5-A8NR-01  TCGA-L5-A8NR-01        0       0           3.088669   \n",
       "TCGA-RE-A7BO-01  TCGA-RE-A7BO-01        0       0           2.792967   \n",
       "TCGA-46-3765-01  TCGA-46-3765-01        0       0           2.603874   \n",
       "TCGA-BA-5149-01  TCGA-BA-5149-01        0       0           2.585751   \n",
       "TCGA-21-1081-01  TCGA-21-1081-01        0       0           2.539710   \n",
       "TCGA-24-2298-01  TCGA-24-2298-01        0       0           2.499669   \n",
       "TCGA-L5-A4OS-01  TCGA-L5-A4OS-01        0       0           2.355963   \n",
       "\n",
       "                 probability probability_str  \n",
       "sample_id                                     \n",
       "TCGA-L5-A4OH-01     0.978947           97.9%  \n",
       "TCGA-EI-6513-01     0.971349           97.1%  \n",
       "TCGA-22-4591-01     0.968089           96.8%  \n",
       "TCGA-L5-A8NR-01     0.956423           95.6%  \n",
       "TCGA-RE-A7BO-01     0.942295           94.2%  \n",
       "TCGA-46-3765-01     0.931110           93.1%  \n",
       "TCGA-BA-5149-01     0.929939           93.0%  \n",
       "TCGA-21-1081-01     0.926879           92.7%  \n",
       "TCGA-24-2298-01     0.924119           92.4%  \n",
       "TCGA-L5-A4OS-01     0.913407           91.3%  "
      ]
     },
     "execution_count": 25,
     "metadata": {},
     "output_type": "execute_result"
    }
   ],
   "source": [
    "# Top predictions amongst negatives (potential hidden responders)\n",
    "predict_df.sort_values('decision_function', ascending=False).query(\"status == 0\").head(10)"
   ]
  },
  {
   "cell_type": "code",
   "execution_count": 26,
   "metadata": {},
   "outputs": [
    {
     "data": {
      "image/png": "[encoded data removed]",
      "text/plain": [
       "<matplotlib.figure.Figure at 0x7f23b404ee80>"
      ]
     },
     "metadata": {},
     "output_type": "display_data"
    }
   ],
   "source": [
    "# Ignore numpy warning caused by seaborn\n",
    "warnings.filterwarnings('ignore', 'using a non-integer number instead of an integer')\n",
    "\n",
    "ax = sns.distplot(predict_df.query(\"status == 0\").decision_function, hist=False, label='Negatives')\n",
    "ax = sns.distplot(predict_df.query(\"status == 1\").decision_function, hist=False, label='Positives')"
   ]
  },
  {
   "cell_type": "code",
   "execution_count": 27,
   "metadata": {},
   "outputs": [
    {
     "data": {
      "image/png": "[encoded data removed]",
      "text/plain": [
       "<matplotlib.figure.Figure at 0x7f23bdeea4e0>"
      ]
     },
     "metadata": {},
     "output_type": "display_data"
    }
   ],
   "source": [
    "ax = sns.distplot(predict_df.query(\"status == 0\").probability, hist=False, label='Negatives')\n",
    "ax = sns.distplot(predict_df.query(\"status == 1\").probability, hist=False, label='Positives')"
   ]
  }
 ],
 "metadata": {
  "kernelspec": {
   "display_name": "Python 3",
   "language": "python",
   "name": "python3"
  },
  "language_info": {
   "codemirror_mode": {
    "name": "ipython",
    "version": 3
   },
   "file_extension": ".py",
   "mimetype": "text/x-python",
   "name": "python",
   "nbconvert_exporter": "python",
   "pygments_lexer": "ipython3",
   "version": "3.5.2"
  }
 },
 "nbformat": 4,
 "nbformat_minor": 1
}
