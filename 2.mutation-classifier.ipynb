{
 "cells": [
  {
   "cell_type": "markdown",
   "metadata": {},
   "source": [
    "# Create a logistic regression model to predict TP53 mutation from gene expression data in TCGA"
   ]
  },
  {
   "cell_type": "code",
   "execution_count": 1,
   "metadata": {},
   "outputs": [
    {
     "name": "stderr",
     "output_type": "stream",
     "text": [
      "/opt/conda/lib/python3.6/site-packages/statsmodels/compat/pandas.py:56: FutureWarning: The pandas.core.datetools module is deprecated and will be removed in a future version. Please use the pandas.tseries module instead.\n",
      "  from pandas.core import datetools\n"
     ]
    }
   ],
   "source": [
    "import datetime\n",
    "import json\n",
    "import os\n",
    "import time\n",
    "\n",
    "from sklearn.decomposition import PCA\n",
    "from sklearn.linear_model import SGDClassifier\n",
    "from sklearn.metrics import roc_auc_score, roc_curve\n",
    "from sklearn.model_selection import train_test_split, StratifiedKFold\n",
    "from dask_searchcv import GridSearchCV\n",
    "from sklearn.pipeline import Pipeline, FeatureUnion\n",
    "from sklearn.preprocessing import StandardScaler, FunctionTransformer\n",
    "import numpy as np\n",
    "import pandas as pd\n",
    "from plotnine import *\n",
    "\n",
    "from utils import fill_spec_with_data, get_model_coefficients, get_genes_coefficients"
   ]
  },
  {
   "cell_type": "code",
   "execution_count": 2,
   "metadata": {
    "collapsed": true
   },
   "outputs": [],
   "source": [
    "%matplotlib inline"
   ]
  },
  {
   "cell_type": "markdown",
   "metadata": {},
   "source": [
    "## Specify model configuration"
   ]
  },
  {
   "cell_type": "code",
   "execution_count": 3,
   "metadata": {},
   "outputs": [
    {
     "name": "stdout",
     "output_type": "stream",
     "text": [
      "Genes: ['7157']\n",
      "Diseases: []\n"
     ]
    }
   ],
   "source": [
    "# We're going to be building a classifier with multiple genes filtered by two diseases \n",
    "# Example:\n",
    "# gene_ids = ['7157', '7158', '7159', '7161']\n",
    "\n",
    "# Information passed into the notebook is stored in environment variables\n",
    "gene_ids = os.environ.get('gene_ids')\n",
    "if not gene_ids:\n",
    "    gene_ids = ['7157'] # TP53 is the default\n",
    "else:\n",
    "    gene_ids = gene_ids.split('-')\n",
    "    \n",
    "disease_acronyms = os.environ.get('disease_acronyms')\n",
    "\n",
    "if not disease_acronyms:\n",
    "    disease_acronyms = [] # use all of the diseases as default\n",
    "    # disease_acronyms = ['LUAD', 'BLCA']\n",
    "else:\n",
    "    disease_acronyms = disease_acronyms.split('-')\n",
    "    \n",
    "print(\"Genes: \" + str(gene_ids))\n",
    "print(\"Diseases: \" + str(disease_acronyms))"
   ]
  },
  {
   "cell_type": "markdown",
   "metadata": {},
   "source": [
    "*Here is some [documentation](http://scikit-learn.org/stable/modules/generated/sklearn.linear_model.SGDClassifier.html) regarding the classifier and hyperparameters*\n",
    "\n",
    "*Here is some [information](https://ghr.nlm.nih.gov/gene/TP53) about TP53*"
   ]
  },
  {
   "cell_type": "markdown",
   "metadata": {},
   "source": [
    "## Load Data"
   ]
  },
  {
   "cell_type": "code",
   "execution_count": 4,
   "metadata": {
    "collapsed": true
   },
   "outputs": [],
   "source": [
    "path = os.path.join('download', 'expression-matrix.tsv.bz2')\n",
    "expression_df = pd.read_table(path, index_col=0)\n",
    "\n",
    "path = os.path.join('download', 'mutation-matrix.tsv.bz2')\n",
    "mutation_df = pd.read_table(path, index_col=0)\n",
    "\n",
    "path = os.path.join('download', 'covariates.tsv')\n",
    "covariate_df = pd.read_table(path, index_col=0)"
   ]
  },
  {
   "cell_type": "code",
   "execution_count": 5,
   "metadata": {
    "collapsed": true
   },
   "outputs": [],
   "source": [
    "# Select acronym_x and n_mutations_log1p covariates only\n",
    "disease_cols = [col for col in covariate_df.columns if col.startswith('acronym_')]\n",
    "\n",
    "# Filter covariate columns by disease if a list was provided\n",
    "if disease_acronyms:\n",
    "    disease_cols = [col for col in disease_cols if col.endswith(tuple(disease_acronyms))]\n",
    "    \n",
    "selected_cols = disease_cols + ['n_mutations_log1p']\n",
    "covariate_df = covariate_df[selected_cols]"
   ]
  },
  {
   "cell_type": "code",
   "execution_count": 6,
   "metadata": {},
   "outputs": [
    {
     "name": "stdout",
     "output_type": "stream",
     "text": [
      "CPU times: user 30 ms, sys: 10 ms, total: 40 ms\n",
      "Wall time: 36.9 ms\n"
     ]
    }
   ],
   "source": [
    "%%time\n",
    "path = os.path.join('download', 'expression-genes.tsv')\n",
    "expression_genes_df = pd.read_table(path, index_col=0)"
   ]
  },
  {
   "cell_type": "code",
   "execution_count": 7,
   "metadata": {
    "collapsed": true
   },
   "outputs": [],
   "source": [
    "# Filter the rows by disease type\n",
    "# subsection of columns with row-wise max\n",
    "has_disease = covariate_df[disease_cols].max(axis=1) > 0\n",
    "covariate_df = covariate_df[has_disease]"
   ]
  },
  {
   "cell_type": "code",
   "execution_count": 8,
   "metadata": {
    "collapsed": true
   },
   "outputs": [],
   "source": [
    "# filter by sample_id\n",
    "expression_df = expression_df[expression_df.index.isin(covariate_df.index)]\n",
    "\n",
    "# filter by sample_id\n",
    "mutation_df = mutation_df[mutation_df.index.isin(covariate_df.index)]"
   ]
  },
  {
   "cell_type": "code",
   "execution_count": 9,
   "metadata": {},
   "outputs": [
    {
     "data": {
      "text/plain": [
       "sample_id\n",
       "TCGA-02-0047-01    0\n",
       "TCGA-02-0055-01    1\n",
       "TCGA-02-2483-01    1\n",
       "TCGA-02-2485-01    1\n",
       "TCGA-02-2486-01    0\n",
       "TCGA-04-1348-01    1\n",
       "dtype: int64"
      ]
     },
     "execution_count": 9,
     "metadata": {},
     "output_type": "execute_result"
    }
   ],
   "source": [
    "# The series holds Gene Mutation Status for each sample\n",
    "# Take max of mutation status, meaning if any of the genes mutated the value should be 1\n",
    "y = mutation_df[gene_ids].max(axis=1)\n",
    "y.head(6)"
   ]
  },
  {
   "cell_type": "code",
   "execution_count": 10,
   "metadata": {},
   "outputs": [
    {
     "name": "stdout",
     "output_type": "stream",
     "text": [
      "Gene expression matrix shape: (7306, 20468)\n",
      "Covariates matrix shape: (7306, 33)\n"
     ]
    }
   ],
   "source": [
    "print('Gene expression matrix shape: {}'.format(expression_df.shape))\n",
    "print('Covariates matrix shape: {}'.format(covariate_df.shape))"
   ]
  },
  {
   "cell_type": "markdown",
   "metadata": {},
   "source": [
    "## Set aside 10% of the data for testing"
   ]
  },
  {
   "cell_type": "code",
   "execution_count": 11,
   "metadata": {},
   "outputs": [
    {
     "data": {
      "text/plain": [
       "0    0.645907\n",
       "1    0.354093\n",
       "dtype: float64"
      ]
     },
     "execution_count": 11,
     "metadata": {},
     "output_type": "execute_result"
    }
   ],
   "source": [
    "# Typically, this type of split can only be done \n",
    "# for genes where the number of mutations is large enough\n",
    "X = pd.concat([covariate_df, expression_df], axis='columns')\n",
    "X_train, X_test, y_train, y_test = train_test_split(X, y, test_size=0.1, random_state=0)\n",
    "\n",
    "# Here are the percentage of tumors with TP53\n",
    "y.value_counts(True)"
   ]
  },
  {
   "cell_type": "markdown",
   "metadata": {},
   "source": [
    "## Feature selection"
   ]
  },
  {
   "cell_type": "code",
   "execution_count": 12,
   "metadata": {
    "collapsed": true
   },
   "outputs": [],
   "source": [
    "def select_feature_set_columns(X, feature_set):\n",
    "    \"\"\"\n",
    "    Select the feature set for the different models within the pipeline\n",
    "    \"\"\"\n",
    "    n_covariates = len(covariate_df.columns)\n",
    "    if feature_set == 'covariates':\n",
    "        return X[:, :n_covariates]\n",
    "    if feature_set == 'expressions':\n",
    "        return X[:, n_covariates:]\n",
    "    raise ValueError('feature_set not supported: {}'.format(feature_set))\n",
    "\n",
    "# Creates the expression features by standarizing them and running PCA\n",
    "# Because the expressions matrix is so large, we preprocess with PCA\n",
    "# The amount of variance in the data captured by ~100 components is high\n",
    "expression_features = Pipeline([\n",
    "    ('select_features', FunctionTransformer(select_feature_set_columns,\n",
    "        kw_args={'feature_set': 'expressions'})),\n",
    "    ('standardize', StandardScaler()),\n",
    "    ('pca', PCA())\n",
    "])\n",
    "\n",
    "# Creates the covariate features by selecting and standardizing them\n",
    "covariate_features = Pipeline([\n",
    "    ('select_features', FunctionTransformer(select_feature_set_columns,\n",
    "        kw_args={'feature_set': 'covariates'})),\n",
    "    ('standardize', StandardScaler())\n",
    "])"
   ]
  },
  {
   "cell_type": "markdown",
   "metadata": {},
   "source": [
    "## Elastic net classifier and model paraemeters"
   ]
  },
  {
   "cell_type": "code",
   "execution_count": 13,
   "metadata": {
    "collapsed": true
   },
   "outputs": [],
   "source": [
    "# Parameter Sweep for Hyperparameters\n",
    "n_components_list = [50, 100]\n",
    "regularization_alpha_list = [10 ** x for x in range(-3, 1)]\n",
    "regularization_l1_ratio = 0.15\n",
    "\n",
    "param_grids = {\n",
    "    'full': {\n",
    "        'features__expressions__pca__n_components' : n_components_list,\n",
    "        'classify__alpha': regularization_alpha_list\n",
    "    },\n",
    "    'expressions': {\n",
    "        'features__expressions__pca__n_components' : n_components_list,\n",
    "        'classify__alpha': regularization_alpha_list\n",
    "    },\n",
    "    'covariates': {\n",
    "        'classify__alpha': regularization_alpha_list\n",
    "    }\n",
    "}\n",
    "\n",
    "# Classifier: Elastic Net\n",
    "classifier = SGDClassifier(penalty='elasticnet',\n",
    "                           l1_ratio=regularization_l1_ratio,\n",
    "                           loss='log', \n",
    "                           class_weight='balanced',\n",
    "                           random_state=0)"
   ]
  },
  {
   "cell_type": "markdown",
   "metadata": {},
   "source": [
    "## Define pipeline and cross validation"
   ]
  },
  {
   "cell_type": "code",
   "execution_count": 14,
   "metadata": {
    "collapsed": true
   },
   "outputs": [],
   "source": [
    "# Full model pipelines\n",
    "pipeline_definitions = {\n",
    "    'full': Pipeline([\n",
    "        ('features', FeatureUnion([\n",
    "            ('expressions', expression_features),\n",
    "            ('covariates', covariate_features)\n",
    "        ])),\n",
    "        ('classify', classifier)\n",
    "    ]),\n",
    "    'expressions': Pipeline([\n",
    "        ('features', FeatureUnion([('expressions', expression_features)])),\n",
    "        ('classify', classifier)\n",
    "    ]),\n",
    "    'covariates': Pipeline([\n",
    "        ('features', FeatureUnion([('covariates', covariate_features)])),\n",
    "        ('classify', classifier)\n",
    "    ])\n",
    "}\n",
    "\n",
    "# Construct cross-validated grid searches\n",
    "cv_pipelines = dict()\n",
    "for model, pipeline in pipeline_definitions.items():\n",
    "    cv = StratifiedKFold(n_splits=3, random_state=0)\n",
    "    grid_search = GridSearchCV(\n",
    "        estimator=pipeline,\n",
    "        param_grid=param_grids[model],\n",
    "        cv=cv,\n",
    "        n_jobs=1, \n",
    "        scoring='roc_auc',\n",
    "    )\n",
    "    cv_pipelines[model] = grid_search"
   ]
  },
  {
   "cell_type": "code",
   "execution_count": 15,
   "metadata": {},
   "outputs": [
    {
     "name": "stdout",
     "output_type": "stream",
     "text": [
      "Fitting CV for model: full\n",
      "\truntime: 0:01:47.540831\n",
      "Fitting CV for model: expressions\n",
      "\truntime: 0:01:41.536905\n",
      "Fitting CV for model: covariates\n",
      "\truntime: 0:00:08.529364\n"
     ]
    }
   ],
   "source": [
    "# Fit the models\n",
    "for model, pipeline in cv_pipelines.items():\n",
    "    print('Fitting CV for model: {0}'.format(model))\n",
    "    start_time = time.perf_counter()\n",
    "    pipeline.fit(X=X_train, y=y_train)\n",
    "    end_time = time.perf_counter()\n",
    "    elapsed = datetime.timedelta(seconds=end_time - start_time)\n",
    "    print('\\truntime: {}'.format(elapsed))"
   ]
  },
  {
   "cell_type": "code",
   "execution_count": 16,
   "metadata": {},
   "outputs": [
    {
     "name": "stdout",
     "output_type": "stream",
     "text": [
      "# full\n",
      "{'classify__alpha': 1, 'features__expressions__pca__n_components': 50}\n",
      "cv_auroc = 87.885%\n",
      "# expressions\n",
      "{'classify__alpha': 1, 'features__expressions__pca__n_components': 100}\n",
      "cv_auroc = 87.842%\n",
      "# covariates\n",
      "{'classify__alpha': 0.01}\n",
      "cv_auroc = 84.206%\n"
     ]
    }
   ],
   "source": [
    "# Best Parameters\n",
    "for model, pipeline in cv_pipelines.items():\n",
    "    print('#', model)\n",
    "    print(pipeline.best_params_)\n",
    "    print('cv_auroc = {:.3%}'.format(pipeline.best_score_))"
   ]
  },
  {
   "cell_type": "markdown",
   "metadata": {},
   "source": [
    "## Visualize hyperparameters performance"
   ]
  },
  {
   "cell_type": "code",
   "execution_count": 17,
   "metadata": {
    "collapsed": true
   },
   "outputs": [],
   "source": [
    "cv_results_df = pd.DataFrame()\n",
    "for model, pipeline in cv_pipelines.items():\n",
    "    df = pd.concat([\n",
    "        pd.DataFrame(pipeline.cv_results_),\n",
    "        pd.DataFrame.from_records(pipeline.cv_results_['params'])\n",
    "    ], axis='columns')\n",
    "    df['feature_set'] = model\n",
    "    cv_results_df = cv_results_df.append(df)"
   ]
  },
  {
   "cell_type": "code",
   "execution_count": 18,
   "metadata": {},
   "outputs": [
    {
     "data": {
      "image/png": "[encoded data removed]",
      "text/plain": [
       "<matplotlib.figure.Figure at 0x7f81128925c0>"
      ]
     },
     "metadata": {},
     "output_type": "display_data"
    },
    {
     "data": {
      "text/plain": [
       "<ggplot: (8762023816526)>"
      ]
     },
     "execution_count": 18,
     "metadata": {},
     "output_type": "execute_result"
    }
   ],
   "source": [
    "# Cross-validated performance heatmap\n",
    "cv_results_df['classify__alpha'] = cv_results_df['classify__alpha'].astype(str)\n",
    "\n",
    "(ggplot(cv_results_df, aes(x='classify__alpha',\n",
    "                           y='mean_test_score',\n",
    "                           fill='feature_set'))\n",
    " + geom_bar(stat='identity', position='dodge')\n",
    " + labs(x='Regularization strength multiplier (alpha)',\n",
    "        y='CV AUROC')\n",
    " + guides(fill=guide_legend(title=\"Feature Set\"))\n",
    ")"
   ]
  },
  {
   "cell_type": "markdown",
   "metadata": {},
   "source": [
    "## Use optimal hyperparameters to output ROC curve"
   ]
  },
  {
   "cell_type": "code",
   "execution_count": 19,
   "metadata": {
    "collapsed": true
   },
   "outputs": [],
   "source": [
    "y_pred_dict = {\n",
    "    model: {\n",
    "        'train': pipeline.decision_function(X_train),\n",
    "        'test':  pipeline.decision_function(X_test)\n",
    "    } for model, pipeline in cv_pipelines.items()\n",
    "}\n",
    "\n",
    "def get_threshold_metrics(y_true, y_pred):\n",
    "    roc_columns = ['fpr', 'tpr', 'threshold']\n",
    "    roc_items = zip(roc_columns, roc_curve(y_true, y_pred))\n",
    "    roc_df = pd.DataFrame.from_items(roc_items)\n",
    "    auroc = roc_auc_score(y_true, y_pred)\n",
    "    return {'auroc': auroc, 'roc_df': roc_df}\n",
    "\n",
    "metrics_dict = {    \n",
    "    model: {\n",
    "        'train': get_threshold_metrics(y_train, y_pred_dict[model]['train']),\n",
    "        'test':  get_threshold_metrics(y_test, y_pred_dict[model]['test'])\n",
    "    } for model in y_pred_dict.keys()\n",
    "}"
   ]
  },
  {
   "cell_type": "code",
   "execution_count": 20,
   "metadata": {},
   "outputs": [
    {
     "data": {
      "image/png": "[encoded data removed]",
      "text/plain": [
       "<matplotlib.figure.Figure at 0x7f80fb260710>"
      ]
     },
     "metadata": {},
     "output_type": "display_data"
    },
    {
     "data": {
      "text/plain": [
       "<ggplot: (8762019253838)>"
      ]
     },
     "execution_count": 20,
     "metadata": {},
     "output_type": "execute_result"
    }
   ],
   "source": [
    "# Assemble the data for ROC curves\n",
    "model_order = ['full', 'expressions', 'covariates']\n",
    "\n",
    "auc_output = pd.DataFrame()\n",
    "roc_output = pd.DataFrame()\n",
    "\n",
    "for model in model_order:\n",
    "    metrics_partition = metrics_dict[model]\n",
    "    for partition, metrics in metrics_partition.items():\n",
    "        auc_output = auc_output.append(pd.DataFrame({\n",
    "            'partition': [partition],\n",
    "            'feature_set': [model],\n",
    "            'auc': metrics['auroc'].round(3)\n",
    "        }))\n",
    "        roc_df = metrics['roc_df']\n",
    "        roc_output = roc_output.append(pd.DataFrame({\n",
    "            'false_positive_rate': roc_df.fpr,\n",
    "            'true_positive_rate': roc_df.tpr,\n",
    "            'partition': partition,\n",
    "            'feature_set': model\n",
    "        }))\n",
    "\n",
    "(ggplot(roc_output, aes(x='false_positive_rate',\n",
    "                        y='true_positive_rate',\n",
    "                        color='feature_set',\n",
    "                        linetype='partition'))\n",
    " + geom_line(size=0.9, alpha=0.6)\n",
    " + labs(x='false positive rate', y='true positive rate')\n",
    ")"
   ]
  },
  {
   "cell_type": "markdown",
   "metadata": {},
   "source": [
    "### AUROC"
   ]
  },
  {
   "cell_type": "code",
   "execution_count": 21,
   "metadata": {},
   "outputs": [
    {
     "data": {
      "text/html": [
       "<div>\n",
       "<style>\n",
       "    .dataframe thead tr:only-child th {\n",
       "        text-align: right;\n",
       "    }\n",
       "\n",
       "    .dataframe thead th {\n",
       "        text-align: left;\n",
       "    }\n",
       "\n",
       "    .dataframe tbody tr th {\n",
       "        vertical-align: top;\n",
       "    }\n",
       "</style>\n",
       "<table border=\"1\" class=\"dataframe\">\n",
       "  <thead>\n",
       "    <tr style=\"text-align: right;\">\n",
       "      <th>feature_set</th>\n",
       "      <th>covariates</th>\n",
       "      <th>expressions</th>\n",
       "      <th>full</th>\n",
       "    </tr>\n",
       "    <tr>\n",
       "      <th>partition</th>\n",
       "      <th></th>\n",
       "      <th></th>\n",
       "      <th></th>\n",
       "    </tr>\n",
       "  </thead>\n",
       "  <tbody>\n",
       "    <tr>\n",
       "      <th>test</th>\n",
       "      <td>0.851</td>\n",
       "      <td>0.887</td>\n",
       "      <td>0.886</td>\n",
       "    </tr>\n",
       "    <tr>\n",
       "      <th>train</th>\n",
       "      <td>0.844</td>\n",
       "      <td>0.873</td>\n",
       "      <td>0.871</td>\n",
       "    </tr>\n",
       "  </tbody>\n",
       "</table>\n",
       "</div>"
      ],
      "text/plain": [
       "feature_set  covariates  expressions   full\n",
       "partition                                  \n",
       "test              0.851        0.887  0.886\n",
       "train             0.844        0.873  0.871"
      ]
     },
     "execution_count": 21,
     "metadata": {},
     "output_type": "execute_result"
    }
   ],
   "source": [
    "pd.pivot_table(auc_output,\n",
    "               values='auc',\n",
    "               index='partition',\n",
    "               columns='feature_set')"
   ]
  },
  {
   "cell_type": "markdown",
   "metadata": {},
   "source": [
    "## What are the classifier coefficients?"
   ]
  },
  {
   "cell_type": "code",
   "execution_count": 22,
   "metadata": {
    "collapsed": true
   },
   "outputs": [],
   "source": [
    "final_pipelines = {\n",
    "    model: pipeline.best_estimator_\n",
    "    for model, pipeline in cv_pipelines.items()\n",
    "}\n",
    "final_classifiers = {\n",
    "    model: pipeline.named_steps['classify']\n",
    "    for model, pipeline in final_pipelines.items()\n",
    "}\n",
    "\n",
    "coef_df = pd.concat([\n",
    "    get_model_coefficients(classifier, model, covariate_df.columns)\n",
    "    for model, classifier in final_classifiers.items()\n",
    "])"
   ]
  },
  {
   "cell_type": "code",
   "execution_count": 23,
   "metadata": {},
   "outputs": [
    {
     "data": {
      "text/html": [
       "<div>\n",
       "<style>\n",
       "    .dataframe thead tr:only-child th {\n",
       "        text-align: right;\n",
       "    }\n",
       "\n",
       "    .dataframe thead th {\n",
       "        text-align: left;\n",
       "    }\n",
       "\n",
       "    .dataframe tbody tr th {\n",
       "        vertical-align: top;\n",
       "    }\n",
       "</style>\n",
       "<table border=\"1\" class=\"dataframe\">\n",
       "  <thead>\n",
       "    <tr style=\"text-align: right;\">\n",
       "      <th>coefficient_sign</th>\n",
       "      <th>-1.0</th>\n",
       "      <th>0.0</th>\n",
       "      <th>1.0</th>\n",
       "    </tr>\n",
       "    <tr>\n",
       "      <th>feature_set</th>\n",
       "      <th></th>\n",
       "      <th></th>\n",
       "      <th></th>\n",
       "    </tr>\n",
       "  </thead>\n",
       "  <tbody>\n",
       "    <tr>\n",
       "      <th>covariates</th>\n",
       "      <td>15</td>\n",
       "      <td>5</td>\n",
       "      <td>13</td>\n",
       "    </tr>\n",
       "    <tr>\n",
       "      <th>expressions</th>\n",
       "      <td>14</td>\n",
       "      <td>74</td>\n",
       "      <td>12</td>\n",
       "    </tr>\n",
       "    <tr>\n",
       "      <th>full</th>\n",
       "      <td>13</td>\n",
       "      <td>61</td>\n",
       "      <td>9</td>\n",
       "    </tr>\n",
       "  </tbody>\n",
       "</table>\n",
       "</div>"
      ],
      "text/plain": [
       "coefficient_sign  -1.0   0.0   1.0\n",
       "feature_set                       \n",
       "covariates          15     5    13\n",
       "expressions         14    74    12\n",
       "full                13    61     9"
      ]
     },
     "execution_count": 23,
     "metadata": {},
     "output_type": "execute_result"
    }
   ],
   "source": [
    "# Signs of the coefficients by model\n",
    "pd.crosstab(coef_df.feature_set, np.sign(coef_df.weight).rename('coefficient_sign'))"
   ]
  },
  {
   "cell_type": "markdown",
   "metadata": {},
   "source": [
    "### Top coefficients for covariates model"
   ]
  },
  {
   "cell_type": "code",
   "execution_count": 24,
   "metadata": {},
   "outputs": [
    {
     "data": {
      "text/html": [
       "<div>\n",
       "<style>\n",
       "    .dataframe thead tr:only-child th {\n",
       "        text-align: right;\n",
       "    }\n",
       "\n",
       "    .dataframe thead th {\n",
       "        text-align: left;\n",
       "    }\n",
       "\n",
       "    .dataframe tbody tr th {\n",
       "        vertical-align: top;\n",
       "    }\n",
       "</style>\n",
       "<table border=\"1\" class=\"dataframe\">\n",
       "  <thead>\n",
       "    <tr style=\"text-align: right;\">\n",
       "      <th></th>\n",
       "      <th>feature</th>\n",
       "      <th>weight</th>\n",
       "      <th>abs</th>\n",
       "      <th>feature_set</th>\n",
       "    </tr>\n",
       "  </thead>\n",
       "  <tbody>\n",
       "    <tr>\n",
       "      <th>8</th>\n",
       "      <td>PCA_8</td>\n",
       "      <td>-0.037163</td>\n",
       "      <td>0.037163</td>\n",
       "      <td>full</td>\n",
       "    </tr>\n",
       "    <tr>\n",
       "      <th>29</th>\n",
       "      <td>PCA_29</td>\n",
       "      <td>-0.035561</td>\n",
       "      <td>0.035561</td>\n",
       "      <td>full</td>\n",
       "    </tr>\n",
       "    <tr>\n",
       "      <th>2</th>\n",
       "      <td>PCA_2</td>\n",
       "      <td>-0.035350</td>\n",
       "      <td>0.035350</td>\n",
       "      <td>full</td>\n",
       "    </tr>\n",
       "    <tr>\n",
       "      <th>24</th>\n",
       "      <td>PCA_24</td>\n",
       "      <td>0.032837</td>\n",
       "      <td>0.032837</td>\n",
       "      <td>full</td>\n",
       "    </tr>\n",
       "    <tr>\n",
       "      <th>11</th>\n",
       "      <td>PCA_11</td>\n",
       "      <td>-0.032826</td>\n",
       "      <td>0.032826</td>\n",
       "      <td>full</td>\n",
       "    </tr>\n",
       "    <tr>\n",
       "      <th>22</th>\n",
       "      <td>PCA_22</td>\n",
       "      <td>-0.030797</td>\n",
       "      <td>0.030797</td>\n",
       "      <td>full</td>\n",
       "    </tr>\n",
       "    <tr>\n",
       "      <th>37</th>\n",
       "      <td>PCA_37</td>\n",
       "      <td>0.029241</td>\n",
       "      <td>0.029241</td>\n",
       "      <td>full</td>\n",
       "    </tr>\n",
       "    <tr>\n",
       "      <th>1</th>\n",
       "      <td>PCA_1</td>\n",
       "      <td>-0.028202</td>\n",
       "      <td>0.028202</td>\n",
       "      <td>full</td>\n",
       "    </tr>\n",
       "    <tr>\n",
       "      <th>17</th>\n",
       "      <td>PCA_17</td>\n",
       "      <td>0.025102</td>\n",
       "      <td>0.025102</td>\n",
       "      <td>full</td>\n",
       "    </tr>\n",
       "    <tr>\n",
       "      <th>34</th>\n",
       "      <td>PCA_34</td>\n",
       "      <td>-0.023984</td>\n",
       "      <td>0.023984</td>\n",
       "      <td>full</td>\n",
       "    </tr>\n",
       "  </tbody>\n",
       "</table>\n",
       "</div>"
      ],
      "text/plain": [
       "   feature    weight       abs feature_set\n",
       "8    PCA_8 -0.037163  0.037163        full\n",
       "29  PCA_29 -0.035561  0.035561        full\n",
       "2    PCA_2 -0.035350  0.035350        full\n",
       "24  PCA_24  0.032837  0.032837        full\n",
       "11  PCA_11 -0.032826  0.032826        full\n",
       "22  PCA_22 -0.030797  0.030797        full\n",
       "37  PCA_37  0.029241  0.029241        full\n",
       "1    PCA_1 -0.028202  0.028202        full\n",
       "17  PCA_17  0.025102  0.025102        full\n",
       "34  PCA_34 -0.023984  0.023984        full"
      ]
     },
     "execution_count": 24,
     "metadata": {},
     "output_type": "execute_result"
    }
   ],
   "source": [
    "coef_df.query(\"feature_set == 'full'\").head(10)"
   ]
  },
  {
   "cell_type": "markdown",
   "metadata": {},
   "source": [
    "### Top coefficients for individual _genes_ for full model"
   ]
  },
  {
   "cell_type": "code",
   "execution_count": 25,
   "metadata": {},
   "outputs": [
    {
     "data": {
      "text/html": [
       "<div>\n",
       "<style>\n",
       "    .dataframe thead tr:only-child th {\n",
       "        text-align: right;\n",
       "    }\n",
       "\n",
       "    .dataframe thead th {\n",
       "        text-align: left;\n",
       "    }\n",
       "\n",
       "    .dataframe tbody tr th {\n",
       "        vertical-align: top;\n",
       "    }\n",
       "</style>\n",
       "<table border=\"1\" class=\"dataframe\">\n",
       "  <thead>\n",
       "    <tr style=\"text-align: right;\">\n",
       "      <th></th>\n",
       "      <th>symbol</th>\n",
       "      <th>weight</th>\n",
       "      <th>abs</th>\n",
       "      <th>description</th>\n",
       "    </tr>\n",
       "    <tr>\n",
       "      <th>entrez_id</th>\n",
       "      <th></th>\n",
       "      <th></th>\n",
       "      <th></th>\n",
       "      <th></th>\n",
       "    </tr>\n",
       "  </thead>\n",
       "  <tbody>\n",
       "    <tr>\n",
       "      <th>1643</th>\n",
       "      <td>DDB2</td>\n",
       "      <td>-0.003410</td>\n",
       "      <td>0.003410</td>\n",
       "      <td>damage specific DNA binding protein 2</td>\n",
       "    </tr>\n",
       "    <tr>\n",
       "      <th>8767</th>\n",
       "      <td>RIPK2</td>\n",
       "      <td>0.003273</td>\n",
       "      <td>0.003273</td>\n",
       "      <td>receptor interacting serine/threonine kinase 2</td>\n",
       "    </tr>\n",
       "    <tr>\n",
       "      <th>25879</th>\n",
       "      <td>DCAF13</td>\n",
       "      <td>0.003267</td>\n",
       "      <td>0.003267</td>\n",
       "      <td>DDB1 and CUL4 associated factor 13</td>\n",
       "    </tr>\n",
       "    <tr>\n",
       "      <th>3654</th>\n",
       "      <td>IRAK1</td>\n",
       "      <td>0.003168</td>\n",
       "      <td>0.003168</td>\n",
       "      <td>interleukin 1 receptor associated kinase 1</td>\n",
       "    </tr>\n",
       "    <tr>\n",
       "      <th>79581</th>\n",
       "      <td>SLC52A2</td>\n",
       "      <td>0.003081</td>\n",
       "      <td>0.003081</td>\n",
       "      <td>solute carrier family 52 member 2</td>\n",
       "    </tr>\n",
       "    <tr>\n",
       "      <th>114907</th>\n",
       "      <td>FBXO32</td>\n",
       "      <td>0.003079</td>\n",
       "      <td>0.003079</td>\n",
       "      <td>F-box protein 32</td>\n",
       "    </tr>\n",
       "    <tr>\n",
       "      <th>157378</th>\n",
       "      <td>TMEM65</td>\n",
       "      <td>0.003040</td>\n",
       "      <td>0.003040</td>\n",
       "      <td>transmembrane protein 65</td>\n",
       "    </tr>\n",
       "    <tr>\n",
       "      <th>6788</th>\n",
       "      <td>STK3</td>\n",
       "      <td>0.003019</td>\n",
       "      <td>0.003019</td>\n",
       "      <td>serine/threonine kinase 3</td>\n",
       "    </tr>\n",
       "    <tr>\n",
       "      <th>734</th>\n",
       "      <td>OSGIN2</td>\n",
       "      <td>0.003019</td>\n",
       "      <td>0.003019</td>\n",
       "      <td>oxidative stress induced growth inhibitor fami...</td>\n",
       "    </tr>\n",
       "    <tr>\n",
       "      <th>6556</th>\n",
       "      <td>SLC11A1</td>\n",
       "      <td>0.002958</td>\n",
       "      <td>0.002958</td>\n",
       "      <td>solute carrier family 11 member 1</td>\n",
       "    </tr>\n",
       "  </tbody>\n",
       "</table>\n",
       "</div>"
      ],
      "text/plain": [
       "            symbol    weight       abs  \\\n",
       "entrez_id                                \n",
       "1643          DDB2 -0.003410  0.003410   \n",
       "8767         RIPK2  0.003273  0.003273   \n",
       "25879       DCAF13  0.003267  0.003267   \n",
       "3654         IRAK1  0.003168  0.003168   \n",
       "79581      SLC52A2  0.003081  0.003081   \n",
       "114907      FBXO32  0.003079  0.003079   \n",
       "157378      TMEM65  0.003040  0.003040   \n",
       "6788          STK3  0.003019  0.003019   \n",
       "734         OSGIN2  0.003019  0.003019   \n",
       "6556       SLC11A1  0.002958  0.002958   \n",
       "\n",
       "                                                 description  \n",
       "entrez_id                                                     \n",
       "1643                   damage specific DNA binding protein 2  \n",
       "8767          receptor interacting serine/threonine kinase 2  \n",
       "25879                     DDB1 and CUL4 associated factor 13  \n",
       "3654              interleukin 1 receptor associated kinase 1  \n",
       "79581                      solute carrier family 52 member 2  \n",
       "114907                                      F-box protein 32  \n",
       "157378                              transmembrane protein 65  \n",
       "6788                               serine/threonine kinase 3  \n",
       "734        oxidative stress induced growth inhibitor fami...  \n",
       "6556                       solute carrier family 11 member 1  "
      ]
     },
     "execution_count": 25,
     "metadata": {},
     "output_type": "execute_result"
    }
   ],
   "source": [
    "pca_for_full = (\n",
    "    final_pipelines['full']\n",
    "    .named_steps['features']\n",
    "    .get_params()['expressions__pca']\n",
    "    )\n",
    "classifier_for_full = (\n",
    "    final_pipelines['full']\n",
    "    .named_steps['classify']\n",
    "    )\n",
    "gene_coefficients_for_full = get_genes_coefficients(\n",
    "    pca_object=pca_for_full,\n",
    "    classifier_object=classifier_for_full,\n",
    "    expression_df=expression_df,\n",
    "    expression_genes_df=expression_genes_df,\n",
    "    num_covariates=len(covariate_df.columns)\n",
    "    )\n",
    "gene_coefficients_for_full.head(10)"
   ]
  },
  {
   "cell_type": "markdown",
   "metadata": {},
   "source": [
    "### Top coefficients for individual _genes_ for expressions model"
   ]
  },
  {
   "cell_type": "code",
   "execution_count": 26,
   "metadata": {},
   "outputs": [
    {
     "data": {
      "text/html": [
       "<div>\n",
       "<style>\n",
       "    .dataframe thead tr:only-child th {\n",
       "        text-align: right;\n",
       "    }\n",
       "\n",
       "    .dataframe thead th {\n",
       "        text-align: left;\n",
       "    }\n",
       "\n",
       "    .dataframe tbody tr th {\n",
       "        vertical-align: top;\n",
       "    }\n",
       "</style>\n",
       "<table border=\"1\" class=\"dataframe\">\n",
       "  <thead>\n",
       "    <tr style=\"text-align: right;\">\n",
       "      <th></th>\n",
       "      <th>symbol</th>\n",
       "      <th>weight</th>\n",
       "      <th>abs</th>\n",
       "      <th>description</th>\n",
       "    </tr>\n",
       "    <tr>\n",
       "      <th>entrez_id</th>\n",
       "      <th></th>\n",
       "      <th></th>\n",
       "      <th></th>\n",
       "      <th></th>\n",
       "    </tr>\n",
       "  </thead>\n",
       "  <tbody>\n",
       "    <tr>\n",
       "      <th>1643</th>\n",
       "      <td>DDB2</td>\n",
       "      <td>-0.003589</td>\n",
       "      <td>0.003589</td>\n",
       "      <td>damage specific DNA binding protein 2</td>\n",
       "    </tr>\n",
       "    <tr>\n",
       "      <th>8767</th>\n",
       "      <td>RIPK2</td>\n",
       "      <td>0.003493</td>\n",
       "      <td>0.003493</td>\n",
       "      <td>receptor interacting serine/threonine kinase 2</td>\n",
       "    </tr>\n",
       "    <tr>\n",
       "      <th>734</th>\n",
       "      <td>OSGIN2</td>\n",
       "      <td>0.003255</td>\n",
       "      <td>0.003255</td>\n",
       "      <td>oxidative stress induced growth inhibitor fami...</td>\n",
       "    </tr>\n",
       "    <tr>\n",
       "      <th>157378</th>\n",
       "      <td>TMEM65</td>\n",
       "      <td>0.003247</td>\n",
       "      <td>0.003247</td>\n",
       "      <td>transmembrane protein 65</td>\n",
       "    </tr>\n",
       "    <tr>\n",
       "      <th>25879</th>\n",
       "      <td>DCAF13</td>\n",
       "      <td>0.003237</td>\n",
       "      <td>0.003237</td>\n",
       "      <td>DDB1 and CUL4 associated factor 13</td>\n",
       "    </tr>\n",
       "    <tr>\n",
       "      <th>3654</th>\n",
       "      <td>IRAK1</td>\n",
       "      <td>0.003213</td>\n",
       "      <td>0.003213</td>\n",
       "      <td>interleukin 1 receptor associated kinase 1</td>\n",
       "    </tr>\n",
       "    <tr>\n",
       "      <th>6788</th>\n",
       "      <td>STK3</td>\n",
       "      <td>0.003139</td>\n",
       "      <td>0.003139</td>\n",
       "      <td>serine/threonine kinase 3</td>\n",
       "    </tr>\n",
       "    <tr>\n",
       "      <th>8704</th>\n",
       "      <td>B4GALT2</td>\n",
       "      <td>0.003108</td>\n",
       "      <td>0.003108</td>\n",
       "      <td>beta-1,4-galactosyltransferase 2</td>\n",
       "    </tr>\n",
       "    <tr>\n",
       "      <th>60401</th>\n",
       "      <td>EDA2R</td>\n",
       "      <td>-0.003098</td>\n",
       "      <td>0.003098</td>\n",
       "      <td>ectodysplasin A2 receptor</td>\n",
       "    </tr>\n",
       "    <tr>\n",
       "      <th>1802</th>\n",
       "      <td>DPH2</td>\n",
       "      <td>0.003087</td>\n",
       "      <td>0.003087</td>\n",
       "      <td>DPH2 homolog</td>\n",
       "    </tr>\n",
       "  </tbody>\n",
       "</table>\n",
       "</div>"
      ],
      "text/plain": [
       "            symbol    weight       abs  \\\n",
       "entrez_id                                \n",
       "1643          DDB2 -0.003589  0.003589   \n",
       "8767         RIPK2  0.003493  0.003493   \n",
       "734         OSGIN2  0.003255  0.003255   \n",
       "157378      TMEM65  0.003247  0.003247   \n",
       "25879       DCAF13  0.003237  0.003237   \n",
       "3654         IRAK1  0.003213  0.003213   \n",
       "6788          STK3  0.003139  0.003139   \n",
       "8704       B4GALT2  0.003108  0.003108   \n",
       "60401        EDA2R -0.003098  0.003098   \n",
       "1802          DPH2  0.003087  0.003087   \n",
       "\n",
       "                                                 description  \n",
       "entrez_id                                                     \n",
       "1643                   damage specific DNA binding protein 2  \n",
       "8767          receptor interacting serine/threonine kinase 2  \n",
       "734        oxidative stress induced growth inhibitor fami...  \n",
       "157378                              transmembrane protein 65  \n",
       "25879                     DDB1 and CUL4 associated factor 13  \n",
       "3654              interleukin 1 receptor associated kinase 1  \n",
       "6788                               serine/threonine kinase 3  \n",
       "8704                        beta-1,4-galactosyltransferase 2  \n",
       "60401                              ectodysplasin A2 receptor  \n",
       "1802                                            DPH2 homolog  "
      ]
     },
     "execution_count": 26,
     "metadata": {},
     "output_type": "execute_result"
    }
   ],
   "source": [
    "pca_for_expression = (\n",
    "    final_pipelines['expressions']\n",
    "    .named_steps['features']\n",
    "    .get_params()['expressions__pca']\n",
    "    )\n",
    "classifier_for_expression = (\n",
    "    final_pipelines['expressions']\n",
    "    .named_steps['classify']\n",
    "    )\n",
    "gene_coefficients_for_expression = get_genes_coefficients(\n",
    "    pca_object=pca_for_expression,\n",
    "    classifier_object=classifier_for_expression,\n",
    "    expression_df=expression_df,\n",
    "    expression_genes_df=expression_genes_df\n",
    "    )\n",
    "gene_coefficients_for_expression.head(10)"
   ]
  },
  {
   "cell_type": "markdown",
   "metadata": {},
   "source": [
    "## Investigate the predictions"
   ]
  },
  {
   "cell_type": "code",
   "execution_count": 27,
   "metadata": {
    "collapsed": true,
    "scrolled": false
   },
   "outputs": [],
   "source": [
    "predict_df = pd.DataFrame()\n",
    "for model, pipeline in final_pipelines.items():\n",
    "    df = pd.DataFrame.from_items([\n",
    "        ('feature_set', model),\n",
    "        ('sample_id', X.index),\n",
    "        ('test_set', X.index.isin(X_test.index).astype(int)),\n",
    "        ('status', y),\n",
    "        ('decision_function', pipeline.decision_function(X)),\n",
    "        ('probability', pipeline.predict_proba(X)[:, 1])\n",
    "    ])    \n",
    "    predict_df = predict_df.append(df)\n",
    "\n",
    "predict_df['probability_str'] = predict_df['probability'].apply('{:.1%}'.format)"
   ]
  },
  {
   "cell_type": "code",
   "execution_count": 28,
   "metadata": {},
   "outputs": [
    {
     "data": {
      "text/html": [
       "<div>\n",
       "<style>\n",
       "    .dataframe thead tr:only-child th {\n",
       "        text-align: right;\n",
       "    }\n",
       "\n",
       "    .dataframe thead th {\n",
       "        text-align: left;\n",
       "    }\n",
       "\n",
       "    .dataframe tbody tr th {\n",
       "        vertical-align: top;\n",
       "    }\n",
       "</style>\n",
       "<table border=\"1\" class=\"dataframe\">\n",
       "  <thead>\n",
       "    <tr style=\"text-align: right;\">\n",
       "      <th></th>\n",
       "      <th>feature_set</th>\n",
       "      <th>sample_id</th>\n",
       "      <th>test_set</th>\n",
       "      <th>status</th>\n",
       "      <th>decision_function</th>\n",
       "      <th>probability</th>\n",
       "      <th>probability_str</th>\n",
       "    </tr>\n",
       "    <tr>\n",
       "      <th>sample_id</th>\n",
       "      <th></th>\n",
       "      <th></th>\n",
       "      <th></th>\n",
       "      <th></th>\n",
       "      <th></th>\n",
       "      <th></th>\n",
       "      <th></th>\n",
       "    </tr>\n",
       "  </thead>\n",
       "  <tbody>\n",
       "    <tr>\n",
       "      <th>TCGA-L5-A4OH-01</th>\n",
       "      <td>full</td>\n",
       "      <td>TCGA-L5-A4OH-01</td>\n",
       "      <td>0</td>\n",
       "      <td>0</td>\n",
       "      <td>4.009367</td>\n",
       "      <td>0.982178</td>\n",
       "      <td>98.2%</td>\n",
       "    </tr>\n",
       "    <tr>\n",
       "      <th>TCGA-L5-A8NR-01</th>\n",
       "      <td>full</td>\n",
       "      <td>TCGA-L5-A8NR-01</td>\n",
       "      <td>0</td>\n",
       "      <td>0</td>\n",
       "      <td>3.835590</td>\n",
       "      <td>0.978868</td>\n",
       "      <td>97.9%</td>\n",
       "    </tr>\n",
       "    <tr>\n",
       "      <th>TCGA-EI-6513-01</th>\n",
       "      <td>full</td>\n",
       "      <td>TCGA-EI-6513-01</td>\n",
       "      <td>1</td>\n",
       "      <td>0</td>\n",
       "      <td>3.554463</td>\n",
       "      <td>0.972198</td>\n",
       "      <td>97.2%</td>\n",
       "    </tr>\n",
       "    <tr>\n",
       "      <th>TCGA-E2-A1LI-01</th>\n",
       "      <td>full</td>\n",
       "      <td>TCGA-E2-A1LI-01</td>\n",
       "      <td>0</td>\n",
       "      <td>0</td>\n",
       "      <td>3.449171</td>\n",
       "      <td>0.969206</td>\n",
       "      <td>96.9%</td>\n",
       "    </tr>\n",
       "    <tr>\n",
       "      <th>TCGA-HF-7136-01</th>\n",
       "      <td>full</td>\n",
       "      <td>TCGA-HF-7136-01</td>\n",
       "      <td>0</td>\n",
       "      <td>0</td>\n",
       "      <td>3.384553</td>\n",
       "      <td>0.967218</td>\n",
       "      <td>96.7%</td>\n",
       "    </tr>\n",
       "    <tr>\n",
       "      <th>TCGA-21-1081-01</th>\n",
       "      <td>full</td>\n",
       "      <td>TCGA-21-1081-01</td>\n",
       "      <td>0</td>\n",
       "      <td>0</td>\n",
       "      <td>3.303104</td>\n",
       "      <td>0.964535</td>\n",
       "      <td>96.5%</td>\n",
       "    </tr>\n",
       "    <tr>\n",
       "      <th>TCGA-L5-A4OS-01</th>\n",
       "      <td>full</td>\n",
       "      <td>TCGA-L5-A4OS-01</td>\n",
       "      <td>0</td>\n",
       "      <td>0</td>\n",
       "      <td>3.261185</td>\n",
       "      <td>0.963073</td>\n",
       "      <td>96.3%</td>\n",
       "    </tr>\n",
       "    <tr>\n",
       "      <th>TCGA-B6-A0I1-01</th>\n",
       "      <td>full</td>\n",
       "      <td>TCGA-B6-A0I1-01</td>\n",
       "      <td>0</td>\n",
       "      <td>0</td>\n",
       "      <td>3.196801</td>\n",
       "      <td>0.960714</td>\n",
       "      <td>96.1%</td>\n",
       "    </tr>\n",
       "    <tr>\n",
       "      <th>TCGA-E9-A3QA-01</th>\n",
       "      <td>full</td>\n",
       "      <td>TCGA-E9-A3QA-01</td>\n",
       "      <td>0</td>\n",
       "      <td>0</td>\n",
       "      <td>3.178608</td>\n",
       "      <td>0.960021</td>\n",
       "      <td>96.0%</td>\n",
       "    </tr>\n",
       "    <tr>\n",
       "      <th>TCGA-BR-A4J1-01</th>\n",
       "      <td>full</td>\n",
       "      <td>TCGA-BR-A4J1-01</td>\n",
       "      <td>0</td>\n",
       "      <td>0</td>\n",
       "      <td>3.176606</td>\n",
       "      <td>0.959944</td>\n",
       "      <td>96.0%</td>\n",
       "    </tr>\n",
       "  </tbody>\n",
       "</table>\n",
       "</div>"
      ],
      "text/plain": [
       "                feature_set        sample_id  test_set  status  \\\n",
       "sample_id                                                        \n",
       "TCGA-L5-A4OH-01        full  TCGA-L5-A4OH-01         0       0   \n",
       "TCGA-L5-A8NR-01        full  TCGA-L5-A8NR-01         0       0   \n",
       "TCGA-EI-6513-01        full  TCGA-EI-6513-01         1       0   \n",
       "TCGA-E2-A1LI-01        full  TCGA-E2-A1LI-01         0       0   \n",
       "TCGA-HF-7136-01        full  TCGA-HF-7136-01         0       0   \n",
       "TCGA-21-1081-01        full  TCGA-21-1081-01         0       0   \n",
       "TCGA-L5-A4OS-01        full  TCGA-L5-A4OS-01         0       0   \n",
       "TCGA-B6-A0I1-01        full  TCGA-B6-A0I1-01         0       0   \n",
       "TCGA-E9-A3QA-01        full  TCGA-E9-A3QA-01         0       0   \n",
       "TCGA-BR-A4J1-01        full  TCGA-BR-A4J1-01         0       0   \n",
       "\n",
       "                 decision_function  probability probability_str  \n",
       "sample_id                                                        \n",
       "TCGA-L5-A4OH-01           4.009367     0.982178           98.2%  \n",
       "TCGA-L5-A8NR-01           3.835590     0.978868           97.9%  \n",
       "TCGA-EI-6513-01           3.554463     0.972198           97.2%  \n",
       "TCGA-E2-A1LI-01           3.449171     0.969206           96.9%  \n",
       "TCGA-HF-7136-01           3.384553     0.967218           96.7%  \n",
       "TCGA-21-1081-01           3.303104     0.964535           96.5%  \n",
       "TCGA-L5-A4OS-01           3.261185     0.963073           96.3%  \n",
       "TCGA-B6-A0I1-01           3.196801     0.960714           96.1%  \n",
       "TCGA-E9-A3QA-01           3.178608     0.960021           96.0%  \n",
       "TCGA-BR-A4J1-01           3.176606     0.959944           96.0%  "
      ]
     },
     "execution_count": 28,
     "metadata": {},
     "output_type": "execute_result"
    }
   ],
   "source": [
    "# Top predictions amongst negatives (potential hidden responders to a targeted cancer therapy)\n",
    "(predict_df\n",
    "    .sort_values('decision_function', ascending=False)\n",
    "    .query(\"status == 0 and feature_set == 'full'\")\n",
    "    .head(10)\n",
    ")"
   ]
  },
  {
   "cell_type": "code",
   "execution_count": 29,
   "metadata": {},
   "outputs": [
    {
     "data": {
      "image/png": "[encoded data removed]",
      "text/plain": [
       "<matplotlib.figure.Figure at 0x7f8112405320>"
      ]
     },
     "metadata": {},
     "output_type": "display_data"
    },
    {
     "data": {
      "text/plain": [
       "<ggplot: (-9223363274835408198)>"
      ]
     },
     "execution_count": 29,
     "metadata": {},
     "output_type": "execute_result"
    }
   ],
   "source": [
    "predict_df['status_'] = predict_df['status'].map(\n",
    "    lambda x: 'negative' if x == 0 else 'positive')\n",
    "\n",
    "(ggplot(predict_df, aes(x='probability', fill='status_'))\n",
    " + geom_density(alpha=0.6)\n",
    " + facet_wrap('~feature_set', ncol=1)\n",
    " + labs(x='probability', y='')\n",
    " + guides(fill=guide_legend(title=\"\")))"
   ]
  }
 ],
 "metadata": {
  "kernelspec": {
   "display_name": "Python 3",
   "language": "python",
   "name": "python3"
  },
  "language_info": {
   "codemirror_mode": {
    "name": "ipython",
    "version": 3
   },
   "file_extension": ".py",
   "mimetype": "text/x-python",
   "name": "python",
   "nbconvert_exporter": "python",
   "pygments_lexer": "ipython3",
   "version": "3.6.2"
  }
 },
 "nbformat": 4,
 "nbformat_minor": 1
}
